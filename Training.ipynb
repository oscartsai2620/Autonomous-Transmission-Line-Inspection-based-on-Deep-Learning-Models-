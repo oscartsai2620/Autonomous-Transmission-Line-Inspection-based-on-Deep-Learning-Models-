{
 "cells": [
  {
   "cell_type": "code",
   "execution_count": 1,
   "id": "c8e24a1c-1630-4978-9948-a2f7244735b4",
   "metadata": {},
   "outputs": [
    {
     "name": "stdout",
     "output_type": "stream",
     "text": [
      "CUDA_VISIBLE_DEVICES was: None\n",
      "CUDA_VISIBLE_DEVICES now: 1\n"
     ]
    }
   ],
   "source": [
    "import os\n",
    "\n",
    "# Show current mask (None → all GPUs visible)\n",
    "print(\"CUDA_VISIBLE_DEVICES was:\", os.getenv(\"CUDA_VISIBLE_DEVICES\"))\n",
    "\n",
    "# ❏ Only use physical GPU 1  (host index)  ──────────────────────────\n",
    "os.environ[\"CUDA_VISIBLE_DEVICES\"] = \"1\"\n",
    "\n",
    "print(\"CUDA_VISIBLE_DEVICES now:\", os.environ[\"CUDA_VISIBLE_DEVICES\"])\n"
   ]
  },
  {
   "cell_type": "code",
   "execution_count": 2,
   "id": "cf706b02-d13b-4e0b-9060-bc0bec56919f",
   "metadata": {
    "scrolled": true
   },
   "outputs": [
    {
     "name": "stdout",
     "output_type": "stream",
     "text": [
      "\u001b[33mWARNING: Ignoring invalid distribution ~umpy (/mnt/sdb/home/si25_osts0525/miniconda3/envs/reu/lib/python3.11/site-packages)\u001b[0m\u001b[33m\n",
      "\u001b[0m\u001b[33mWARNING: Ignoring invalid distribution ~umpy (/mnt/sdb/home/si25_osts0525/miniconda3/envs/reu/lib/python3.11/site-packages)\u001b[0m\u001b[33m\n",
      "\u001b[0mCollecting numpy<2.0\n",
      "  Using cached numpy-1.26.4-cp311-cp311-manylinux_2_17_x86_64.manylinux2014_x86_64.whl.metadata (61 kB)\n",
      "Using cached numpy-1.26.4-cp311-cp311-manylinux_2_17_x86_64.manylinux2014_x86_64.whl (18.3 MB)\n",
      "\u001b[33mWARNING: Ignoring invalid distribution ~umpy (/mnt/sdb/home/si25_osts0525/miniconda3/envs/reu/lib/python3.11/site-packages)\u001b[0m\u001b[33m\n",
      "\u001b[0mInstalling collected packages: numpy\n",
      "  Attempting uninstall: numpy\n",
      "\u001b[33m    WARNING: Ignoring invalid distribution ~umpy (/mnt/sdb/home/si25_osts0525/miniconda3/envs/reu/lib/python3.11/site-packages)\u001b[0m\u001b[33m\n",
      "\u001b[0m    Found existing installation: numpy 2.2.6\n",
      "    Uninstalling numpy-2.2.6:\n",
      "      Successfully uninstalled numpy-2.2.6\n",
      "\u001b[33mWARNING: Ignoring invalid distribution ~umpy (/mnt/sdb/home/si25_osts0525/miniconda3/envs/reu/lib/python3.11/site-packages)\u001b[0m\u001b[33m\n",
      "\u001b[0m\u001b[31mERROR: pip's dependency resolver does not currently take into account all the packages that are installed. This behaviour is the source of the following dependency conflicts.\n",
      "opencv-python 4.12.0.88 requires numpy<2.3.0,>=2; python_version >= \"3.9\", but you have numpy 1.26.4 which is incompatible.\u001b[0m\u001b[31m\n",
      "\u001b[0mSuccessfully installed numpy-1.26.4\n",
      "\u001b[33mWARNING: Ignoring invalid distribution ~umpy (/mnt/sdb/home/si25_osts0525/miniconda3/envs/reu/lib/python3.11/site-packages)\u001b[0m\u001b[33m\n",
      "\u001b[0m\u001b[33mWARNING: Ignoring invalid distribution ~umpy (/mnt/sdb/home/si25_osts0525/miniconda3/envs/reu/lib/python3.11/site-packages)\u001b[0m\u001b[33m\n",
      "\u001b[0m\u001b[33mWARNING: Ignoring invalid distribution ~umpy (/mnt/sdb/home/si25_osts0525/miniconda3/envs/reu/lib/python3.11/site-packages)\u001b[0m\u001b[33m\n",
      "\u001b[0m\u001b[33mWARNING: Ignoring invalid distribution ~umpy (/mnt/sdb/home/si25_osts0525/miniconda3/envs/reu/lib/python3.11/site-packages)\u001b[0m\u001b[33m\n",
      "\u001b[0mRequirement already satisfied: ultralytics in /mnt/sdb/home/si25_osts0525/miniconda3/envs/reu/lib/python3.11/site-packages (8.3.167)\n",
      "Requirement already satisfied: numpy>=1.23.0 in /mnt/sdb/home/si25_osts0525/miniconda3/envs/reu/lib/python3.11/site-packages (from ultralytics) (1.26.4)\n",
      "Requirement already satisfied: matplotlib>=3.3.0 in /mnt/sdb/home/si25_osts0525/miniconda3/envs/reu/lib/python3.11/site-packages (from ultralytics) (3.10.3)\n",
      "Requirement already satisfied: opencv-python>=4.6.0 in /mnt/sdb/home/si25_osts0525/miniconda3/envs/reu/lib/python3.11/site-packages (from ultralytics) (4.12.0.88)\n",
      "Requirement already satisfied: pillow>=7.1.2 in /mnt/sdb/home/si25_osts0525/miniconda3/envs/reu/lib/python3.11/site-packages (from ultralytics) (11.3.0)\n",
      "Requirement already satisfied: pyyaml>=5.3.1 in /mnt/sdb/home/si25_osts0525/miniconda3/envs/reu/lib/python3.11/site-packages (from ultralytics) (6.0.2)\n",
      "Requirement already satisfied: requests>=2.23.0 in /mnt/sdb/home/si25_osts0525/miniconda3/envs/reu/lib/python3.11/site-packages (from ultralytics) (2.32.4)\n",
      "Requirement already satisfied: scipy>=1.4.1 in /mnt/sdb/home/si25_osts0525/miniconda3/envs/reu/lib/python3.11/site-packages (from ultralytics) (1.16.0)\n",
      "Requirement already satisfied: torch>=1.8.0 in /mnt/sdb/home/si25_osts0525/miniconda3/envs/reu/lib/python3.11/site-packages (from ultralytics) (2.6.0)\n",
      "Requirement already satisfied: torchvision>=0.9.0 in /mnt/sdb/home/si25_osts0525/miniconda3/envs/reu/lib/python3.11/site-packages (from ultralytics) (0.21.0)\n",
      "Requirement already satisfied: tqdm>=4.64.0 in /mnt/sdb/home/si25_osts0525/miniconda3/envs/reu/lib/python3.11/site-packages (from ultralytics) (4.67.1)\n",
      "Requirement already satisfied: psutil in /mnt/sdb/home/si25_osts0525/miniconda3/envs/reu/lib/python3.11/site-packages (from ultralytics) (5.9.0)\n",
      "Requirement already satisfied: py-cpuinfo in /mnt/sdb/home/si25_osts0525/miniconda3/envs/reu/lib/python3.11/site-packages (from ultralytics) (9.0.0)\n",
      "Requirement already satisfied: pandas>=1.1.4 in /mnt/sdb/home/si25_osts0525/miniconda3/envs/reu/lib/python3.11/site-packages (from ultralytics) (2.3.1)\n",
      "Requirement already satisfied: ultralytics-thop>=2.0.0 in /mnt/sdb/home/si25_osts0525/miniconda3/envs/reu/lib/python3.11/site-packages (from ultralytics) (2.0.14)\n",
      "Requirement already satisfied: contourpy>=1.0.1 in /mnt/sdb/home/si25_osts0525/miniconda3/envs/reu/lib/python3.11/site-packages (from matplotlib>=3.3.0->ultralytics) (1.3.2)\n",
      "Requirement already satisfied: cycler>=0.10 in /mnt/sdb/home/si25_osts0525/miniconda3/envs/reu/lib/python3.11/site-packages (from matplotlib>=3.3.0->ultralytics) (0.12.1)\n",
      "Requirement already satisfied: fonttools>=4.22.0 in /mnt/sdb/home/si25_osts0525/miniconda3/envs/reu/lib/python3.11/site-packages (from matplotlib>=3.3.0->ultralytics) (4.58.5)\n",
      "Requirement already satisfied: kiwisolver>=1.3.1 in /mnt/sdb/home/si25_osts0525/miniconda3/envs/reu/lib/python3.11/site-packages (from matplotlib>=3.3.0->ultralytics) (1.4.8)\n",
      "Requirement already satisfied: packaging>=20.0 in /mnt/sdb/home/si25_osts0525/miniconda3/envs/reu/lib/python3.11/site-packages (from matplotlib>=3.3.0->ultralytics) (24.2)\n",
      "Requirement already satisfied: pyparsing>=2.3.1 in /mnt/sdb/home/si25_osts0525/miniconda3/envs/reu/lib/python3.11/site-packages (from matplotlib>=3.3.0->ultralytics) (3.2.3)\n",
      "Requirement already satisfied: python-dateutil>=2.7 in /mnt/sdb/home/si25_osts0525/miniconda3/envs/reu/lib/python3.11/site-packages (from matplotlib>=3.3.0->ultralytics) (2.9.0.post0)\n",
      "Collecting numpy>=1.23.0 (from ultralytics)\n",
      "  Using cached numpy-2.2.6-cp311-cp311-manylinux_2_17_x86_64.manylinux2014_x86_64.whl.metadata (62 kB)\n",
      "Requirement already satisfied: pytz>=2020.1 in /mnt/sdb/home/si25_osts0525/miniconda3/envs/reu/lib/python3.11/site-packages (from pandas>=1.1.4->ultralytics) (2025.2)\n",
      "Requirement already satisfied: tzdata>=2022.7 in /mnt/sdb/home/si25_osts0525/miniconda3/envs/reu/lib/python3.11/site-packages (from pandas>=1.1.4->ultralytics) (2025.2)\n",
      "Requirement already satisfied: six>=1.5 in /mnt/sdb/home/si25_osts0525/miniconda3/envs/reu/lib/python3.11/site-packages (from python-dateutil>=2.7->matplotlib>=3.3.0->ultralytics) (1.17.0)\n",
      "Requirement already satisfied: charset_normalizer<4,>=2 in /mnt/sdb/home/si25_osts0525/miniconda3/envs/reu/lib/python3.11/site-packages (from requests>=2.23.0->ultralytics) (3.3.2)\n",
      "Requirement already satisfied: idna<4,>=2.5 in /mnt/sdb/home/si25_osts0525/miniconda3/envs/reu/lib/python3.11/site-packages (from requests>=2.23.0->ultralytics) (3.7)\n",
      "Requirement already satisfied: urllib3<3,>=1.21.1 in /mnt/sdb/home/si25_osts0525/miniconda3/envs/reu/lib/python3.11/site-packages (from requests>=2.23.0->ultralytics) (2.5.0)\n",
      "Requirement already satisfied: certifi>=2017.4.17 in /mnt/sdb/home/si25_osts0525/miniconda3/envs/reu/lib/python3.11/site-packages (from requests>=2.23.0->ultralytics) (2025.6.15)\n",
      "Requirement already satisfied: filelock in /mnt/sdb/home/si25_osts0525/miniconda3/envs/reu/lib/python3.11/site-packages (from torch>=1.8.0->ultralytics) (3.18.0)\n",
      "Requirement already satisfied: typing-extensions>=4.10.0 in /mnt/sdb/home/si25_osts0525/miniconda3/envs/reu/lib/python3.11/site-packages (from torch>=1.8.0->ultralytics) (4.12.2)\n",
      "Requirement already satisfied: networkx in /mnt/sdb/home/si25_osts0525/miniconda3/envs/reu/lib/python3.11/site-packages (from torch>=1.8.0->ultralytics) (3.5)\n",
      "Requirement already satisfied: jinja2 in /mnt/sdb/home/si25_osts0525/miniconda3/envs/reu/lib/python3.11/site-packages (from torch>=1.8.0->ultralytics) (3.1.6)\n",
      "Requirement already satisfied: fsspec in /mnt/sdb/home/si25_osts0525/miniconda3/envs/reu/lib/python3.11/site-packages (from torch>=1.8.0->ultralytics) (2025.7.0)\n",
      "Requirement already satisfied: nvidia-cuda-nvrtc-cu12==12.4.127 in /mnt/sdb/home/si25_osts0525/miniconda3/envs/reu/lib/python3.11/site-packages (from torch>=1.8.0->ultralytics) (12.4.127)\n",
      "Requirement already satisfied: nvidia-cuda-runtime-cu12==12.4.127 in /mnt/sdb/home/si25_osts0525/miniconda3/envs/reu/lib/python3.11/site-packages (from torch>=1.8.0->ultralytics) (12.4.127)\n",
      "Requirement already satisfied: nvidia-cuda-cupti-cu12==12.4.127 in /mnt/sdb/home/si25_osts0525/miniconda3/envs/reu/lib/python3.11/site-packages (from torch>=1.8.0->ultralytics) (12.4.127)\n",
      "Requirement already satisfied: nvidia-cudnn-cu12==9.1.0.70 in /mnt/sdb/home/si25_osts0525/miniconda3/envs/reu/lib/python3.11/site-packages (from torch>=1.8.0->ultralytics) (9.1.0.70)\n",
      "Requirement already satisfied: nvidia-cublas-cu12==12.4.5.8 in /mnt/sdb/home/si25_osts0525/miniconda3/envs/reu/lib/python3.11/site-packages (from torch>=1.8.0->ultralytics) (12.4.5.8)\n",
      "Requirement already satisfied: nvidia-cufft-cu12==11.2.1.3 in /mnt/sdb/home/si25_osts0525/miniconda3/envs/reu/lib/python3.11/site-packages (from torch>=1.8.0->ultralytics) (11.2.1.3)\n",
      "Requirement already satisfied: nvidia-curand-cu12==10.3.5.147 in /mnt/sdb/home/si25_osts0525/miniconda3/envs/reu/lib/python3.11/site-packages (from torch>=1.8.0->ultralytics) (10.3.5.147)\n",
      "Requirement already satisfied: nvidia-cusolver-cu12==11.6.1.9 in /mnt/sdb/home/si25_osts0525/miniconda3/envs/reu/lib/python3.11/site-packages (from torch>=1.8.0->ultralytics) (11.6.1.9)\n",
      "Requirement already satisfied: nvidia-cusparse-cu12==12.3.1.170 in /mnt/sdb/home/si25_osts0525/miniconda3/envs/reu/lib/python3.11/site-packages (from torch>=1.8.0->ultralytics) (12.3.1.170)\n",
      "Requirement already satisfied: nvidia-cusparselt-cu12==0.6.2 in /mnt/sdb/home/si25_osts0525/miniconda3/envs/reu/lib/python3.11/site-packages (from torch>=1.8.0->ultralytics) (0.6.2)\n",
      "Requirement already satisfied: nvidia-nccl-cu12==2.21.5 in /mnt/sdb/home/si25_osts0525/miniconda3/envs/reu/lib/python3.11/site-packages (from torch>=1.8.0->ultralytics) (2.21.5)\n",
      "Requirement already satisfied: nvidia-nvtx-cu12==12.4.127 in /mnt/sdb/home/si25_osts0525/miniconda3/envs/reu/lib/python3.11/site-packages (from torch>=1.8.0->ultralytics) (12.4.127)\n",
      "Requirement already satisfied: nvidia-nvjitlink-cu12==12.4.127 in /mnt/sdb/home/si25_osts0525/miniconda3/envs/reu/lib/python3.11/site-packages (from torch>=1.8.0->ultralytics) (12.4.127)\n",
      "Requirement already satisfied: triton==3.2.0 in /mnt/sdb/home/si25_osts0525/miniconda3/envs/reu/lib/python3.11/site-packages (from torch>=1.8.0->ultralytics) (3.2.0)\n",
      "Requirement already satisfied: sympy==1.13.1 in /mnt/sdb/home/si25_osts0525/miniconda3/envs/reu/lib/python3.11/site-packages (from torch>=1.8.0->ultralytics) (1.13.1)\n",
      "Requirement already satisfied: mpmath<1.4,>=1.1.0 in /mnt/sdb/home/si25_osts0525/miniconda3/envs/reu/lib/python3.11/site-packages (from sympy==1.13.1->torch>=1.8.0->ultralytics) (1.3.0)\n",
      "Requirement already satisfied: MarkupSafe>=2.0 in /mnt/sdb/home/si25_osts0525/miniconda3/envs/reu/lib/python3.11/site-packages (from jinja2->torch>=1.8.0->ultralytics) (3.0.2)\n",
      "Using cached numpy-2.2.6-cp311-cp311-manylinux_2_17_x86_64.manylinux2014_x86_64.whl (16.8 MB)\n",
      "\u001b[33mWARNING: Ignoring invalid distribution ~umpy (/mnt/sdb/home/si25_osts0525/miniconda3/envs/reu/lib/python3.11/site-packages)\u001b[0m\u001b[33m\n",
      "\u001b[0mInstalling collected packages: numpy\n",
      "  Attempting uninstall: numpy\n",
      "    Found existing installation: numpy 1.26.4\n",
      "    Uninstalling numpy-1.26.4:\n",
      "      Successfully uninstalled numpy-1.26.4\n",
      "\u001b[33mWARNING: Ignoring invalid distribution ~umpy (/mnt/sdb/home/si25_osts0525/miniconda3/envs/reu/lib/python3.11/site-packages)\u001b[0m\u001b[33m\n",
      "\u001b[0mSuccessfully installed numpy-2.2.6\n",
      "\u001b[33mWARNING: Ignoring invalid distribution ~umpy (/mnt/sdb/home/si25_osts0525/miniconda3/envs/reu/lib/python3.11/site-packages)\u001b[0m\u001b[33m\n",
      "\u001b[0m\u001b[33mWARNING: Ignoring invalid distribution ~umpy (/mnt/sdb/home/si25_osts0525/miniconda3/envs/reu/lib/python3.11/site-packages)\u001b[0m\u001b[33m\n",
      "\u001b[0m\u001b[33mWARNING: Ignoring invalid distribution ~umpy (/mnt/sdb/home/si25_osts0525/miniconda3/envs/reu/lib/python3.11/site-packages)\u001b[0m\u001b[33m\n",
      "\u001b[0m\u001b[33mWARNING: Ignoring invalid distribution ~umpy (/mnt/sdb/home/si25_osts0525/miniconda3/envs/reu/lib/python3.11/site-packages)\u001b[0m\u001b[33m\n",
      "\u001b[0mRequirement already satisfied: scikit-learn in /mnt/sdb/home/si25_osts0525/miniconda3/envs/reu/lib/python3.11/site-packages (1.7.0)\n",
      "Requirement already satisfied: numpy>=1.22.0 in /mnt/sdb/home/si25_osts0525/miniconda3/envs/reu/lib/python3.11/site-packages (from scikit-learn) (2.2.6)\n",
      "Requirement already satisfied: scipy>=1.8.0 in /mnt/sdb/home/si25_osts0525/miniconda3/envs/reu/lib/python3.11/site-packages (from scikit-learn) (1.16.0)\n",
      "Requirement already satisfied: joblib>=1.2.0 in /mnt/sdb/home/si25_osts0525/miniconda3/envs/reu/lib/python3.11/site-packages (from scikit-learn) (1.5.1)\n",
      "Requirement already satisfied: threadpoolctl>=3.1.0 in /mnt/sdb/home/si25_osts0525/miniconda3/envs/reu/lib/python3.11/site-packages (from scikit-learn) (3.6.0)\n",
      "\u001b[33mWARNING: Ignoring invalid distribution ~umpy (/mnt/sdb/home/si25_osts0525/miniconda3/envs/reu/lib/python3.11/site-packages)\u001b[0m\u001b[33m\n",
      "\u001b[0m\u001b[33mWARNING: Ignoring invalid distribution ~umpy (/mnt/sdb/home/si25_osts0525/miniconda3/envs/reu/lib/python3.11/site-packages)\u001b[0m\u001b[33m\n",
      "\u001b[0m\u001b[33mWARNING: Ignoring invalid distribution ~umpy (/mnt/sdb/home/si25_osts0525/miniconda3/envs/reu/lib/python3.11/site-packages)\u001b[0m\u001b[33m\n",
      "\u001b[0m\u001b[33mWARNING: Ignoring invalid distribution ~umpy (/mnt/sdb/home/si25_osts0525/miniconda3/envs/reu/lib/python3.11/site-packages)\u001b[0m\u001b[33m\n",
      "\u001b[0m"
     ]
    }
   ],
   "source": [
    "!pip install \"numpy<2.0\"        # gets wheel 1.26.4 (glibc ≥ 2.17)\n",
    "!pip install ultralytics\n",
    "!pip install scikit-learn"
   ]
  },
  {
   "cell_type": "code",
   "execution_count": 3,
   "id": "1f399447-82aa-4055-b8ef-7fe072f97763",
   "metadata": {},
   "outputs": [],
   "source": [
    "import ultralytics\n",
    "import glob\n",
    "import shutil, yaml\n",
    "import random\n",
    "from pathlib import Path\n",
    "from collections import Counter\n",
    "import re, os\n",
    "import sys\n",
    "\n",
    "import pandas as pd\n",
    "import numpy as np\n",
    "import matplotlib.pyplot as plt\n",
    "\n",
    "from sklearn.model_selection import train_test_split\n",
    "from ultralytics import YOLO\n",
    "from sklearn.metrics import confusion_matrix"
   ]
  },
  {
   "cell_type": "code",
   "execution_count": 4,
   "id": "2a109f63-02fd-455e-9933-ef9d62fd22ac",
   "metadata": {},
   "outputs": [],
   "source": [
    "#set seed\n",
    "random.seed(42)\n",
    "\n",
    "root_dir = \"/mnt/sdb/home/si25_osts0525/UAV_Inspection_System\" #fix to your root directory\n",
    "data_dir = root_dir + \"/dataset\"\n",
    "source_data_yaml = os.path.join(data_dir, \"source/data.yaml\")\n",
    "target_data_yaml = os.path.join(data_dir, \"target/data.yaml\")\n",
    "\n",
    "#create results directories\n",
    "source_result_dir = os.path.join(root_dir, \"source_results\")\n",
    "target_result_dir = os.path.join(root_dir, \"target_results\")\n",
    "src_eval_result_dir = os.path.join(root_dir, \"test_results/Pretrained\")\n",
    "tar_eval_result_dir = os.path.join(root_dir, \"test_results/Target\")\n",
    "os.makedirs(source_result_dir, exist_ok=True)\n",
    "os.makedirs(target_result_dir, exist_ok=True)\n",
    "os.makedirs(src_eval_result_dir, exist_ok=True)\n",
    "os.makedirs(tar_eval_result_dir, exist_ok=True)\n",
    "\n",
    "resume_model = \"\"\n",
    "checkpoint = 0\n",
    "global checkpoint"
   ]
  },
  {
   "cell_type": "code",
   "execution_count": 40,
   "id": "5c74e7a2-f861-41a6-8803-5c38be98f71f",
   "metadata": {},
   "outputs": [],
   "source": [
    "def training_pipeline(CVmodel, src_yaml, tar_yaml, \n",
    "                      src_eps = 150, tar_eps = 150, fine_tune_eps = 100, imgsiz = 640, \n",
    "                      resume = False, resume_directory = \"\"):\n",
    "    global checkpoint\n",
    "    model_name = CVmodel.split(\".\")[0]\n",
    "\n",
    "    # #-------------------------------------Pretain the model on the SOURCE dataset -------------------------------------\n",
    "    # model = YOLO()\n",
    "    # if resume == True and CVmodel == resume_model and checkpoint == 1:\n",
    "    #     print(\"Resume training model on SOURCE set...\")\n",
    "    #     model = YOLO(resume_directory / \"last.pt\")\n",
    "    #     model.train(resume = True)\n",
    "\n",
    "    # elif resume == False:\n",
    "    #     print(\"Pre-training model on SOURCE set...\")\n",
    "    #     #training stage 1\n",
    "    #     model = YOLO(CVmodel)\n",
    "    #     checkpoint = 1\n",
    "    #     result = os.path.join(source_result_dir, model_name)\n",
    "    #     model.train( data = src_yaml,\n",
    "    #                             epochs = src_eps, \n",
    "    #                             imgsz = imgsiz,\n",
    "    #                             batch = 16,\n",
    "    #                             project = result,\n",
    "    #                             name = f\"inspection_{model_name}\", \n",
    "    #                             workers = 12, #add worker threads to improve training speed, useful for multi-GPU setup\n",
    "    #                             cache = 'disk', #improve training speed by adding cache/using more memory\n",
    "    #                             amp = True,\n",
    "    #                             device = [-1, -1],\n",
    "\n",
    "    #                             #Augmentation\n",
    "    #                             lr0 = 0.01, lrf = 0.001,\n",
    "    #                             optimizer     = \"SGD\",\n",
    "    #                             momentum      = 0.937,\n",
    "    #                             weight_decay  = 5e-4,\n",
    "    #                             degrees       = 45,\n",
    "    #                             shear         = 2.0,\n",
    "    #                             mosaic        = 1.0,\n",
    "    #                             mixup         = 0.20,\n",
    "    #                             hsv_h         = 0.015,\n",
    "    #                             hsv_s         = 0.70,\n",
    "    #                             hsv_v         = 0.40,\n",
    "    #                             patience      = 100  #for early stop if model stop improving\n",
    "    #                         )\n",
    "\n",
    "    # if (resume == False) or (resume == True and CVmodel == resume_model and checkpoint == 1) :\n",
    "    #     #rectrieve the weight / pretrained model\n",
    "    #     pr_model_pt = model.trainer.save_dir / \"weights\" / \"best.pt\"\n",
    "    #     model.val(data = src_yaml, split = \"test\", device = [-1, -1], conf = 0.4, iou = 0.6,\n",
    "    #                     imgsz = imgsiz, batch = 16,\n",
    "    #                     save_json = True, plots = True, save_txt = True, save_conf = True,\n",
    "    #                     project = src_eval_result_dir, name = f\"inspection_{model_name}\"\n",
    "    #                    )\n",
    "    #     if os.path.exists(pr_model_pt):\n",
    "    #         print(\"Pretrained model exists\")\n",
    "    #     else:\n",
    "    #         print(\"Pretrained model does not exists\")\n",
    "\n",
    "\n",
    "    # #-------------------------------------Continue training model on the TARGET dataset -------------------------------------\n",
    "\n",
    "    # if resume == True and CVmodel == resume_model and checkpoint == 2:\n",
    "    #     print(\"Resume training model on TARGET set...\")\n",
    "    #     model = YOLO(resume_directory / \"last.pt\")\n",
    "    #     model.train(resume = True)\n",
    "        \n",
    "    # else:\n",
    "    #     print(\"Continue training on TARGET set...\")\n",
    "    \n",
    "    #     #training from scratch stage\n",
    "    #     if CVmodel.split(\".\")[1] == \"yaml\":\n",
    "    #         model_name = model_name + f\"_scratch{tar_eps}\"\n",
    "    #         checkpoint = 2\n",
    "\n",
    "            \n",
    "    #         model = YOLO(CVmodel)\n",
    "    #         result = os.path.join(target_result_dir, model_name)\n",
    "    #         model.train( data = tar_yaml,\n",
    "    #                                 epochs = tar_eps, \n",
    "    #                                 imgsz = imgsiz,\n",
    "    #                                 batch = 8,\n",
    "    #                                 project = result,\n",
    "    #                                 name = f\"inspection_{model_name}\", \n",
    "    #                                 # freeze = 10, #freeze layers for transfer learning\n",
    "    #                                 workers = 10, #add worker threads to improve training speed, useful for multi-GPU setup\n",
    "    #                                 cache = 'disk', #improve training speed by adding cache/using more memory\n",
    "    #                                 amp = True,\n",
    "    #                                 device = [-1, -1],\n",
    "    \n",
    "    #                                 #Augmentation\n",
    "    #                                 lr0 = 0.01, lrf = 0.01,\n",
    "    #                                 # momentum        = 0.90,\n",
    "    #                                 # shear           = 15,\n",
    "    #                                 # degrees         = 15,\n",
    "    #                                 # translate       = 0.1,\n",
    "    #                                 # mosaic          = 0.5,\n",
    "    #                                 # hsv_h           = 0.015,\n",
    "    #                                 # hsv_s           = 0.50,\n",
    "    #                                 # hsv_v           = 0.30,\n",
    "    #                                 # label_smoothing = 0.05,\n",
    "    #                                 # # class_weights   = cls_weights,  # ← from previous message\n",
    "    #                                 # patience        = 50  #for early stop if model stop improving\n",
    "    #                             )\n",
    "\n",
    "    #     #transfer learning stage\n",
    "    #     else:\n",
    "\n",
    "    #         #target dataset stage, freeze backbone layers\n",
    "    #         model = YOLO(CVmodel)\n",
    "    #         checkpoint = 2\n",
    "    #         model_name1 = model_name + \"_freeze10\"\n",
    "    #         model_name2 = model_name + \"_finetune\"\n",
    "    #         result = os.path.join(target_result_dir, model_name1)\n",
    "    #         model.train( data = tar_yaml,\n",
    "    #                                 epochs = tar_eps, \n",
    "    #                                 imgsz = imgsiz,\n",
    "    #                                 batch = 8,\n",
    "    #                                 project = result,\n",
    "    #                                 name = f\"inspection_{model_name1}\", \n",
    "    #                                 freeze = 10, #freeze layers for transfer learning\n",
    "    #                                 workers = 10, #add worker threads to improve training speed, useful for multi-GPU setup\n",
    "    #                                 cache = 'disk', #improve training speed by adding cache/using more memory\n",
    "    #                                 amp = True,\n",
    "    #                                 device = [-1, -1],\n",
    "    \n",
    "    #                                 #Augmentation\n",
    "    #                                 lr0 = 0.003, lrf = 0.0005,\n",
    "    #                                 # momentum        = 0.90,\n",
    "    #                                 # shear           = 15,\n",
    "    #                                 # degrees         = 15,\n",
    "    #                                 # translate       = 0.1,\n",
    "    #                                 # mosaic          = 0.5,\n",
    "    #                                 # hsv_h           = 0.015,\n",
    "    #                                 # hsv_s           = 0.50,\n",
    "    #                                 # hsv_v           = 0.30,\n",
    "    #                                 # label_smoothing = 0.05,\n",
    "    #                                 # patience        = 50  #for early stop if model stop improving\n",
    "    #                             )\n",
    "    #         pt = model.trainer.save_dir / \"weights\" / \"best.pt\"\n",
    "\n",
    "    #         #fine-tuning stage, unfreeze backbone layers\n",
    "    #         model = YOLO(pt)\n",
    "    #         result = os.path.join(target_result_dir, model_name2)\n",
    "    #         model.train( data = tar_yaml,\n",
    "    #                                 epochs = fine_tune_eps, \n",
    "    #                                 imgsz = imgsiz,\n",
    "    #                                 batch = 8,\n",
    "    #                                 project = result,\n",
    "    #                                 name = f\"inspection_{model_name2}\", \n",
    "    #                                 # freeze = 10, #freeze layers for transfer learning\n",
    "    #                                 workers = 10, #add worker threads to improve training speed, useful for multi-GPU setup\n",
    "    #                                 cache = 'disk', #improve training speed by adding cache/using more memory\n",
    "    #                                 amp = True,\n",
    "    #                                 device = [-1, -1],\n",
    "    \n",
    "    #                                 #Augmentation\n",
    "    #                                 lr0 = 0.003, lrf = 0.1535,\n",
    "    #                                 # momentum        = 0.90,\n",
    "    #                                 # shear           = 15,\n",
    "    #                                 # degrees         = 15,\n",
    "    #                                 # translate       = 0.1,\n",
    "    #                                 # mosaic          = 0.5,\n",
    "    #                                 # hsv_h           = 0.015,\n",
    "    #                                 # hsv_s           = 0.50,\n",
    "    #                                 # hsv_v           = 0.30,\n",
    "    #                                 # label_smoothing = 0.05,\n",
    "    #                                 # patience        = 50  #for early stop if model stop improving\n",
    "    #                             )\n",
    "            \n",
    "\n",
    "    # finish_pt = model.trainer.save_dir / \"weights\" / \"best.pt\"\n",
    "\n",
    "     #-------------------------------------Testing model on TEST set -------------------------------------\n",
    "    print(\"Evaluate on TEST set...\")\n",
    "\n",
    "    #-------------------------------------ONLY WHEN TRYING TO GRAB EVALUATION AGAIN AFTER TRAINING-------------------------------------\n",
    "    finish_pt = os.path.join(target_result_dir, f\"{model_name}_finetune/inspection_{model_name}_finetune/weights/best.pt\")\n",
    "    # finish_pt = os.path.join(target_result_dir, f\"{model_name}_scratch{tar_eps}/inspection_{model_name}_scratch{tar_eps}/weights/best.pt\")\n",
    "    #----------------------------------------------------------------------------------------------------------------------------------\n",
    "    \n",
    "    model = YOLO(finish_pt)\n",
    "    metrics = model.val(data = tar_yaml, split = \"test\", device = [-1, -1], conf = 0.4, iou = 0.6,\n",
    "                        imgsz = imgsiz, batch = 16,\n",
    "                        save_json = True, plots = True, save_txt = True, save_conf = True,\n",
    "                        project = tar_eval_result_dir, name = f\"inspection_{model_name}\"\n",
    "                       )\n",
    "    \n",
    "    return CVmodel, metrics\n",
    "    \n",
    "                        "
   ]
  },
  {
   "cell_type": "code",
   "execution_count": 30,
   "id": "933317be-5dc8-4777-8f2c-60da30f3d20a",
   "metadata": {},
   "outputs": [],
   "source": [
    "#----------------------------------------- Add Class Weights to YAML -----------------------------------------\n",
    "def compute_class_weights(dataset_root=Path(\"dataset/target\"),  splits=(\"train\", \"val\"), n_classes=7):\n",
    "    \"\"\"\n",
    "    Scan YOLO label files and compute class_weight list\n",
    "    using the \"median-frequencing balancing\" method .\n",
    "\n",
    "    Returns: List[float] of length n_classes (0 if class never appears).\n",
    "    \"\"\"\n",
    "    # get counts\n",
    "    total_counts = Counter()\n",
    "    for s in splits:\n",
    "        for txt in (dataset_root / s / \"labels\").glob(\"*.txt\"):\n",
    "            with open(txt) as f:\n",
    "                for line in f:\n",
    "                    cls_id = int(line.split()[0])\n",
    "                    total_counts[cls_id] += 1\n",
    "\n",
    "    # build an array with class ids\n",
    "    counts = np.zeros(n_classes, dtype=float)\n",
    "    for cls_id, c in total_counts.items():\n",
    "        counts[cls_id] = c\n",
    "\n",
    "    if counts.sum() == 0:\n",
    "        raise RuntimeError(\"No objects found – check dataset_root and splits!\")\n",
    "\n",
    "    # compute weights\n",
    "    med = np.median(counts[counts > 0])          # ignore empty classes\n",
    "    weights = np.where(counts > 0, med / counts, 0.0)\n",
    "\n",
    "    print(f\"\\nCounts per class  : {counts.astype(int).tolist()}\")\n",
    "    print(f\"Median of counts  : {med}\")\n",
    "    print(f\"class_weights list: {weights.round(3).tolist()}\")\n",
    "\n",
    "    return weights.round(6).tolist()"
   ]
  },
  {
   "cell_type": "code",
   "execution_count": 31,
   "id": "95e5ba33-46fe-4261-ba24-c243a06f3a9f",
   "metadata": {},
   "outputs": [
    {
     "name": "stdout",
     "output_type": "stream",
     "text": [
      "\n",
      "Counts per class  : [624, 621, 273, 1207, 3767, 2149, 1500]\n",
      "Median of counts  : 1207.0\n",
      "class_weights list: [1.934, 1.944, 4.421, 1.0, 0.32, 0.562, 0.805]\n"
     ]
    }
   ],
   "source": [
    "#Computing class weights\n",
    "cls_weights = compute_class_weights(\n",
    "    dataset_root = Path(\"dataset/target\"),  # or \"dataset/source\"\n",
    "    splits       = (\"train\", \"val\"),        # add \"test\" if desired\n",
    "    n_classes    = 7\n",
    ")\n",
    "cls_weights_cfg = {\"class_weights\" : cls_weights}"
   ]
  },
  {
   "cell_type": "code",
   "execution_count": 32,
   "id": "432a2dad-b842-4728-b452-58837077b975",
   "metadata": {},
   "outputs": [],
   "source": [
    "# Right now add class weights to ONLY target data.yaml\n",
    "# Load the existing YAML file\n",
    "yaml_file_path = target_data_yaml\n",
    "with open(yaml_file_path, \"r\") as file:\n",
    "    data = yaml.safe_load(file)\n",
    "\n",
    "# Add or update the class_weights in the YAML content\n",
    "data['class_weights'] = cls_weights_cfg['class_weights']\n",
    "\n",
    "# Write the updated YAML back to the file\n",
    "with open(yaml_file_path, \"w\") as file:\n",
    "    yaml.dump(data, file)\n"
   ]
  },
  {
   "cell_type": "code",
   "execution_count": 24,
   "id": "fb57cf90-3417-44e0-bb2a-e9cdcfb773fe",
   "metadata": {},
   "outputs": [
    {
     "name": "stdout",
     "output_type": "stream",
     "text": [
      "Evaluate on TEST set...\n",
      "Searching for 2 idle GPUs with free memory >= 20.0% and free utilization >= 0.0%...\n",
      "Selected idle CUDA devices [1, 2]\n",
      "Ultralytics 8.3.167 🚀 Python-3.11.13 torch-2.6.0+cu124 CUDA:1 (Quadro RTX 6000, 24024MiB)\n",
      "                                                        CUDA:2 (Quadro RTX 6000, 24024MiB)\n",
      "YOLOv5n summary (fused): 84 layers, 2,504,309 parameters, 0 gradients, 7.1 GFLOPs\n",
      "\u001b[34m\u001b[1mval: \u001b[0mFast image access ✅ (ping: 0.0±0.0 ms, read: 947.9±345.4 MB/s, size: 42.2 KB)\n"
     ]
    },
    {
     "name": "stderr",
     "output_type": "stream",
     "text": [
      "\u001b[34m\u001b[1mval: \u001b[0mScanning /mnt/sdb/home/si25_osts0525/UAV_Inspection_System/dataset/target/test/labels.cache... 537 images, 0 backgrounds, 0 corrupt: 100%|██████████| 537/537 [00:00<?, ?i\u001b[0m\n",
      "                 Class     Images  Instances      Box(P          R      mAP50  mAP50-95): 100%|██████████| 34/34 [00:06<00:00,  5.44it/s]\n"
     ]
    },
    {
     "name": "stdout",
     "output_type": "stream",
     "text": [
      "                   all        537       1842      0.801      0.673      0.763      0.473\n",
      "              Birdnest         96         99      0.733      0.778      0.793      0.404\n",
      "      Broken_Insulator         78        114      0.842      0.746      0.839      0.563\n",
      "      Defective_Damper         33         66      0.771      0.561      0.705      0.436\n",
      "   Flashover_Insulator         75        198       0.81      0.581      0.703      0.394\n",
      "         Normal_Damper        168        597      0.809      0.616      0.735      0.447\n",
      "     Normal_Insulators        189        486       0.76      0.685      0.727      0.496\n",
      "Self-Exploded_Insulator        219        282      0.882      0.745      0.842      0.573\n",
      "Speed: 0.6ms preprocess, 3.5ms inference, 0.0ms loss, 0.8ms postprocess per image\n",
      "Saving /mnt/sdb/home/si25_osts0525/UAV_Inspection_System/test_results/Target/inspection_yolov5n3/predictions.json...\n",
      "Results saved to \u001b[1m/mnt/sdb/home/si25_osts0525/UAV_Inspection_System/test_results/Target/inspection_yolov5n3\u001b[0m\n"
     ]
    }
   ],
   "source": [
    "#-----------------------------------------Initiate Training -----------------------------------------\n",
    "test_models = [\"yolov5n.yaml\"]\n",
    "result_maps = {}\n",
    "result_precision = {}\n",
    "result_recall = {}\n",
    "result_f1 = {}\n",
    "result_preprocess_speed = {}\n",
    "result_inference_speed = {}\n",
    "result_postprocess_speed = {}\n",
    "\n",
    "#CHANGE EPOCHS HERE\n",
    "source_epochs = 250\n",
    "target_epochs = 600\n",
    "\n",
    "for model in test_models:\n",
    "    resume_model = model\n",
    "    name, metrics = training_pipeline(CVmodel = model, \n",
    "                                      src_yaml = source_data_yaml, \n",
    "                                      tar_yaml = target_data_yaml,\n",
    "                                      src_eps = source_epochs,\n",
    "                                      tar_eps = target_epochs)\n",
    "    result_maps[name] = metrics.box.map50\n",
    "    result_precision[name] = metrics.box.p\n",
    "    result_recall[name] = metrics.box.r\n",
    "    result_f1[name] = metrics.box.f1\n",
    "    result_preprocess_speed[name] = metrics.speed[\"preprocess\"]\n",
    "    result_inference_speed[name] = metrics.speed[\"inference\"]\n",
    "    result_postprocess_speed[name] = metrics.speed[\"postprocess\"]\n",
    "    "
   ]
  },
  {
   "cell_type": "code",
   "execution_count": 23,
   "id": "04750bd6-62c7-4b06-a831-05dda3217906",
   "metadata": {},
   "outputs": [
    {
     "name": "stdout",
     "output_type": "stream",
     "text": [
      "========================================================================\n",
      "MODEL SUMMARY (overall)\n",
      "========================================================================\n",
      "Model          mAP50  P(mean)  R(mean) F1(mean)  Pre(ms) Infer(ms) Post(ms)\n",
      "------------------------------------------------------------------------\n",
      "yolov8n.yaml   0.770    0.802    0.680    0.733     0.62      2.49     2.15\n",
      "\n",
      "Detailed per-class metrics (Precision / Recall / F1):\n",
      "\n",
      "[yolov8n.yaml]\n",
      "Class                             P      R     F1\n",
      "Birdnest                      0.743  0.788  0.765\n",
      "Broken_Insulator              0.845  0.719  0.777\n",
      "Defective_Damper              0.745  0.576  0.650\n",
      "Flashover_Insulator           0.809  0.576  0.673\n",
      "Normal_Damper                 0.807  0.638  0.713\n",
      "Normal_Insulators             0.776  0.726  0.750\n",
      "Self-Exploded_Insulator       0.888  0.734  0.804\n",
      "\n"
     ]
    }
   ],
   "source": [
    "#----------------------------------------- Evaluation Matrices -----------------------------------------\n",
    "\n",
    "# edit this list to match your dataset class order ---\n",
    "class_names = [\n",
    "    \"Birdnest\",\n",
    "    \"Broken_Insulator\",\n",
    "    \"Defective_Damper\",\n",
    "    \"Flashover_Insulator\",\n",
    "    \"Normal_Damper\",\n",
    "    \"Normal_Insulators\",\n",
    "    \"Self-Exploded_Insulator\",\n",
    "]\n",
    "\n",
    "def _to_array(x):\n",
    "    return np.array(x, dtype=float)\n",
    "\n",
    "print(\"=\"*72)\n",
    "print(\"MODEL SUMMARY (overall)\")\n",
    "print(\"=\"*72)\n",
    "header = f\"{'Model':12s} {'mAP50':>7s} {'P(mean)':>8s} {'R(mean)':>8s} {'F1(mean)':>8s} {'Pre(ms)':>8s} {'Infer(ms)':>9s} {'Post(ms)':>8s}\"\n",
    "print(header)\n",
    "print(\"-\"*72)\n",
    "\n",
    "# test_models list has filenames; use split to get the dict key names you stored\n",
    "for model in test_models:\n",
    "    key = model          # you stored metrics under this name\n",
    "    map50 = float(result_maps[key])\n",
    "    p_mean = float(_to_array(result_precision[key]).mean())\n",
    "    r_mean = float(_to_array(result_recall[key]).mean())\n",
    "    f1_mean = float(_to_array(result_f1[key]).mean())\n",
    "    pre = float(result_preprocess_speed[key])\n",
    "    infer = float(result_inference_speed[key])\n",
    "    post = float(result_postprocess_speed[key])\n",
    "    print(f\"{key:12s} {map50:7.3f} {p_mean:8.3f} {r_mean:8.3f} {f1_mean:8.3f} {pre:8.2f} {infer:9.2f} {post:8.2f}\")\n",
    "\n",
    "print(\"\\nDetailed per-class metrics (Precision / Recall / F1):\")\n",
    "for model in test_models:\n",
    "    key = model\n",
    "    P = _to_array(result_precision[key])\n",
    "    R = _to_array(result_recall[key])\n",
    "    F1 = _to_array(result_f1[key])\n",
    "    print(f\"\\n[{key}]\")\n",
    "    print(f\"{'Class':28s} {'P':>6s} {'R':>6s} {'F1':>6s}\")\n",
    "    for i, cname in enumerate(class_names):\n",
    "        p = P[i] if i < len(P) else float(\"nan\")\n",
    "        r = R[i] if i < len(R) else float(\"nan\")\n",
    "        f1 = F1[i] if i < len(F1) else float(\"nan\")\n",
    "        print(f\"{cname:28s} {p:6.3f} {r:6.3f} {f1:6.3f}\")\n",
    "print()"
   ]
  },
  {
   "cell_type": "code",
   "execution_count": 20,
   "id": "9d9d27f1-34c6-4f63-903d-ce170b0598ed",
   "metadata": {},
   "outputs": [
    {
     "name": "stdout",
     "output_type": "stream",
     "text": [
      "Evaluation metrics have been written to matrix_print/evaluation_metrics600.txt\n"
     ]
    }
   ],
   "source": [
    "# Create the 'matrix_print' directory if it doesn't exist\n",
    "output_dir = \"matrix_print\"\n",
    "os.makedirs(output_dir, exist_ok=True)\n",
    "\n",
    "# Define the file path for the output\n",
    "output_file = os.path.join(output_dir, f\"evaluation_metrics{target_epochs}.txt\")\n",
    "\n",
    "# Open the file in write mode\n",
    "with open(output_file, \"w\") as f:\n",
    "    # Write the header\n",
    "    f.write(\"=\"*72 + \"\\n\")\n",
    "    f.write(\"MODEL SUMMARY (overall)\\n\")\n",
    "    f.write(\"=\"*72 + \"\\n\")\n",
    "    \n",
    "    header = f\"{'Model':12s} {'mAP50':>7s} {'P(mean)':>8s} {'R(mean)':>8s} {'F1(mean)':>8s} {'Pre(ms)':>8s} {'Infer(ms)':>9s} {'Post(ms)':>8s}\\n\"\n",
    "    f.write(header)\n",
    "    f.write(\"-\"*72 + \"\\n\")\n",
    "\n",
    "    # Write the metrics for each model in test_models\n",
    "    for model in test_models:\n",
    "        key = model \n",
    "        map50 = float(result_maps[key])\n",
    "        p_mean = float(_to_array(result_precision[key]).mean())\n",
    "        r_mean = float(_to_array(result_recall[key]).mean())\n",
    "        f1_mean = float(_to_array(result_f1[key]).mean())\n",
    "        pre = float(result_preprocess_speed[key])\n",
    "        infer = float(result_inference_speed[key])\n",
    "        post = float(result_postprocess_speed[key])\n",
    "        f.write(f\"{key:12s} {map50:7.3f} {p_mean:8.3f} {r_mean:8.3f} {f1_mean:8.3f} {pre:8.2f} {infer:9.2f} {post:8.2f}\\n\")\n",
    "\n",
    "    f.write(\"\\nDetailed per-class metrics (Precision / Recall / F1):\\n\")\n",
    "\n",
    "    # Write per-class metrics for each model\n",
    "    for model in test_models:\n",
    "        key = model\n",
    "        P = _to_array(result_precision[key])\n",
    "        R = _to_array(result_recall[key])\n",
    "        F1 = _to_array(result_f1[key])\n",
    "        f.write(f\"\\n[{key}]\\n\")\n",
    "        f.write(f\"{'Class':28s} {'P':>6s} {'R':>6s} {'F1':>6s}\\n\")\n",
    "        for i, cname in enumerate(class_names):\n",
    "            p = P[i] if i < len(P) else float(\"nan\")\n",
    "            r = R[i] if i < len(R) else float(\"nan\")\n",
    "            f1 = F1[i] if i < len(F1) else float(\"nan\")\n",
    "            f.write(f\"{cname:28s} {p:6.3f} {r:6.3f} {f1:6.3f}\\n\")\n",
    "\n",
    "print(f\"Evaluation metrics have been written to {output_file}\")\n"
   ]
  },
  {
   "cell_type": "code",
   "execution_count": 13,
   "id": "d708b7b4-89e6-4dc2-a285-9fbb748ec1ae",
   "metadata": {},
   "outputs": [],
   "source": [
    "#-----------------------------------------Helpers fot Model Prediction--------------------------------\n",
    "def model_prediction(model_name, model_pt_dir, pred_IoU, pred_threshold, pred_yaml):\n",
    "    output_dir = Path.cwd()\n",
    "    output_dir = os.path.join(output_dir, f\"Predict_Result/{model_name}_Predictions\")\n",
    "    os.makedirs(output_dir, exist_ok=True)\n",
    "\n",
    "    batch_sz = 16\n",
    "    source_path = \"/mnt/sdb/home/si25_osts0525/UAV_Inspection_System/dataset/target/test/images\"\n",
    "    model = YOLO(model_pt_dir)\n",
    "    model.predict(source = source_path, conf = pred_threshold, imgsz = 640, iou = pred_IoU, \n",
    "                   batch=batch_sz, project = output_dir, name = f\"{model_name}_run\", \n",
    "                  save = True, save_txt = True, save_conf = True)"
   ]
  },
  {
   "cell_type": "code",
   "execution_count": null,
   "id": "9ecdd55d-f6b9-4f90-886f-df5ba81295e4",
   "metadata": {},
   "outputs": [],
   "source": [
    "# Run Model Prediction\n",
    "model_choice = \"yolo11n\"\n",
    "model_path = \"/mnt/sdb/home/si25_osts0525/UAV_Inspection_System/target_results/yolo11n_finetune/inspection_yolo11n_finetune/weights/best.pt\"\n",
    "model_prediction(model_name = model_choice, model_pt_dir = model_path, pred_IoU = 0.5, pred_threshold = 0.5, pred_yaml = target_data_yaml)"
   ]
  },
  {
   "cell_type": "code",
   "execution_count": 29,
   "id": "41717735-a610-4bfe-acc8-7a9791137297",
   "metadata": {},
   "outputs": [],
   "source": [
    "#-----------------------------------------Helpers fot resume training purposes---------------------------------\n",
    "def version_num(path: Path) -> int:\n",
    "    suffix = path.name[len(prefix):]            # cut off the prefix\n",
    "    return int(suffix) if suffix.isdigit() else 0\n",
    "\n",
    "\n",
    "def find_recent_ver(target_result_dir):\n",
    "    root         = Path(target_result_dir)          # or source_result_dir\n",
    "    model_stem   = resume_model.split(\".\")[0]       # \"yolov5n\"\n",
    "    prefix       = f\"inspection_{model_stem}\"       # \"inspection_yolov5n\"\n",
    "    \n",
    "    run_dirs = [p for p in (root / model_stem).iterdir() if p.is_dir() and p.name.startswith(prefix)]\n",
    "    \n",
    "    def version_num(path: Path) -> int:\n",
    "        suffix = path.name[len(prefix):]            # cut off the prefix\n",
    "        return int(suffix) if suffix.isdigit() else 0\n",
    "    \n",
    "    latest_run = max(run_dirs, key=version_num, default=None)\n",
    "    if latest_run is None:\n",
    "        raise FileNotFoundError(f\"No runs found under {(root/model_stem).as_posix()}\")\n",
    "    \n",
    "    resume_dir = latest_run / \"weights\"             # …/weights\n",
    "    print(\"🔄  Will resume from:\", resume_dir)\n",
    "    return resume_dir"
   ]
  },
  {
   "cell_type": "code",
   "execution_count": 12,
   "id": "dc7ead05-24eb-47e1-8404-a92014fd2706",
   "metadata": {},
   "outputs": [
    {
     "name": "stdout",
     "output_type": "stream",
     "text": [
      "Resume training model on TARGET set...\n",
      "New https://pypi.org/project/ultralytics/8.3.170 available 😃 Update with 'pip install -U ultralytics'\n",
      "Ultralytics 8.3.167 🚀 Python-3.11.13 torch-2.6.0+cu124 CUDA:1 (Quadro RTX 6000, 24024MiB)\n",
      "                                                        CUDA:2 (Quadro RTX 6000, 24024MiB)\n",
      "\u001b[34m\u001b[1mengine/trainer: \u001b[0magnostic_nms=False, amp=True, augment=False, auto_augment=randaugment, batch=8, bgr=0.0, box=7.5, cache=disk, cfg=None, classes=None, close_mosaic=10, cls=0.5, conf=None, copy_paste=0.0, copy_paste_mode=flip, cos_lr=False, cutmix=0.0, data=/mnt/sdb/home/si25_osts0525/UAV_Inspection_System/dataset/target/data.yaml, degrees=0.0, deterministic=True, device=1,2, dfl=1.5, dnn=False, dropout=0.0, dynamic=False, embed=None, epochs=300, erasing=0.4, exist_ok=False, fliplr=0.5, flipud=0.0, format=torchscript, fraction=1.0, freeze=None, half=False, hsv_h=0.015, hsv_s=0.7, hsv_v=0.4, imgsz=640, int8=False, iou=0.7, keras=False, kobj=1.0, line_width=None, lr0=0.01, lrf=0.01, mask_ratio=4, max_det=300, mixup=0.0, mode=train, model=/mnt/sdb/home/si25_osts0525/UAV_Inspection_System/target_results/yolov8n_scratch300/inspection_yolov8n_scratch300/weights/last.pt, momentum=0.937, mosaic=1.0, multi_scale=False, name=inspection_yolov8n_scratch300, nbs=64, nms=False, opset=None, optimize=False, optimizer=auto, overlap_mask=True, patience=100, perspective=0.0, plots=True, pose=12.0, pretrained=True, profile=False, project=/mnt/sdb/home/si25_osts0525/UAV_Inspection_System/target_results/yolov8n_scratch300, rect=False, resume=/mnt/sdb/home/si25_osts0525/UAV_Inspection_System/target_results/yolov8n_scratch300/inspection_yolov8n_scratch300/weights/last.pt, retina_masks=False, save=True, save_conf=False, save_crop=False, save_dir=/mnt/sdb/home/si25_osts0525/UAV_Inspection_System/target_results/yolov8n_scratch300/inspection_yolov8n_scratch300, save_frames=False, save_json=False, save_period=-1, save_txt=False, scale=0.5, seed=0, shear=0.0, show=False, show_boxes=True, show_conf=True, show_labels=True, simplify=True, single_cls=False, source=None, split=val, stream_buffer=False, task=detect, time=None, tracker=botsort.yaml, translate=0.1, val=True, verbose=True, vid_stride=1, visualize=False, warmup_bias_lr=0.0, warmup_epochs=3.0, warmup_momentum=0.8, weight_decay=0.0005, workers=10, workspace=None\n",
      "\u001b[34m\u001b[1mDDP:\u001b[0m debug command /mnt/sdb/home/si25_osts0525/miniconda3/envs/reu/bin/python -m torch.distributed.run --nproc_per_node 2 --master_port 45861 /mnt/sdb/home/si25_osts0525/.config/Ultralytics/DDP/_temp_vlk9ejbk140256495210064.py\n",
      "Ultralytics 8.3.167 🚀 Python-3.11.13 torch-2.6.0+cu124 CUDA:1 (Quadro RTX 6000, 24024MiB)\n",
      "                                                        CUDA:2 (Quadro RTX 6000, 24024MiB)\n",
      "Transferred 355/355 items from pretrained weights\n",
      "Freezing layer 'model.22.dfl.conv.weight'\n",
      "\u001b[34m\u001b[1mAMP: \u001b[0mrunning Automatic Mixed Precision (AMP) checks...\n",
      "\u001b[34m\u001b[1mAMP: \u001b[0mchecks passed ✅\n",
      "\u001b[34m\u001b[1mtrain: \u001b[0mFast image access ✅ (ping: 0.0±0.0 ms, read: 1832.8±516.7 MB/s, size: 81.3 KB)\n"
     ]
    },
    {
     "name": "stderr",
     "output_type": "stream",
     "text": [
      "\u001b[34m\u001b[1mtrain: \u001b[0mScanning /mnt/sdb/home/si25_osts0525/UAV_Inspection_System/dataset/target/train/labels.cache... 2442 images, 1 backgrounds, 0 corrupt: 100%|██████████| 2442/2442 [00:00<?, ?it/s]\n",
      "\u001b[34m\u001b[1mtrain: \u001b[0mCaching images (2.8GB Disk): 100%|██████████| 2442/2442 [00:00<00:00, 36911.21it/s]\n"
     ]
    },
    {
     "name": "stdout",
     "output_type": "stream",
     "text": [
      "\u001b[34m\u001b[1mval: \u001b[0mFast image access ✅ (ping: 0.0±0.0 ms, read: 884.5±541.4 MB/s, size: 50.7 KB)\n"
     ]
    },
    {
     "name": "stderr",
     "output_type": "stream",
     "text": [
      "\u001b[34m\u001b[1mval: \u001b[0mScanning /mnt/sdb/home/si25_osts0525/UAV_Inspection_System/dataset/target/val/labels.cache... 510 images, 0 backgrounds, 0 corrupt: 100%|██████████| 510/510 [00:00<?, ?it/s]\n",
      "\u001b[34m\u001b[1mval: \u001b[0mCaching images (0.6GB Disk): 100%|██████████| 510/510 [00:00<00:00, 26453.00it/s]\n"
     ]
    },
    {
     "name": "stdout",
     "output_type": "stream",
     "text": [
      "Plotting labels to /mnt/sdb/home/si25_osts0525/UAV_Inspection_System/target_results/yolov8n_scratch300/inspection_yolov8n_scratch300/labels.jpg... \n",
      "\u001b[34m\u001b[1moptimizer:\u001b[0m 'optimizer=auto' found, ignoring 'lr0=0.01' and 'momentum=0.937' and determining best 'optimizer', 'lr0' and 'momentum' automatically... \n",
      "\u001b[34m\u001b[1moptimizer:\u001b[0m SGD(lr=0.01, momentum=0.9) with parameter groups 57 weight(decay=0.0), 64 weight(decay=0.0005), 63 bias(decay=0.0)\n",
      "Resuming training /mnt/sdb/home/si25_osts0525/UAV_Inspection_System/target_results/yolov8n_scratch300/inspection_yolov8n_scratch300/weights/last.pt from epoch 94 to 300 total epochs\n",
      "Image sizes 640 train, 640 val\n",
      "Using 20 dataloader workers\n",
      "Logging results to \u001b[1m/mnt/sdb/home/si25_osts0525/UAV_Inspection_System/target_results/yolov8n_scratch300/inspection_yolov8n_scratch300\u001b[0m\n",
      "Starting training for 300 epochs...\n",
      "\n",
      "      Epoch    GPU_mem   box_loss   cls_loss   dfl_loss  Instances       Size\n"
     ]
    },
    {
     "name": "stderr",
     "output_type": "stream",
     "text": [
      "     94/300      0.59G      1.706      1.434       1.32          8        640: 100%|██████████| 306/306 [00:28<00:00, 10.85it/s]\n",
      "                 Class     Images  Instances      Box(P          R      mAP50  mAP50-95): 100%|██████████| 64/64 [00:03<00:00, 16.95it/s]\n"
     ]
    },
    {
     "name": "stdout",
     "output_type": "stream",
     "text": [
      "                   all        510       1658       0.65      0.498      0.547       0.28\n",
      "\n",
      "      Epoch    GPU_mem   box_loss   cls_loss   dfl_loss  Instances       Size\n"
     ]
    },
    {
     "name": "stderr",
     "output_type": "stream",
     "text": [
      "     95/300     0.656G      1.718      1.481      1.344          3        640: 100%|██████████| 306/306 [00:30<00:00,  9.93it/s]\n",
      "                 Class     Images  Instances      Box(P          R      mAP50  mAP50-95): 100%|██████████| 64/64 [00:03<00:00, 17.70it/s]\n"
     ]
    },
    {
     "name": "stdout",
     "output_type": "stream",
     "text": [
      "                   all        510       1658      0.672      0.495      0.552      0.286\n",
      "\n",
      "      Epoch    GPU_mem   box_loss   cls_loss   dfl_loss  Instances       Size\n"
     ]
    },
    {
     "name": "stderr",
     "output_type": "stream",
     "text": [
      "     96/300     0.656G       1.74      1.521      1.351          1        640: 100%|██████████| 306/306 [00:30<00:00, 10.13it/s]\n",
      "                 Class     Images  Instances      Box(P          R      mAP50  mAP50-95): 100%|██████████| 64/64 [00:03<00:00, 20.25it/s]\n"
     ]
    },
    {
     "name": "stdout",
     "output_type": "stream",
     "text": [
      "                   all        510       1658      0.676      0.521      0.561       0.29\n",
      "\n",
      "      Epoch    GPU_mem   box_loss   cls_loss   dfl_loss  Instances       Size\n"
     ]
    },
    {
     "name": "stderr",
     "output_type": "stream",
     "text": [
      "     97/300     0.666G      1.734      1.484      1.351         26        640: 100%|██████████| 306/306 [00:29<00:00, 10.50it/s]\n",
      "                 Class     Images  Instances      Box(P          R      mAP50  mAP50-95): 100%|██████████| 64/64 [00:03<00:00, 17.95it/s]\n"
     ]
    },
    {
     "name": "stdout",
     "output_type": "stream",
     "text": [
      "                   all        510       1658      0.647      0.521       0.56      0.296\n",
      "\n",
      "      Epoch    GPU_mem   box_loss   cls_loss   dfl_loss  Instances       Size\n"
     ]
    },
    {
     "name": "stderr",
     "output_type": "stream",
     "text": [
      "     98/300     0.668G      1.722      1.452      1.341         10        640: 100%|██████████| 306/306 [00:28<00:00, 10.80it/s]\n",
      "                 Class     Images  Instances      Box(P          R      mAP50  mAP50-95): 100%|██████████| 64/64 [00:03<00:00, 20.44it/s]\n"
     ]
    },
    {
     "name": "stdout",
     "output_type": "stream",
     "text": [
      "                   all        510       1658      0.701      0.498      0.555       0.29\n",
      "\n",
      "      Epoch    GPU_mem   box_loss   cls_loss   dfl_loss  Instances       Size\n"
     ]
    },
    {
     "name": "stderr",
     "output_type": "stream",
     "text": [
      "     99/300     0.678G      1.722      1.509      1.351          4        640: 100%|██████████| 306/306 [00:28<00:00, 10.86it/s]\n",
      "                 Class     Images  Instances      Box(P          R      mAP50  mAP50-95): 100%|██████████| 64/64 [00:03<00:00, 18.65it/s]\n"
     ]
    },
    {
     "name": "stdout",
     "output_type": "stream",
     "text": [
      "                   all        510       1658      0.676      0.495      0.555      0.292\n",
      "\n",
      "      Epoch    GPU_mem   box_loss   cls_loss   dfl_loss  Instances       Size\n"
     ]
    },
    {
     "name": "stderr",
     "output_type": "stream",
     "text": [
      "    100/300      0.68G      1.699      1.462       1.33          1        640: 100%|██████████| 306/306 [00:24<00:00, 12.34it/s]\n",
      "                 Class     Images  Instances      Box(P          R      mAP50  mAP50-95): 100%|██████████| 64/64 [00:03<00:00, 19.06it/s]\n"
     ]
    },
    {
     "name": "stdout",
     "output_type": "stream",
     "text": [
      "                   all        510       1658      0.645      0.533      0.558      0.289\n",
      "\n",
      "      Epoch    GPU_mem   box_loss   cls_loss   dfl_loss  Instances       Size\n"
     ]
    },
    {
     "name": "stderr",
     "output_type": "stream",
     "text": [
      "    101/300     0.689G      1.697      1.438      1.332          1        640: 100%|██████████| 306/306 [00:24<00:00, 12.32it/s]\n",
      "                 Class     Images  Instances      Box(P          R      mAP50  mAP50-95): 100%|██████████| 64/64 [00:03<00:00, 19.68it/s]\n"
     ]
    },
    {
     "name": "stdout",
     "output_type": "stream",
     "text": [
      "                   all        510       1658      0.658      0.504      0.552       0.29\n",
      "\n",
      "      Epoch    GPU_mem   box_loss   cls_loss   dfl_loss  Instances       Size\n"
     ]
    },
    {
     "name": "stderr",
     "output_type": "stream",
     "text": [
      "    102/300     0.689G      1.704       1.47       1.34          1        640: 100%|██████████| 306/306 [00:26<00:00, 11.63it/s]\n",
      "                 Class     Images  Instances      Box(P          R      mAP50  mAP50-95): 100%|██████████| 64/64 [00:03<00:00, 21.28it/s]\n"
     ]
    },
    {
     "name": "stdout",
     "output_type": "stream",
     "text": [
      "                   all        510       1658      0.682      0.506       0.55      0.283\n",
      "\n",
      "      Epoch    GPU_mem   box_loss   cls_loss   dfl_loss  Instances       Size\n"
     ]
    },
    {
     "name": "stderr",
     "output_type": "stream",
     "text": [
      "    103/300     0.689G      1.689      1.419      1.318          2        640: 100%|██████████| 306/306 [00:26<00:00, 11.74it/s]\n",
      "                 Class     Images  Instances      Box(P          R      mAP50  mAP50-95): 100%|██████████| 64/64 [00:03<00:00, 19.08it/s]\n"
     ]
    },
    {
     "name": "stdout",
     "output_type": "stream",
     "text": [
      "                   all        510       1658      0.674      0.514      0.556      0.295\n",
      "\n",
      "      Epoch    GPU_mem   box_loss   cls_loss   dfl_loss  Instances       Size\n"
     ]
    },
    {
     "name": "stderr",
     "output_type": "stream",
     "text": [
      "    104/300     0.689G      1.688      1.392      1.311          8        640: 100%|██████████| 306/306 [00:25<00:00, 12.13it/s]\n",
      "                 Class     Images  Instances      Box(P          R      mAP50  mAP50-95): 100%|██████████| 64/64 [00:03<00:00, 18.75it/s]\n"
     ]
    },
    {
     "name": "stdout",
     "output_type": "stream",
     "text": [
      "                   all        510       1658      0.672      0.501      0.556      0.294\n",
      "\n",
      "      Epoch    GPU_mem   box_loss   cls_loss   dfl_loss  Instances       Size\n"
     ]
    },
    {
     "name": "stderr",
     "output_type": "stream",
     "text": [
      "    105/300     0.689G      1.701      1.431      1.329          3        640: 100%|██████████| 306/306 [00:25<00:00, 11.79it/s]\n",
      "                 Class     Images  Instances      Box(P          R      mAP50  mAP50-95): 100%|██████████| 64/64 [00:03<00:00, 19.04it/s]\n"
     ]
    },
    {
     "name": "stdout",
     "output_type": "stream",
     "text": [
      "                   all        510       1658      0.696      0.521      0.561       0.29\n",
      "\n",
      "      Epoch    GPU_mem   box_loss   cls_loss   dfl_loss  Instances       Size\n"
     ]
    },
    {
     "name": "stderr",
     "output_type": "stream",
     "text": [
      "    106/300     0.689G      1.644       1.42       1.31          4        640: 100%|██████████| 306/306 [00:24<00:00, 12.67it/s]\n",
      "                 Class     Images  Instances      Box(P          R      mAP50  mAP50-95): 100%|██████████| 64/64 [00:03<00:00, 18.59it/s]\n"
     ]
    },
    {
     "name": "stdout",
     "output_type": "stream",
     "text": [
      "                   all        510       1658      0.711      0.523      0.577      0.299\n",
      "\n",
      "      Epoch    GPU_mem   box_loss   cls_loss   dfl_loss  Instances       Size\n"
     ]
    },
    {
     "name": "stderr",
     "output_type": "stream",
     "text": [
      "    107/300     0.689G      1.648      1.404        1.3          7        640: 100%|██████████| 306/306 [00:24<00:00, 12.50it/s]\n",
      "                 Class     Images  Instances      Box(P          R      mAP50  mAP50-95): 100%|██████████| 64/64 [00:03<00:00, 18.73it/s]\n"
     ]
    },
    {
     "name": "stdout",
     "output_type": "stream",
     "text": [
      "                   all        510       1658      0.677      0.554      0.582      0.299\n",
      "\n",
      "      Epoch    GPU_mem   box_loss   cls_loss   dfl_loss  Instances       Size\n"
     ]
    },
    {
     "name": "stderr",
     "output_type": "stream",
     "text": [
      "    108/300     0.689G       1.68      1.414      1.318          1        640: 100%|██████████| 306/306 [00:25<00:00, 12.21it/s]\n",
      "                 Class     Images  Instances      Box(P          R      mAP50  mAP50-95): 100%|██████████| 64/64 [00:03<00:00, 18.67it/s]\n"
     ]
    },
    {
     "name": "stdout",
     "output_type": "stream",
     "text": [
      "                   all        510       1658      0.663      0.532      0.569      0.295\n",
      "\n",
      "      Epoch    GPU_mem   box_loss   cls_loss   dfl_loss  Instances       Size\n"
     ]
    },
    {
     "name": "stderr",
     "output_type": "stream",
     "text": [
      "    109/300     0.689G      1.664      1.405      1.323          4        640: 100%|██████████| 306/306 [00:25<00:00, 11.92it/s]\n",
      "                 Class     Images  Instances      Box(P          R      mAP50  mAP50-95): 100%|██████████| 64/64 [00:02<00:00, 21.47it/s]\n"
     ]
    },
    {
     "name": "stdout",
     "output_type": "stream",
     "text": [
      "                   all        510       1658      0.694      0.514      0.567      0.303\n",
      "\n",
      "      Epoch    GPU_mem   box_loss   cls_loss   dfl_loss  Instances       Size\n"
     ]
    },
    {
     "name": "stderr",
     "output_type": "stream",
     "text": [
      "    110/300     0.689G      1.696      1.419      1.314          1        640: 100%|██████████| 306/306 [00:26<00:00, 11.69it/s]\n",
      "                 Class     Images  Instances      Box(P          R      mAP50  mAP50-95): 100%|██████████| 64/64 [00:03<00:00, 19.96it/s]\n"
     ]
    },
    {
     "name": "stdout",
     "output_type": "stream",
     "text": [
      "                   all        510       1658        0.7      0.525      0.572      0.302\n",
      "\n",
      "      Epoch    GPU_mem   box_loss   cls_loss   dfl_loss  Instances       Size\n"
     ]
    },
    {
     "name": "stderr",
     "output_type": "stream",
     "text": [
      "    111/300     0.689G      1.664      1.399      1.308          1        640: 100%|██████████| 306/306 [00:27<00:00, 11.29it/s]\n",
      "                 Class     Images  Instances      Box(P          R      mAP50  mAP50-95): 100%|██████████| 64/64 [00:03<00:00, 18.98it/s]\n"
     ]
    },
    {
     "name": "stdout",
     "output_type": "stream",
     "text": [
      "                   all        510       1658      0.694      0.529      0.574      0.296\n",
      "\n",
      "      Epoch    GPU_mem   box_loss   cls_loss   dfl_loss  Instances       Size\n"
     ]
    },
    {
     "name": "stderr",
     "output_type": "stream",
     "text": [
      "    112/300     0.689G      1.651      1.357      1.292         12        640: 100%|██████████| 306/306 [00:27<00:00, 11.25it/s]\n",
      "                 Class     Images  Instances      Box(P          R      mAP50  mAP50-95): 100%|██████████| 64/64 [00:03<00:00, 18.53it/s]\n"
     ]
    },
    {
     "name": "stdout",
     "output_type": "stream",
     "text": [
      "                   all        510       1658      0.724      0.527      0.581      0.307\n",
      "\n",
      "      Epoch    GPU_mem   box_loss   cls_loss   dfl_loss  Instances       Size\n"
     ]
    },
    {
     "name": "stderr",
     "output_type": "stream",
     "text": [
      "    113/300     0.689G      1.669      1.398      1.321          3        640: 100%|██████████| 306/306 [00:26<00:00, 11.65it/s]\n",
      "                 Class     Images  Instances      Box(P          R      mAP50  mAP50-95): 100%|██████████| 64/64 [00:03<00:00, 18.20it/s]\n"
     ]
    },
    {
     "name": "stdout",
     "output_type": "stream",
     "text": [
      "                   all        510       1658      0.698      0.508      0.569      0.299\n",
      "\n",
      "      Epoch    GPU_mem   box_loss   cls_loss   dfl_loss  Instances       Size\n"
     ]
    },
    {
     "name": "stderr",
     "output_type": "stream",
     "text": [
      "    114/300     0.689G      1.658      1.402      1.317          4        640: 100%|██████████| 306/306 [00:26<00:00, 11.76it/s]\n",
      "                 Class     Images  Instances      Box(P          R      mAP50  mAP50-95): 100%|██████████| 64/64 [00:03<00:00, 18.42it/s]\n"
     ]
    },
    {
     "name": "stdout",
     "output_type": "stream",
     "text": [
      "                   all        510       1658      0.714       0.52      0.579      0.303\n",
      "\n",
      "      Epoch    GPU_mem   box_loss   cls_loss   dfl_loss  Instances       Size\n"
     ]
    },
    {
     "name": "stderr",
     "output_type": "stream",
     "text": [
      "    115/300     0.689G      1.694      1.385      1.317          1        640: 100%|██████████| 306/306 [00:26<00:00, 11.37it/s]\n",
      "                 Class     Images  Instances      Box(P          R      mAP50  mAP50-95): 100%|██████████| 64/64 [00:03<00:00, 18.61it/s]\n"
     ]
    },
    {
     "name": "stdout",
     "output_type": "stream",
     "text": [
      "                   all        510       1658      0.661      0.522      0.574        0.3\n",
      "\n",
      "      Epoch    GPU_mem   box_loss   cls_loss   dfl_loss  Instances       Size\n"
     ]
    },
    {
     "name": "stderr",
     "output_type": "stream",
     "text": [
      "    116/300     0.689G      1.653      1.387      1.316          9        640: 100%|██████████| 306/306 [00:26<00:00, 11.41it/s]\n",
      "                 Class     Images  Instances      Box(P          R      mAP50  mAP50-95): 100%|██████████| 64/64 [00:03<00:00, 20.84it/s]\n"
     ]
    },
    {
     "name": "stdout",
     "output_type": "stream",
     "text": [
      "                   all        510       1658      0.693      0.514      0.559      0.296\n",
      "\n",
      "      Epoch    GPU_mem   box_loss   cls_loss   dfl_loss  Instances       Size\n"
     ]
    },
    {
     "name": "stderr",
     "output_type": "stream",
     "text": [
      "    117/300     0.689G       1.64      1.363      1.291          2        640: 100%|██████████| 306/306 [00:24<00:00, 12.35it/s]\n",
      "                 Class     Images  Instances      Box(P          R      mAP50  mAP50-95): 100%|██████████| 64/64 [00:03<00:00, 18.60it/s]\n"
     ]
    },
    {
     "name": "stdout",
     "output_type": "stream",
     "text": [
      "                   all        510       1658      0.696      0.527       0.58      0.306\n",
      "\n",
      "      Epoch    GPU_mem   box_loss   cls_loss   dfl_loss  Instances       Size\n"
     ]
    },
    {
     "name": "stderr",
     "output_type": "stream",
     "text": [
      "    118/300     0.689G       1.66      1.385      1.315          1        640: 100%|██████████| 306/306 [00:24<00:00, 12.43it/s]\n",
      "                 Class     Images  Instances      Box(P          R      mAP50  mAP50-95): 100%|██████████| 64/64 [00:03<00:00, 18.47it/s]\n"
     ]
    },
    {
     "name": "stdout",
     "output_type": "stream",
     "text": [
      "                   all        510       1658      0.686      0.541       0.58      0.303\n",
      "\n",
      "      Epoch    GPU_mem   box_loss   cls_loss   dfl_loss  Instances       Size\n"
     ]
    },
    {
     "name": "stderr",
     "output_type": "stream",
     "text": [
      "    119/300     0.689G      1.612      1.339       1.29          5        640: 100%|██████████| 306/306 [00:24<00:00, 12.38it/s]\n",
      "                 Class     Images  Instances      Box(P          R      mAP50  mAP50-95): 100%|██████████| 64/64 [00:03<00:00, 19.34it/s]\n"
     ]
    },
    {
     "name": "stdout",
     "output_type": "stream",
     "text": [
      "                   all        510       1658      0.695      0.519      0.578      0.303\n",
      "\n",
      "      Epoch    GPU_mem   box_loss   cls_loss   dfl_loss  Instances       Size\n"
     ]
    },
    {
     "name": "stderr",
     "output_type": "stream",
     "text": [
      "    120/300     0.689G      1.647      1.339      1.289         11        640: 100%|██████████| 306/306 [00:25<00:00, 12.05it/s]\n",
      "                 Class     Images  Instances      Box(P          R      mAP50  mAP50-95): 100%|██████████| 64/64 [00:03<00:00, 18.65it/s]\n"
     ]
    },
    {
     "name": "stdout",
     "output_type": "stream",
     "text": [
      "                   all        510       1658      0.645      0.542      0.581       0.31\n",
      "\n",
      "      Epoch    GPU_mem   box_loss   cls_loss   dfl_loss  Instances       Size\n"
     ]
    },
    {
     "name": "stderr",
     "output_type": "stream",
     "text": [
      "    121/300     0.689G      1.626      1.307      1.281          1        640: 100%|██████████| 306/306 [00:25<00:00, 11.97it/s]\n",
      "                 Class     Images  Instances      Box(P          R      mAP50  mAP50-95): 100%|██████████| 64/64 [00:03<00:00, 19.15it/s]\n"
     ]
    },
    {
     "name": "stdout",
     "output_type": "stream",
     "text": [
      "                   all        510       1658      0.694      0.523       0.58        0.3\n",
      "\n",
      "      Epoch    GPU_mem   box_loss   cls_loss   dfl_loss  Instances       Size\n"
     ]
    },
    {
     "name": "stderr",
     "output_type": "stream",
     "text": [
      "    122/300     0.689G      1.643      1.347      1.285          4        640: 100%|██████████| 306/306 [00:23<00:00, 12.85it/s]\n",
      "                 Class     Images  Instances      Box(P          R      mAP50  mAP50-95): 100%|██████████| 64/64 [00:03<00:00, 20.79it/s]\n"
     ]
    },
    {
     "name": "stdout",
     "output_type": "stream",
     "text": [
      "                   all        510       1658      0.718      0.527      0.585      0.307\n",
      "\n",
      "      Epoch    GPU_mem   box_loss   cls_loss   dfl_loss  Instances       Size\n"
     ]
    },
    {
     "name": "stderr",
     "output_type": "stream",
     "text": [
      "    123/300     0.689G      1.645      1.331      1.292          2        640: 100%|██████████| 306/306 [00:26<00:00, 11.39it/s]\n",
      "                 Class     Images  Instances      Box(P          R      mAP50  mAP50-95): 100%|██████████| 64/64 [00:03<00:00, 18.71it/s]\n"
     ]
    },
    {
     "name": "stdout",
     "output_type": "stream",
     "text": [
      "                   all        510       1658      0.688      0.539      0.582        0.3\n",
      "\n",
      "      Epoch    GPU_mem   box_loss   cls_loss   dfl_loss  Instances       Size\n"
     ]
    },
    {
     "name": "stderr",
     "output_type": "stream",
     "text": [
      "    124/300     0.689G      1.612      1.322      1.271          4        640: 100%|██████████| 306/306 [00:24<00:00, 12.27it/s]\n",
      "                 Class     Images  Instances      Box(P          R      mAP50  mAP50-95): 100%|██████████| 64/64 [00:03<00:00, 20.92it/s]\n"
     ]
    },
    {
     "name": "stdout",
     "output_type": "stream",
     "text": [
      "                   all        510       1658      0.656      0.545      0.581      0.304\n",
      "\n",
      "      Epoch    GPU_mem   box_loss   cls_loss   dfl_loss  Instances       Size\n"
     ]
    },
    {
     "name": "stderr",
     "output_type": "stream",
     "text": [
      "    125/300     0.689G      1.631      1.347      1.301          1        640: 100%|██████████| 306/306 [00:26<00:00, 11.69it/s]\n",
      "                 Class     Images  Instances      Box(P          R      mAP50  mAP50-95): 100%|██████████| 64/64 [00:03<00:00, 18.60it/s]\n"
     ]
    },
    {
     "name": "stdout",
     "output_type": "stream",
     "text": [
      "                   all        510       1658      0.698      0.524      0.575      0.308\n",
      "\n",
      "      Epoch    GPU_mem   box_loss   cls_loss   dfl_loss  Instances       Size\n"
     ]
    },
    {
     "name": "stderr",
     "output_type": "stream",
     "text": [
      "    126/300     0.689G      1.619      1.305      1.261          1        640: 100%|██████████| 306/306 [00:24<00:00, 12.41it/s]\n",
      "                 Class     Images  Instances      Box(P          R      mAP50  mAP50-95): 100%|██████████| 64/64 [00:03<00:00, 18.88it/s]\n"
     ]
    },
    {
     "name": "stdout",
     "output_type": "stream",
     "text": [
      "                   all        510       1658      0.674      0.524      0.566      0.302\n",
      "\n",
      "      Epoch    GPU_mem   box_loss   cls_loss   dfl_loss  Instances       Size\n"
     ]
    },
    {
     "name": "stderr",
     "output_type": "stream",
     "text": [
      "    127/300     0.689G      1.624      1.314       1.26         10        640: 100%|██████████| 306/306 [00:25<00:00, 11.95it/s]\n",
      "                 Class     Images  Instances      Box(P          R      mAP50  mAP50-95): 100%|██████████| 64/64 [00:03<00:00, 20.22it/s]\n"
     ]
    },
    {
     "name": "stdout",
     "output_type": "stream",
     "text": [
      "                   all        510       1658      0.721      0.524      0.582      0.312\n",
      "\n",
      "      Epoch    GPU_mem   box_loss   cls_loss   dfl_loss  Instances       Size\n"
     ]
    },
    {
     "name": "stderr",
     "output_type": "stream",
     "text": [
      "    128/300     0.689G      1.643      1.304      1.296          5        640: 100%|██████████| 306/306 [00:25<00:00, 12.22it/s]\n",
      "                 Class     Images  Instances      Box(P          R      mAP50  mAP50-95): 100%|██████████| 64/64 [00:03<00:00, 19.06it/s]\n"
     ]
    },
    {
     "name": "stdout",
     "output_type": "stream",
     "text": [
      "                   all        510       1658      0.691      0.537      0.592      0.316\n",
      "\n",
      "      Epoch    GPU_mem   box_loss   cls_loss   dfl_loss  Instances       Size\n"
     ]
    },
    {
     "name": "stderr",
     "output_type": "stream",
     "text": [
      "    129/300     0.689G      1.629      1.309      1.287          6        640: 100%|██████████| 306/306 [00:25<00:00, 11.98it/s]\n",
      "                 Class     Images  Instances      Box(P          R      mAP50  mAP50-95): 100%|██████████| 64/64 [00:03<00:00, 18.65it/s]\n"
     ]
    },
    {
     "name": "stdout",
     "output_type": "stream",
     "text": [
      "                   all        510       1658       0.75       0.53      0.606      0.318\n",
      "\n",
      "      Epoch    GPU_mem   box_loss   cls_loss   dfl_loss  Instances       Size\n"
     ]
    },
    {
     "name": "stderr",
     "output_type": "stream",
     "text": [
      "    130/300     0.689G      1.598      1.267      1.265          5        640: 100%|██████████| 306/306 [00:25<00:00, 12.08it/s]\n",
      "                 Class     Images  Instances      Box(P          R      mAP50  mAP50-95): 100%|██████████| 64/64 [00:03<00:00, 18.67it/s]\n"
     ]
    },
    {
     "name": "stdout",
     "output_type": "stream",
     "text": [
      "                   all        510       1658      0.688      0.532      0.579      0.306\n",
      "\n",
      "      Epoch    GPU_mem   box_loss   cls_loss   dfl_loss  Instances       Size\n"
     ]
    },
    {
     "name": "stderr",
     "output_type": "stream",
     "text": [
      "    131/300     0.689G      1.605      1.265      1.266          3        640: 100%|██████████| 306/306 [00:26<00:00, 11.52it/s]\n",
      "                 Class     Images  Instances      Box(P          R      mAP50  mAP50-95): 100%|██████████| 64/64 [00:03<00:00, 18.33it/s]\n"
     ]
    },
    {
     "name": "stdout",
     "output_type": "stream",
     "text": [
      "                   all        510       1658      0.645      0.558      0.577      0.315\n",
      "\n",
      "      Epoch    GPU_mem   box_loss   cls_loss   dfl_loss  Instances       Size\n"
     ]
    },
    {
     "name": "stderr",
     "output_type": "stream",
     "text": [
      "    132/300     0.689G      1.619      1.259      1.274          5        640: 100%|██████████| 306/306 [00:25<00:00, 12.23it/s]\n",
      "                 Class     Images  Instances      Box(P          R      mAP50  mAP50-95): 100%|██████████| 64/64 [00:03<00:00, 18.63it/s]\n"
     ]
    },
    {
     "name": "stdout",
     "output_type": "stream",
     "text": [
      "                   all        510       1658      0.683      0.549      0.582      0.314\n",
      "\n",
      "      Epoch    GPU_mem   box_loss   cls_loss   dfl_loss  Instances       Size\n"
     ]
    },
    {
     "name": "stderr",
     "output_type": "stream",
     "text": [
      "    133/300     0.689G      1.586      1.281      1.268          2        640: 100%|██████████| 306/306 [00:25<00:00, 12.00it/s]\n",
      "                 Class     Images  Instances      Box(P          R      mAP50  mAP50-95): 100%|██████████| 64/64 [00:03<00:00, 18.47it/s]\n"
     ]
    },
    {
     "name": "stdout",
     "output_type": "stream",
     "text": [
      "                   all        510       1658      0.694      0.545      0.589      0.314\n",
      "\n",
      "      Epoch    GPU_mem   box_loss   cls_loss   dfl_loss  Instances       Size\n"
     ]
    },
    {
     "name": "stderr",
     "output_type": "stream",
     "text": [
      "    134/300     0.689G      1.604      1.285      1.263         11        640: 100%|██████████| 306/306 [00:26<00:00, 11.74it/s]\n",
      "                 Class     Images  Instances      Box(P          R      mAP50  mAP50-95): 100%|██████████| 64/64 [00:03<00:00, 18.65it/s]\n"
     ]
    },
    {
     "name": "stdout",
     "output_type": "stream",
     "text": [
      "                   all        510       1658      0.722      0.521      0.577      0.307\n",
      "\n",
      "      Epoch    GPU_mem   box_loss   cls_loss   dfl_loss  Instances       Size\n"
     ]
    },
    {
     "name": "stderr",
     "output_type": "stream",
     "text": [
      "    135/300     0.689G      1.608      1.273      1.281          1        640: 100%|██████████| 306/306 [00:26<00:00, 11.69it/s]\n",
      "                 Class     Images  Instances      Box(P          R      mAP50  mAP50-95): 100%|██████████| 64/64 [00:02<00:00, 21.39it/s]\n"
     ]
    },
    {
     "name": "stdout",
     "output_type": "stream",
     "text": [
      "                   all        510       1658      0.713      0.531      0.589      0.309\n",
      "\n",
      "      Epoch    GPU_mem   box_loss   cls_loss   dfl_loss  Instances       Size\n"
     ]
    },
    {
     "name": "stderr",
     "output_type": "stream",
     "text": [
      "    136/300     0.689G      1.584      1.254      1.255          4        640: 100%|██████████| 306/306 [00:24<00:00, 12.31it/s]\n",
      "                 Class     Images  Instances      Box(P          R      mAP50  mAP50-95): 100%|██████████| 64/64 [00:03<00:00, 19.82it/s]\n"
     ]
    },
    {
     "name": "stdout",
     "output_type": "stream",
     "text": [
      "                   all        510       1658      0.705      0.549      0.598      0.318\n",
      "\n",
      "      Epoch    GPU_mem   box_loss   cls_loss   dfl_loss  Instances       Size\n"
     ]
    },
    {
     "name": "stderr",
     "output_type": "stream",
     "text": [
      "    137/300     0.689G       1.58      1.266      1.266          5        640: 100%|██████████| 306/306 [00:24<00:00, 12.52it/s]\n",
      "                 Class     Images  Instances      Box(P          R      mAP50  mAP50-95): 100%|██████████| 64/64 [00:03<00:00, 19.23it/s]\n"
     ]
    },
    {
     "name": "stdout",
     "output_type": "stream",
     "text": [
      "                   all        510       1658      0.714      0.535       0.59      0.312\n",
      "\n",
      "      Epoch    GPU_mem   box_loss   cls_loss   dfl_loss  Instances       Size\n"
     ]
    },
    {
     "name": "stderr",
     "output_type": "stream",
     "text": [
      "    138/300     0.691G      1.588      1.265      1.252          1        640: 100%|██████████| 306/306 [00:24<00:00, 12.27it/s]\n",
      "                 Class     Images  Instances      Box(P          R      mAP50  mAP50-95): 100%|██████████| 64/64 [00:03<00:00, 18.23it/s]\n"
     ]
    },
    {
     "name": "stdout",
     "output_type": "stream",
     "text": [
      "                   all        510       1658      0.707      0.536      0.589      0.316\n",
      "\n",
      "      Epoch    GPU_mem   box_loss   cls_loss   dfl_loss  Instances       Size\n"
     ]
    },
    {
     "name": "stderr",
     "output_type": "stream",
     "text": [
      "    139/300     0.691G      1.598      1.266      1.271          1        640: 100%|██████████| 306/306 [00:25<00:00, 12.11it/s]\n",
      "                 Class     Images  Instances      Box(P          R      mAP50  mAP50-95): 100%|██████████| 64/64 [00:03<00:00, 18.55it/s]\n"
     ]
    },
    {
     "name": "stdout",
     "output_type": "stream",
     "text": [
      "                   all        510       1658      0.672      0.554      0.593       0.32\n",
      "\n",
      "      Epoch    GPU_mem   box_loss   cls_loss   dfl_loss  Instances       Size\n"
     ]
    },
    {
     "name": "stderr",
     "output_type": "stream",
     "text": [
      "    140/300     0.691G      1.579       1.24      1.258         14        640: 100%|██████████| 306/306 [00:24<00:00, 12.34it/s]\n",
      "                 Class     Images  Instances      Box(P          R      mAP50  mAP50-95): 100%|██████████| 64/64 [00:02<00:00, 22.98it/s]\n"
     ]
    },
    {
     "name": "stdout",
     "output_type": "stream",
     "text": [
      "                   all        510       1658      0.696      0.552      0.593      0.314\n",
      "\n",
      "      Epoch    GPU_mem   box_loss   cls_loss   dfl_loss  Instances       Size\n"
     ]
    },
    {
     "name": "stderr",
     "output_type": "stream",
     "text": [
      "    141/300     0.691G      1.576      1.247      1.247          6        640: 100%|██████████| 306/306 [00:24<00:00, 12.44it/s]\n",
      "                 Class     Images  Instances      Box(P          R      mAP50  mAP50-95): 100%|██████████| 64/64 [00:03<00:00, 19.29it/s]\n"
     ]
    },
    {
     "name": "stdout",
     "output_type": "stream",
     "text": [
      "                   all        510       1658      0.687      0.542      0.584      0.315\n",
      "\n",
      "      Epoch    GPU_mem   box_loss   cls_loss   dfl_loss  Instances       Size\n"
     ]
    },
    {
     "name": "stderr",
     "output_type": "stream",
     "text": [
      "    142/300     0.691G      1.585      1.265      1.252          5        640: 100%|██████████| 306/306 [00:25<00:00, 12.17it/s]\n",
      "                 Class     Images  Instances      Box(P          R      mAP50  mAP50-95): 100%|██████████| 64/64 [00:03<00:00, 18.84it/s]\n"
     ]
    },
    {
     "name": "stdout",
     "output_type": "stream",
     "text": [
      "                   all        510       1658      0.708       0.54      0.591      0.313\n",
      "\n",
      "      Epoch    GPU_mem   box_loss   cls_loss   dfl_loss  Instances       Size\n"
     ]
    },
    {
     "name": "stderr",
     "output_type": "stream",
     "text": [
      "    143/300     0.691G      1.572      1.262      1.265          2        640: 100%|██████████| 306/306 [00:25<00:00, 11.85it/s]\n",
      "                 Class     Images  Instances      Box(P          R      mAP50  mAP50-95): 100%|██████████| 64/64 [00:03<00:00, 20.06it/s]\n"
     ]
    },
    {
     "name": "stdout",
     "output_type": "stream",
     "text": [
      "                   all        510       1658      0.686      0.548      0.581       0.31\n",
      "\n",
      "      Epoch    GPU_mem   box_loss   cls_loss   dfl_loss  Instances       Size\n"
     ]
    },
    {
     "name": "stderr",
     "output_type": "stream",
     "text": [
      "    144/300     0.691G      1.556      1.207       1.25          3        640: 100%|██████████| 306/306 [00:26<00:00, 11.74it/s]\n",
      "                 Class     Images  Instances      Box(P          R      mAP50  mAP50-95): 100%|██████████| 64/64 [00:03<00:00, 18.68it/s]\n"
     ]
    },
    {
     "name": "stdout",
     "output_type": "stream",
     "text": [
      "                   all        510       1658      0.699      0.533      0.587      0.317\n",
      "\n",
      "      Epoch    GPU_mem   box_loss   cls_loss   dfl_loss  Instances       Size\n"
     ]
    },
    {
     "name": "stderr",
     "output_type": "stream",
     "text": [
      "    145/300     0.691G      1.576      1.219       1.25          4        640: 100%|██████████| 306/306 [00:25<00:00, 11.90it/s]\n",
      "                 Class     Images  Instances      Box(P          R      mAP50  mAP50-95): 100%|██████████| 64/64 [00:03<00:00, 18.85it/s]\n"
     ]
    },
    {
     "name": "stdout",
     "output_type": "stream",
     "text": [
      "                   all        510       1658      0.664      0.558      0.592      0.317\n",
      "\n",
      "      Epoch    GPU_mem   box_loss   cls_loss   dfl_loss  Instances       Size\n"
     ]
    },
    {
     "name": "stderr",
     "output_type": "stream",
     "text": [
      "    146/300     0.691G      1.559      1.221      1.246          4        640: 100%|██████████| 306/306 [00:27<00:00, 11.25it/s]\n",
      "                 Class     Images  Instances      Box(P          R      mAP50  mAP50-95): 100%|██████████| 64/64 [00:03<00:00, 18.49it/s]\n"
     ]
    },
    {
     "name": "stdout",
     "output_type": "stream",
     "text": [
      "                   all        510       1658      0.765      0.514      0.596      0.318\n",
      "\n",
      "      Epoch    GPU_mem   box_loss   cls_loss   dfl_loss  Instances       Size\n"
     ]
    },
    {
     "name": "stderr",
     "output_type": "stream",
     "text": [
      "    147/300     0.691G      1.533      1.182      1.228          1        640: 100%|██████████| 306/306 [00:26<00:00, 11.35it/s]\n",
      "                 Class     Images  Instances      Box(P          R      mAP50  mAP50-95): 100%|██████████| 64/64 [00:03<00:00, 20.96it/s]\n",
      "  0%|          | 0/306 [00:00<?, ?it/s]"
     ]
    },
    {
     "name": "stdout",
     "output_type": "stream",
     "text": [
      "                   all        510       1658      0.736      0.535      0.599      0.318\n",
      "\n",
      "      Epoch    GPU_mem   box_loss   cls_loss   dfl_loss  Instances       Size\n"
     ]
    },
    {
     "name": "stderr",
     "output_type": "stream",
     "text": [
      "    148/300     0.691G      1.581      1.253      1.259         11        640: 100%|██████████| 306/306 [00:25<00:00, 12.23it/s]\n",
      "                 Class     Images  Instances      Box(P          R      mAP50  mAP50-95): 100%|██████████| 64/64 [00:03<00:00, 18.97it/s]\n"
     ]
    },
    {
     "name": "stdout",
     "output_type": "stream",
     "text": [
      "                   all        510       1658      0.696      0.542      0.587      0.313\n",
      "\n",
      "      Epoch    GPU_mem   box_loss   cls_loss   dfl_loss  Instances       Size\n"
     ]
    },
    {
     "name": "stderr",
     "output_type": "stream",
     "text": [
      "    149/300     0.691G       1.54      1.189      1.231          8        640: 100%|██████████| 306/306 [00:23<00:00, 13.04it/s]\n",
      "                 Class     Images  Instances      Box(P          R      mAP50  mAP50-95): 100%|██████████| 64/64 [00:03<00:00, 18.92it/s]\n"
     ]
    },
    {
     "name": "stdout",
     "output_type": "stream",
     "text": [
      "                   all        510       1658      0.712      0.535      0.593      0.322\n",
      "\n",
      "      Epoch    GPU_mem   box_loss   cls_loss   dfl_loss  Instances       Size\n"
     ]
    },
    {
     "name": "stderr",
     "output_type": "stream",
     "text": [
      "    150/300     0.691G      1.581      1.266      1.259          4        640: 100%|██████████| 306/306 [00:26<00:00, 11.34it/s]\n",
      "                 Class     Images  Instances      Box(P          R      mAP50  mAP50-95): 100%|██████████| 64/64 [00:03<00:00, 18.77it/s]\n"
     ]
    },
    {
     "name": "stdout",
     "output_type": "stream",
     "text": [
      "                   all        510       1658      0.706      0.552      0.595       0.32\n",
      "\n",
      "      Epoch    GPU_mem   box_loss   cls_loss   dfl_loss  Instances       Size\n"
     ]
    },
    {
     "name": "stderr",
     "output_type": "stream",
     "text": [
      "    151/300     0.691G      1.563      1.225      1.252          7        640: 100%|██████████| 306/306 [00:25<00:00, 12.11it/s]\n",
      "                 Class     Images  Instances      Box(P          R      mAP50  mAP50-95): 100%|██████████| 64/64 [00:03<00:00, 19.23it/s]\n"
     ]
    },
    {
     "name": "stdout",
     "output_type": "stream",
     "text": [
      "                   all        510       1658      0.701       0.55      0.593       0.32\n",
      "\n",
      "      Epoch    GPU_mem   box_loss   cls_loss   dfl_loss  Instances       Size\n"
     ]
    },
    {
     "name": "stderr",
     "output_type": "stream",
     "text": [
      "    152/300     0.691G      1.553      1.173      1.239          2        640: 100%|██████████| 306/306 [00:24<00:00, 12.37it/s]\n",
      "                 Class     Images  Instances      Box(P          R      mAP50  mAP50-95): 100%|██████████| 64/64 [00:03<00:00, 18.66it/s]\n"
     ]
    },
    {
     "name": "stdout",
     "output_type": "stream",
     "text": [
      "                   all        510       1658      0.756      0.523      0.597      0.317\n",
      "\n",
      "      Epoch    GPU_mem   box_loss   cls_loss   dfl_loss  Instances       Size\n"
     ]
    },
    {
     "name": "stderr",
     "output_type": "stream",
     "text": [
      "    153/300     0.691G      1.533      1.208      1.229          0        640: 100%|██████████| 306/306 [00:26<00:00, 11.37it/s]\n",
      "                 Class     Images  Instances      Box(P          R      mAP50  mAP50-95): 100%|██████████| 64/64 [00:03<00:00, 18.89it/s]\n"
     ]
    },
    {
     "name": "stdout",
     "output_type": "stream",
     "text": [
      "                   all        510       1658       0.76      0.539      0.609      0.324\n",
      "\n",
      "      Epoch    GPU_mem   box_loss   cls_loss   dfl_loss  Instances       Size\n"
     ]
    },
    {
     "name": "stderr",
     "output_type": "stream",
     "text": [
      "    154/300     0.691G      1.514      1.186      1.238          6        640: 100%|██████████| 306/306 [00:27<00:00, 11.01it/s]\n",
      "                 Class     Images  Instances      Box(P          R      mAP50  mAP50-95): 100%|██████████| 64/64 [00:03<00:00, 19.53it/s]\n"
     ]
    },
    {
     "name": "stdout",
     "output_type": "stream",
     "text": [
      "                   all        510       1658      0.743       0.54       0.61      0.325\n",
      "\n",
      "      Epoch    GPU_mem   box_loss   cls_loss   dfl_loss  Instances       Size\n"
     ]
    },
    {
     "name": "stderr",
     "output_type": "stream",
     "text": [
      "    155/300     0.691G      1.552      1.206      1.231          3        640: 100%|██████████| 306/306 [00:26<00:00, 11.72it/s]\n",
      "                 Class     Images  Instances      Box(P          R      mAP50  mAP50-95): 100%|██████████| 64/64 [00:03<00:00, 18.21it/s]\n"
     ]
    },
    {
     "name": "stdout",
     "output_type": "stream",
     "text": [
      "                   all        510       1658      0.724       0.56      0.607      0.324\n",
      "\n",
      "      Epoch    GPU_mem   box_loss   cls_loss   dfl_loss  Instances       Size\n"
     ]
    },
    {
     "name": "stderr",
     "output_type": "stream",
     "text": [
      "    156/300     0.691G      1.537      1.186      1.225          1        640: 100%|██████████| 306/306 [00:27<00:00, 11.07it/s]\n",
      "                 Class     Images  Instances      Box(P          R      mAP50  mAP50-95): 100%|██████████| 64/64 [00:03<00:00, 20.87it/s]\n"
     ]
    },
    {
     "name": "stdout",
     "output_type": "stream",
     "text": [
      "                   all        510       1658       0.74      0.544      0.611      0.329\n",
      "\n",
      "      Epoch    GPU_mem   box_loss   cls_loss   dfl_loss  Instances       Size\n"
     ]
    },
    {
     "name": "stderr",
     "output_type": "stream",
     "text": [
      "    157/300     0.691G      1.523      1.202      1.224          9        640: 100%|██████████| 306/306 [00:25<00:00, 12.24it/s]\n",
      "                 Class     Images  Instances      Box(P          R      mAP50  mAP50-95): 100%|██████████| 64/64 [00:03<00:00, 18.79it/s]\n"
     ]
    },
    {
     "name": "stdout",
     "output_type": "stream",
     "text": [
      "                   all        510       1658      0.751      0.532      0.604      0.327\n",
      "\n",
      "      Epoch    GPU_mem   box_loss   cls_loss   dfl_loss  Instances       Size\n"
     ]
    },
    {
     "name": "stderr",
     "output_type": "stream",
     "text": [
      "    158/300     0.691G      1.551      1.195      1.244          5        640: 100%|██████████| 306/306 [00:25<00:00, 11.96it/s]\n",
      "                 Class     Images  Instances      Box(P          R      mAP50  mAP50-95): 100%|██████████| 64/64 [00:02<00:00, 21.40it/s]\n"
     ]
    },
    {
     "name": "stdout",
     "output_type": "stream",
     "text": [
      "                   all        510       1658      0.733      0.546       0.61       0.33\n",
      "\n",
      "      Epoch    GPU_mem   box_loss   cls_loss   dfl_loss  Instances       Size\n"
     ]
    },
    {
     "name": "stderr",
     "output_type": "stream",
     "text": [
      "    159/300     0.691G      1.534      1.179      1.225          3        640: 100%|██████████| 306/306 [00:25<00:00, 12.21it/s]\n",
      "                 Class     Images  Instances      Box(P          R      mAP50  mAP50-95): 100%|██████████| 64/64 [00:03<00:00, 21.00it/s]\n"
     ]
    },
    {
     "name": "stdout",
     "output_type": "stream",
     "text": [
      "                   all        510       1658      0.724      0.559       0.62      0.336\n",
      "\n",
      "      Epoch    GPU_mem   box_loss   cls_loss   dfl_loss  Instances       Size\n"
     ]
    },
    {
     "name": "stderr",
     "output_type": "stream",
     "text": [
      "    160/300     0.691G      1.538      1.182      1.227          4        640: 100%|██████████| 306/306 [00:25<00:00, 12.21it/s]\n",
      "                 Class     Images  Instances      Box(P          R      mAP50  mAP50-95): 100%|██████████| 64/64 [00:03<00:00, 19.24it/s]\n"
     ]
    },
    {
     "name": "stdout",
     "output_type": "stream",
     "text": [
      "                   all        510       1658      0.739       0.56      0.612      0.331\n",
      "\n",
      "      Epoch    GPU_mem   box_loss   cls_loss   dfl_loss  Instances       Size\n"
     ]
    },
    {
     "name": "stderr",
     "output_type": "stream",
     "text": [
      "    161/300     0.691G      1.522      1.184      1.228          2        640: 100%|██████████| 306/306 [00:27<00:00, 11.22it/s]\n",
      "                 Class     Images  Instances      Box(P          R      mAP50  mAP50-95): 100%|██████████| 64/64 [00:03<00:00, 18.56it/s]\n"
     ]
    },
    {
     "name": "stdout",
     "output_type": "stream",
     "text": [
      "                   all        510       1658      0.734      0.555      0.608      0.327\n",
      "\n",
      "      Epoch    GPU_mem   box_loss   cls_loss   dfl_loss  Instances       Size\n"
     ]
    },
    {
     "name": "stderr",
     "output_type": "stream",
     "text": [
      "    162/300     0.691G      1.546       1.18      1.213          2        640: 100%|██████████| 306/306 [00:27<00:00, 11.07it/s]\n",
      "                 Class     Images  Instances      Box(P          R      mAP50  mAP50-95): 100%|██████████| 64/64 [00:03<00:00, 19.56it/s]\n"
     ]
    },
    {
     "name": "stdout",
     "output_type": "stream",
     "text": [
      "                   all        510       1658      0.772       0.54      0.607      0.329\n",
      "\n",
      "      Epoch    GPU_mem   box_loss   cls_loss   dfl_loss  Instances       Size\n"
     ]
    },
    {
     "name": "stderr",
     "output_type": "stream",
     "text": [
      "    163/300     0.691G      1.516      1.176      1.217          8        640: 100%|██████████| 306/306 [00:26<00:00, 11.55it/s]\n",
      "                 Class     Images  Instances      Box(P          R      mAP50  mAP50-95): 100%|██████████| 64/64 [00:03<00:00, 18.19it/s]\n"
     ]
    },
    {
     "name": "stdout",
     "output_type": "stream",
     "text": [
      "                   all        510       1658      0.715      0.561      0.609      0.327\n",
      "\n",
      "      Epoch    GPU_mem   box_loss   cls_loss   dfl_loss  Instances       Size\n"
     ]
    },
    {
     "name": "stderr",
     "output_type": "stream",
     "text": [
      "    164/300     0.691G      1.519      1.151      1.211          3        640: 100%|██████████| 306/306 [00:28<00:00, 10.93it/s]\n",
      "                 Class     Images  Instances      Box(P          R      mAP50  mAP50-95): 100%|██████████| 64/64 [00:03<00:00, 19.34it/s]\n"
     ]
    },
    {
     "name": "stdout",
     "output_type": "stream",
     "text": [
      "                   all        510       1658      0.769      0.548      0.609      0.325\n",
      "\n",
      "      Epoch    GPU_mem   box_loss   cls_loss   dfl_loss  Instances       Size\n"
     ]
    },
    {
     "name": "stderr",
     "output_type": "stream",
     "text": [
      "    165/300     0.691G      1.522      1.165      1.224          6        640: 100%|██████████| 306/306 [00:25<00:00, 11.81it/s]\n",
      "                 Class     Images  Instances      Box(P          R      mAP50  mAP50-95): 100%|██████████| 64/64 [00:03<00:00, 20.52it/s]\n"
     ]
    },
    {
     "name": "stdout",
     "output_type": "stream",
     "text": [
      "                   all        510       1658       0.79       0.54      0.614      0.329\n",
      "\n",
      "      Epoch    GPU_mem   box_loss   cls_loss   dfl_loss  Instances       Size\n"
     ]
    },
    {
     "name": "stderr",
     "output_type": "stream",
     "text": [
      "    166/300     0.691G      1.517       1.14      1.214         12        640: 100%|██████████| 306/306 [00:24<00:00, 12.26it/s]\n",
      "                 Class     Images  Instances      Box(P          R      mAP50  mAP50-95): 100%|██████████| 64/64 [00:03<00:00, 18.66it/s]\n"
     ]
    },
    {
     "name": "stdout",
     "output_type": "stream",
     "text": [
      "                   all        510       1658      0.753      0.544      0.611       0.33\n",
      "\n",
      "      Epoch    GPU_mem   box_loss   cls_loss   dfl_loss  Instances       Size\n"
     ]
    },
    {
     "name": "stderr",
     "output_type": "stream",
     "text": [
      "    167/300     0.691G      1.502      1.171      1.207          2        640: 100%|██████████| 306/306 [00:25<00:00, 12.14it/s]\n",
      "                 Class     Images  Instances      Box(P          R      mAP50  mAP50-95): 100%|██████████| 64/64 [00:03<00:00, 19.49it/s]\n"
     ]
    },
    {
     "name": "stdout",
     "output_type": "stream",
     "text": [
      "                   all        510       1658      0.774      0.538      0.611       0.33\n",
      "\n",
      "      Epoch    GPU_mem   box_loss   cls_loss   dfl_loss  Instances       Size\n"
     ]
    },
    {
     "name": "stderr",
     "output_type": "stream",
     "text": [
      "    168/300     0.691G      1.497      1.144      1.206          0        640: 100%|██████████| 306/306 [00:25<00:00, 12.02it/s]\n",
      "                 Class     Images  Instances      Box(P          R      mAP50  mAP50-95): 100%|██████████| 64/64 [00:03<00:00, 19.88it/s]\n"
     ]
    },
    {
     "name": "stdout",
     "output_type": "stream",
     "text": [
      "                   all        510       1658      0.751      0.537      0.608      0.332\n",
      "\n",
      "      Epoch    GPU_mem   box_loss   cls_loss   dfl_loss  Instances       Size\n"
     ]
    },
    {
     "name": "stderr",
     "output_type": "stream",
     "text": [
      "    169/300     0.691G      1.511      1.183      1.223          4        640: 100%|██████████| 306/306 [00:28<00:00, 10.62it/s]\n",
      "                 Class     Images  Instances      Box(P          R      mAP50  mAP50-95): 100%|██████████| 64/64 [00:03<00:00, 18.50it/s]\n"
     ]
    },
    {
     "name": "stdout",
     "output_type": "stream",
     "text": [
      "                   all        510       1658      0.727      0.541      0.606      0.328\n",
      "\n",
      "      Epoch    GPU_mem   box_loss   cls_loss   dfl_loss  Instances       Size\n"
     ]
    },
    {
     "name": "stderr",
     "output_type": "stream",
     "text": [
      "    170/300     0.691G      1.476      1.122      1.211         11        640: 100%|██████████| 306/306 [00:27<00:00, 11.31it/s]\n",
      "                 Class     Images  Instances      Box(P          R      mAP50  mAP50-95): 100%|██████████| 64/64 [00:02<00:00, 21.97it/s]\n",
      "  0%|          | 0/306 [00:00<?, ?it/s]"
     ]
    },
    {
     "name": "stdout",
     "output_type": "stream",
     "text": [
      "                   all        510       1658      0.765      0.542      0.604      0.329\n",
      "\n",
      "      Epoch    GPU_mem   box_loss   cls_loss   dfl_loss  Instances       Size\n"
     ]
    },
    {
     "name": "stderr",
     "output_type": "stream",
     "text": [
      "    171/300     0.691G      1.517      1.142      1.214          2        640: 100%|██████████| 306/306 [00:25<00:00, 11.90it/s]\n",
      "                 Class     Images  Instances      Box(P          R      mAP50  mAP50-95): 100%|██████████| 64/64 [00:02<00:00, 22.84it/s]\n"
     ]
    },
    {
     "name": "stdout",
     "output_type": "stream",
     "text": [
      "                   all        510       1658      0.739      0.547      0.606      0.331\n",
      "\n",
      "      Epoch    GPU_mem   box_loss   cls_loss   dfl_loss  Instances       Size\n"
     ]
    },
    {
     "name": "stderr",
     "output_type": "stream",
     "text": [
      "    172/300     0.691G      1.503       1.12       1.19          1        640: 100%|██████████| 306/306 [00:26<00:00, 11.66it/s]\n",
      "                 Class     Images  Instances      Box(P          R      mAP50  mAP50-95): 100%|██████████| 64/64 [00:03<00:00, 19.42it/s]\n"
     ]
    },
    {
     "name": "stdout",
     "output_type": "stream",
     "text": [
      "                   all        510       1658      0.714      0.554      0.603      0.334\n",
      "\n",
      "      Epoch    GPU_mem   box_loss   cls_loss   dfl_loss  Instances       Size\n"
     ]
    },
    {
     "name": "stderr",
     "output_type": "stream",
     "text": [
      "    173/300     0.691G      1.484      1.107      1.201         13        640: 100%|██████████| 306/306 [00:26<00:00, 11.43it/s]\n",
      "                 Class     Images  Instances      Box(P          R      mAP50  mAP50-95): 100%|██████████| 64/64 [00:03<00:00, 18.46it/s]\n"
     ]
    },
    {
     "name": "stdout",
     "output_type": "stream",
     "text": [
      "                   all        510       1658       0.74      0.544       0.61      0.335\n",
      "\n",
      "      Epoch    GPU_mem   box_loss   cls_loss   dfl_loss  Instances       Size\n"
     ]
    },
    {
     "name": "stderr",
     "output_type": "stream",
     "text": [
      "    174/300     0.691G      1.509      1.135      1.191         12        640: 100%|██████████| 306/306 [00:28<00:00, 10.65it/s]\n",
      "                 Class     Images  Instances      Box(P          R      mAP50  mAP50-95): 100%|██████████| 64/64 [00:03<00:00, 18.43it/s]\n"
     ]
    },
    {
     "name": "stdout",
     "output_type": "stream",
     "text": [
      "                   all        510       1658      0.733      0.562      0.614      0.341\n",
      "\n",
      "      Epoch    GPU_mem   box_loss   cls_loss   dfl_loss  Instances       Size\n"
     ]
    },
    {
     "name": "stderr",
     "output_type": "stream",
     "text": [
      "    175/300     0.691G      1.476      1.087        1.2          3        640: 100%|██████████| 306/306 [00:24<00:00, 12.52it/s]\n",
      "                 Class     Images  Instances      Box(P          R      mAP50  mAP50-95): 100%|██████████| 64/64 [00:03<00:00, 19.50it/s]\n"
     ]
    },
    {
     "name": "stdout",
     "output_type": "stream",
     "text": [
      "                   all        510       1658      0.719      0.568      0.617      0.339\n",
      "\n",
      "      Epoch    GPU_mem   box_loss   cls_loss   dfl_loss  Instances       Size\n"
     ]
    },
    {
     "name": "stderr",
     "output_type": "stream",
     "text": [
      "    176/300     0.691G      1.494      1.161      1.216          7        640: 100%|██████████| 306/306 [00:25<00:00, 11.82it/s]\n",
      "                 Class     Images  Instances      Box(P          R      mAP50  mAP50-95): 100%|██████████| 64/64 [00:03<00:00, 18.60it/s]\n"
     ]
    },
    {
     "name": "stdout",
     "output_type": "stream",
     "text": [
      "                   all        510       1658      0.758      0.561      0.624      0.338\n",
      "\n",
      "      Epoch    GPU_mem   box_loss   cls_loss   dfl_loss  Instances       Size\n"
     ]
    },
    {
     "name": "stderr",
     "output_type": "stream",
     "text": [
      "    177/300     0.691G      1.461      1.104      1.194          6        640: 100%|██████████| 306/306 [00:25<00:00, 11.88it/s]\n",
      "                 Class     Images  Instances      Box(P          R      mAP50  mAP50-95): 100%|██████████| 64/64 [00:03<00:00, 19.92it/s]\n"
     ]
    },
    {
     "name": "stdout",
     "output_type": "stream",
     "text": [
      "                   all        510       1658      0.738      0.569      0.625      0.342\n",
      "\n",
      "      Epoch    GPU_mem   box_loss   cls_loss   dfl_loss  Instances       Size\n"
     ]
    },
    {
     "name": "stderr",
     "output_type": "stream",
     "text": [
      "    178/300     0.691G       1.51      1.134      1.189          2        640: 100%|██████████| 306/306 [00:24<00:00, 12.40it/s]\n",
      "                 Class     Images  Instances      Box(P          R      mAP50  mAP50-95): 100%|██████████| 64/64 [00:03<00:00, 18.99it/s]\n"
     ]
    },
    {
     "name": "stdout",
     "output_type": "stream",
     "text": [
      "                   all        510       1658      0.719      0.564      0.623      0.344\n",
      "\n",
      "      Epoch    GPU_mem   box_loss   cls_loss   dfl_loss  Instances       Size\n"
     ]
    },
    {
     "name": "stderr",
     "output_type": "stream",
     "text": [
      "    179/300     0.691G      1.464      1.077       1.19          0        640: 100%|██████████| 306/306 [00:24<00:00, 12.29it/s]\n",
      "                 Class     Images  Instances      Box(P          R      mAP50  mAP50-95): 100%|██████████| 64/64 [00:03<00:00, 20.12it/s]\n"
     ]
    },
    {
     "name": "stdout",
     "output_type": "stream",
     "text": [
      "                   all        510       1658      0.754      0.553      0.622      0.337\n",
      "\n",
      "      Epoch    GPU_mem   box_loss   cls_loss   dfl_loss  Instances       Size\n"
     ]
    },
    {
     "name": "stderr",
     "output_type": "stream",
     "text": [
      "    180/300     0.691G      1.483      1.108      1.192         12        640: 100%|██████████| 306/306 [00:24<00:00, 12.24it/s]\n",
      "                 Class     Images  Instances      Box(P          R      mAP50  mAP50-95): 100%|██████████| 64/64 [00:03<00:00, 20.93it/s]\n"
     ]
    },
    {
     "name": "stdout",
     "output_type": "stream",
     "text": [
      "                   all        510       1658      0.749      0.566      0.628      0.342\n",
      "\n",
      "      Epoch    GPU_mem   box_loss   cls_loss   dfl_loss  Instances       Size\n"
     ]
    },
    {
     "name": "stderr",
     "output_type": "stream",
     "text": [
      "    181/300     0.691G      1.487      1.083      1.196          3        640: 100%|██████████| 306/306 [00:27<00:00, 11.16it/s]\n",
      "                 Class     Images  Instances      Box(P          R      mAP50  mAP50-95): 100%|██████████| 64/64 [00:03<00:00, 18.92it/s]\n"
     ]
    },
    {
     "name": "stdout",
     "output_type": "stream",
     "text": [
      "                   all        510       1658      0.745      0.565      0.626      0.335\n",
      "\n",
      "      Epoch    GPU_mem   box_loss   cls_loss   dfl_loss  Instances       Size\n"
     ]
    },
    {
     "name": "stderr",
     "output_type": "stream",
     "text": [
      "    182/300     0.691G       1.47      1.086      1.191          1        640: 100%|██████████| 306/306 [00:28<00:00, 10.63it/s]\n",
      "                 Class     Images  Instances      Box(P          R      mAP50  mAP50-95): 100%|██████████| 64/64 [00:03<00:00, 18.24it/s]\n"
     ]
    },
    {
     "name": "stdout",
     "output_type": "stream",
     "text": [
      "                   all        510       1658      0.731      0.579      0.623      0.337\n",
      "\n",
      "      Epoch    GPU_mem   box_loss   cls_loss   dfl_loss  Instances       Size\n"
     ]
    },
    {
     "name": "stderr",
     "output_type": "stream",
     "text": [
      "    183/300     0.691G      1.493      1.096      1.217          6        640: 100%|██████████| 306/306 [00:26<00:00, 11.44it/s]\n",
      "                 Class     Images  Instances      Box(P          R      mAP50  mAP50-95): 100%|██████████| 64/64 [00:03<00:00, 19.44it/s]\n"
     ]
    },
    {
     "name": "stdout",
     "output_type": "stream",
     "text": [
      "                   all        510       1658       0.78       0.58      0.631       0.34\n",
      "\n",
      "      Epoch    GPU_mem   box_loss   cls_loss   dfl_loss  Instances       Size\n"
     ]
    },
    {
     "name": "stderr",
     "output_type": "stream",
     "text": [
      "    184/300     0.691G      1.488      1.107      1.198          3        640: 100%|██████████| 306/306 [00:26<00:00, 11.37it/s]\n",
      "                 Class     Images  Instances      Box(P          R      mAP50  mAP50-95): 100%|██████████| 64/64 [00:03<00:00, 18.26it/s]\n"
     ]
    },
    {
     "name": "stdout",
     "output_type": "stream",
     "text": [
      "                   all        510       1658      0.722      0.584      0.628      0.342\n",
      "\n",
      "      Epoch    GPU_mem   box_loss   cls_loss   dfl_loss  Instances       Size\n"
     ]
    },
    {
     "name": "stderr",
     "output_type": "stream",
     "text": [
      "    185/300     0.691G      1.468      1.103      1.191         11        640: 100%|██████████| 306/306 [00:27<00:00, 11.01it/s]\n",
      "                 Class     Images  Instances      Box(P          R      mAP50  mAP50-95): 100%|██████████| 64/64 [00:03<00:00, 18.49it/s]\n"
     ]
    },
    {
     "name": "stdout",
     "output_type": "stream",
     "text": [
      "                   all        510       1658      0.756      0.564      0.626      0.342\n",
      "\n",
      "      Epoch    GPU_mem   box_loss   cls_loss   dfl_loss  Instances       Size\n"
     ]
    },
    {
     "name": "stderr",
     "output_type": "stream",
     "text": [
      "    186/300     0.691G      1.462      1.098      1.187          3        640: 100%|██████████| 306/306 [00:27<00:00, 11.20it/s]\n",
      "                 Class     Images  Instances      Box(P          R      mAP50  mAP50-95): 100%|██████████| 64/64 [00:03<00:00, 20.14it/s]\n"
     ]
    },
    {
     "name": "stdout",
     "output_type": "stream",
     "text": [
      "                   all        510       1658      0.755      0.565      0.626       0.34\n",
      "\n",
      "      Epoch    GPU_mem   box_loss   cls_loss   dfl_loss  Instances       Size\n"
     ]
    },
    {
     "name": "stderr",
     "output_type": "stream",
     "text": [
      "    187/300     0.691G      1.483      1.094        1.2          5        640: 100%|██████████| 306/306 [00:24<00:00, 12.52it/s]\n",
      "                 Class     Images  Instances      Box(P          R      mAP50  mAP50-95): 100%|██████████| 64/64 [00:03<00:00, 19.51it/s]\n"
     ]
    },
    {
     "name": "stdout",
     "output_type": "stream",
     "text": [
      "                   all        510       1658      0.745      0.547      0.612      0.334\n",
      "\n",
      "      Epoch    GPU_mem   box_loss   cls_loss   dfl_loss  Instances       Size\n"
     ]
    },
    {
     "name": "stderr",
     "output_type": "stream",
     "text": [
      "    188/300     0.691G      1.453      1.069      1.183         13        640: 100%|██████████| 306/306 [00:24<00:00, 12.33it/s]\n",
      "                 Class     Images  Instances      Box(P          R      mAP50  mAP50-95): 100%|██████████| 64/64 [00:03<00:00, 20.14it/s]\n"
     ]
    },
    {
     "name": "stdout",
     "output_type": "stream",
     "text": [
      "                   all        510       1658      0.791      0.548      0.622      0.337\n",
      "\n",
      "      Epoch    GPU_mem   box_loss   cls_loss   dfl_loss  Instances       Size\n"
     ]
    },
    {
     "name": "stderr",
     "output_type": "stream",
     "text": [
      "    189/300     0.691G      1.467      1.091      1.189          6        640: 100%|██████████| 306/306 [00:28<00:00, 10.84it/s]\n",
      "                 Class     Images  Instances      Box(P          R      mAP50  mAP50-95): 100%|██████████| 64/64 [00:03<00:00, 19.14it/s]\n"
     ]
    },
    {
     "name": "stdout",
     "output_type": "stream",
     "text": [
      "                   all        510       1658      0.732      0.585      0.628      0.338\n",
      "\n",
      "      Epoch    GPU_mem   box_loss   cls_loss   dfl_loss  Instances       Size\n"
     ]
    },
    {
     "name": "stderr",
     "output_type": "stream",
     "text": [
      "    190/300     0.691G      1.441      1.078      1.185          0        640: 100%|██████████| 306/306 [00:27<00:00, 11.00it/s]\n",
      "                 Class     Images  Instances      Box(P          R      mAP50  mAP50-95): 100%|██████████| 64/64 [00:03<00:00, 18.33it/s]\n"
     ]
    },
    {
     "name": "stdout",
     "output_type": "stream",
     "text": [
      "                   all        510       1658      0.739      0.579      0.625      0.336\n",
      "\n",
      "      Epoch    GPU_mem   box_loss   cls_loss   dfl_loss  Instances       Size\n"
     ]
    },
    {
     "name": "stderr",
     "output_type": "stream",
     "text": [
      "    191/300     0.691G      1.457      1.054      1.184          2        640: 100%|██████████| 306/306 [00:26<00:00, 11.68it/s]\n",
      "                 Class     Images  Instances      Box(P          R      mAP50  mAP50-95): 100%|██████████| 64/64 [00:03<00:00, 20.39it/s]\n"
     ]
    },
    {
     "name": "stdout",
     "output_type": "stream",
     "text": [
      "                   all        510       1658      0.745      0.578      0.629       0.34\n",
      "\n",
      "      Epoch    GPU_mem   box_loss   cls_loss   dfl_loss  Instances       Size\n"
     ]
    },
    {
     "name": "stderr",
     "output_type": "stream",
     "text": [
      "    192/300     0.691G      1.446      1.084      1.186          0        640: 100%|██████████| 306/306 [00:25<00:00, 11.84it/s]\n",
      "                 Class     Images  Instances      Box(P          R      mAP50  mAP50-95): 100%|██████████| 64/64 [00:03<00:00, 19.73it/s]\n"
     ]
    },
    {
     "name": "stdout",
     "output_type": "stream",
     "text": [
      "                   all        510       1658      0.768      0.547      0.624      0.337\n",
      "\n",
      "      Epoch    GPU_mem   box_loss   cls_loss   dfl_loss  Instances       Size\n"
     ]
    },
    {
     "name": "stderr",
     "output_type": "stream",
     "text": [
      "    193/300     0.691G      1.445      1.071      1.173          3        640: 100%|██████████| 306/306 [00:27<00:00, 11.14it/s]\n",
      "                 Class     Images  Instances      Box(P          R      mAP50  mAP50-95): 100%|██████████| 64/64 [00:03<00:00, 20.00it/s]\n"
     ]
    },
    {
     "name": "stdout",
     "output_type": "stream",
     "text": [
      "                   all        510       1658      0.757      0.555      0.622      0.337\n",
      "\n",
      "      Epoch    GPU_mem   box_loss   cls_loss   dfl_loss  Instances       Size\n"
     ]
    },
    {
     "name": "stderr",
     "output_type": "stream",
     "text": [
      "    194/300     0.691G      1.457      1.077      1.189          1        640: 100%|██████████| 306/306 [00:24<00:00, 12.37it/s]\n",
      "                 Class     Images  Instances      Box(P          R      mAP50  mAP50-95): 100%|██████████| 64/64 [00:03<00:00, 18.80it/s]\n"
     ]
    },
    {
     "name": "stdout",
     "output_type": "stream",
     "text": [
      "                   all        510       1658       0.75      0.555      0.629       0.34\n",
      "\n",
      "      Epoch    GPU_mem   box_loss   cls_loss   dfl_loss  Instances       Size\n"
     ]
    },
    {
     "name": "stderr",
     "output_type": "stream",
     "text": [
      "    195/300     0.691G      1.452      1.088      1.185          4        640: 100%|██████████| 306/306 [00:25<00:00, 12.15it/s]\n",
      "                 Class     Images  Instances      Box(P          R      mAP50  mAP50-95): 100%|██████████| 64/64 [00:03<00:00, 18.55it/s]\n"
     ]
    },
    {
     "name": "stdout",
     "output_type": "stream",
     "text": [
      "                   all        510       1658      0.754      0.563      0.626       0.34\n",
      "\n",
      "      Epoch    GPU_mem   box_loss   cls_loss   dfl_loss  Instances       Size\n"
     ]
    },
    {
     "name": "stderr",
     "output_type": "stream",
     "text": [
      "    196/300     0.691G      1.459      1.084      1.176          4        640: 100%|██████████| 306/306 [00:28<00:00, 10.81it/s]\n",
      "                 Class     Images  Instances      Box(P          R      mAP50  mAP50-95): 100%|██████████| 64/64 [00:03<00:00, 18.78it/s]\n"
     ]
    },
    {
     "name": "stdout",
     "output_type": "stream",
     "text": [
      "                   all        510       1658      0.752      0.566      0.626      0.336\n",
      "\n",
      "      Epoch    GPU_mem   box_loss   cls_loss   dfl_loss  Instances       Size\n"
     ]
    },
    {
     "name": "stderr",
     "output_type": "stream",
     "text": [
      "    197/300     0.691G       1.46      1.077      1.178          5        640: 100%|██████████| 306/306 [00:28<00:00, 10.81it/s]\n",
      "                 Class     Images  Instances      Box(P          R      mAP50  mAP50-95): 100%|██████████| 64/64 [00:03<00:00, 17.79it/s]\n"
     ]
    },
    {
     "name": "stdout",
     "output_type": "stream",
     "text": [
      "                   all        510       1658      0.772      0.561      0.625      0.341\n",
      "\n",
      "      Epoch    GPU_mem   box_loss   cls_loss   dfl_loss  Instances       Size\n"
     ]
    },
    {
     "name": "stderr",
     "output_type": "stream",
     "text": [
      "    198/300     0.691G      1.472      1.072       1.17          3        640: 100%|██████████| 306/306 [00:24<00:00, 12.31it/s]\n",
      "                 Class     Images  Instances      Box(P          R      mAP50  mAP50-95): 100%|██████████| 64/64 [00:03<00:00, 18.76it/s]\n"
     ]
    },
    {
     "name": "stdout",
     "output_type": "stream",
     "text": [
      "                   all        510       1658      0.719      0.575      0.629      0.341\n",
      "\n",
      "      Epoch    GPU_mem   box_loss   cls_loss   dfl_loss  Instances       Size\n"
     ]
    },
    {
     "name": "stderr",
     "output_type": "stream",
     "text": [
      "    199/300     0.691G      1.439      1.058      1.176          5        640: 100%|██████████| 306/306 [00:24<00:00, 12.39it/s]\n",
      "                 Class     Images  Instances      Box(P          R      mAP50  mAP50-95): 100%|██████████| 64/64 [00:03<00:00, 20.27it/s]\n"
     ]
    },
    {
     "name": "stdout",
     "output_type": "stream",
     "text": [
      "                   all        510       1658      0.742      0.568      0.624      0.339\n",
      "\n",
      "      Epoch    GPU_mem   box_loss   cls_loss   dfl_loss  Instances       Size\n"
     ]
    },
    {
     "name": "stderr",
     "output_type": "stream",
     "text": [
      "    200/300     0.691G      1.442      1.057      1.159         12        640: 100%|██████████| 306/306 [00:26<00:00, 11.65it/s]\n",
      "                 Class     Images  Instances      Box(P          R      mAP50  mAP50-95): 100%|██████████| 64/64 [00:03<00:00, 19.51it/s]\n"
     ]
    },
    {
     "name": "stdout",
     "output_type": "stream",
     "text": [
      "                   all        510       1658       0.74      0.553      0.623      0.344\n",
      "\n",
      "      Epoch    GPU_mem   box_loss   cls_loss   dfl_loss  Instances       Size\n"
     ]
    },
    {
     "name": "stderr",
     "output_type": "stream",
     "text": [
      "    201/300     0.691G      1.441       1.05      1.173          4        640: 100%|██████████| 306/306 [00:24<00:00, 12.58it/s]\n",
      "                 Class     Images  Instances      Box(P          R      mAP50  mAP50-95): 100%|██████████| 64/64 [00:02<00:00, 22.30it/s]\n"
     ]
    },
    {
     "name": "stdout",
     "output_type": "stream",
     "text": [
      "                   all        510       1658      0.745      0.554      0.621      0.343\n",
      "\n",
      "      Epoch    GPU_mem   box_loss   cls_loss   dfl_loss  Instances       Size\n"
     ]
    },
    {
     "name": "stderr",
     "output_type": "stream",
     "text": [
      "    202/300     0.691G      1.429       1.05      1.166          6        640: 100%|██████████| 306/306 [00:24<00:00, 12.58it/s]\n",
      "                 Class     Images  Instances      Box(P          R      mAP50  mAP50-95): 100%|██████████| 64/64 [00:03<00:00, 18.50it/s]\n"
     ]
    },
    {
     "name": "stdout",
     "output_type": "stream",
     "text": [
      "                   all        510       1658      0.716      0.568       0.62      0.342\n",
      "\n",
      "      Epoch    GPU_mem   box_loss   cls_loss   dfl_loss  Instances       Size\n"
     ]
    },
    {
     "name": "stderr",
     "output_type": "stream",
     "text": [
      "    203/300     0.691G      1.416      1.046      1.161          0        640: 100%|██████████| 306/306 [00:25<00:00, 12.10it/s]\n",
      "                 Class     Images  Instances      Box(P          R      mAP50  mAP50-95): 100%|██████████| 64/64 [00:03<00:00, 18.57it/s]\n"
     ]
    },
    {
     "name": "stdout",
     "output_type": "stream",
     "text": [
      "                   all        510       1658       0.72       0.57      0.619       0.34\n",
      "\n",
      "      Epoch    GPU_mem   box_loss   cls_loss   dfl_loss  Instances       Size\n"
     ]
    },
    {
     "name": "stderr",
     "output_type": "stream",
     "text": [
      "    204/300     0.691G      1.441      1.066      1.194          1        640: 100%|██████████| 306/306 [00:25<00:00, 11.90it/s]\n",
      "                 Class     Images  Instances      Box(P          R      mAP50  mAP50-95): 100%|██████████| 64/64 [00:03<00:00, 18.64it/s]\n"
     ]
    },
    {
     "name": "stdout",
     "output_type": "stream",
     "text": [
      "                   all        510       1658       0.74      0.557      0.622      0.339\n",
      "\n",
      "      Epoch    GPU_mem   box_loss   cls_loss   dfl_loss  Instances       Size\n"
     ]
    },
    {
     "name": "stderr",
     "output_type": "stream",
     "text": [
      "    205/300     0.691G      1.411      1.012       1.16         12        640: 100%|██████████| 306/306 [00:26<00:00, 11.73it/s]\n",
      "                 Class     Images  Instances      Box(P          R      mAP50  mAP50-95): 100%|██████████| 64/64 [00:03<00:00, 18.66it/s]\n"
     ]
    },
    {
     "name": "stdout",
     "output_type": "stream",
     "text": [
      "                   all        510       1658      0.755      0.569       0.63      0.341\n",
      "\n",
      "      Epoch    GPU_mem   box_loss   cls_loss   dfl_loss  Instances       Size\n"
     ]
    },
    {
     "name": "stderr",
     "output_type": "stream",
     "text": [
      "    206/300     0.691G      1.418      1.029      1.166         10        640: 100%|██████████| 306/306 [00:27<00:00, 11.09it/s]\n",
      "                 Class     Images  Instances      Box(P          R      mAP50  mAP50-95): 100%|██████████| 64/64 [00:03<00:00, 18.89it/s]\n"
     ]
    },
    {
     "name": "stdout",
     "output_type": "stream",
     "text": [
      "                   all        510       1658       0.73      0.563      0.621      0.341\n",
      "\n",
      "      Epoch    GPU_mem   box_loss   cls_loss   dfl_loss  Instances       Size\n"
     ]
    },
    {
     "name": "stderr",
     "output_type": "stream",
     "text": [
      "    207/300     0.691G      1.402      1.037      1.171          0        640: 100%|██████████| 306/306 [00:24<00:00, 12.33it/s]\n",
      "                 Class     Images  Instances      Box(P          R      mAP50  mAP50-95): 100%|██████████| 64/64 [00:03<00:00, 18.73it/s]\n"
     ]
    },
    {
     "name": "stdout",
     "output_type": "stream",
     "text": [
      "                   all        510       1658      0.749      0.561       0.63      0.346\n",
      "\n",
      "      Epoch    GPU_mem   box_loss   cls_loss   dfl_loss  Instances       Size\n"
     ]
    },
    {
     "name": "stderr",
     "output_type": "stream",
     "text": [
      "    208/300     0.691G      1.424      1.038      1.177         12        640: 100%|██████████| 306/306 [00:26<00:00, 11.46it/s]\n",
      "                 Class     Images  Instances      Box(P          R      mAP50  mAP50-95): 100%|██████████| 64/64 [00:03<00:00, 19.02it/s]\n"
     ]
    },
    {
     "name": "stdout",
     "output_type": "stream",
     "text": [
      "                   all        510       1658      0.728       0.57       0.63      0.345\n",
      "\n",
      "      Epoch    GPU_mem   box_loss   cls_loss   dfl_loss  Instances       Size\n"
     ]
    },
    {
     "name": "stderr",
     "output_type": "stream",
     "text": [
      "    209/300     0.691G      1.408      1.032      1.167          3        640: 100%|██████████| 306/306 [00:24<00:00, 12.30it/s]\n",
      "                 Class     Images  Instances      Box(P          R      mAP50  mAP50-95): 100%|██████████| 64/64 [00:03<00:00, 19.23it/s]\n"
     ]
    },
    {
     "name": "stdout",
     "output_type": "stream",
     "text": [
      "                   all        510       1658      0.703      0.576       0.63      0.348\n",
      "\n",
      "      Epoch    GPU_mem   box_loss   cls_loss   dfl_loss  Instances       Size\n"
     ]
    },
    {
     "name": "stderr",
     "output_type": "stream",
     "text": [
      "    210/300     0.691G      1.445      1.047      1.154          8        640: 100%|██████████| 306/306 [00:27<00:00, 11.14it/s]\n",
      "                 Class     Images  Instances      Box(P          R      mAP50  mAP50-95): 100%|██████████| 64/64 [00:03<00:00, 18.76it/s]\n"
     ]
    },
    {
     "name": "stdout",
     "output_type": "stream",
     "text": [
      "                   all        510       1658       0.71      0.582       0.63      0.347\n",
      "\n",
      "      Epoch    GPU_mem   box_loss   cls_loss   dfl_loss  Instances       Size\n"
     ]
    },
    {
     "name": "stderr",
     "output_type": "stream",
     "text": [
      "    211/300     0.691G       1.43      1.036      1.172          1        640: 100%|██████████| 306/306 [00:24<00:00, 12.31it/s]\n",
      "                 Class     Images  Instances      Box(P          R      mAP50  mAP50-95): 100%|██████████| 64/64 [00:03<00:00, 19.77it/s]\n"
     ]
    },
    {
     "name": "stdout",
     "output_type": "stream",
     "text": [
      "                   all        510       1658      0.746      0.569      0.627      0.349\n",
      "\n",
      "      Epoch    GPU_mem   box_loss   cls_loss   dfl_loss  Instances       Size\n"
     ]
    },
    {
     "name": "stderr",
     "output_type": "stream",
     "text": [
      "    212/300     0.691G      1.378      1.008      1.148         10        640: 100%|██████████| 306/306 [00:29<00:00, 10.44it/s]\n",
      "                 Class     Images  Instances      Box(P          R      mAP50  mAP50-95): 100%|██████████| 64/64 [00:03<00:00, 17.94it/s]\n"
     ]
    },
    {
     "name": "stdout",
     "output_type": "stream",
     "text": [
      "                   all        510       1658      0.716      0.584      0.626      0.346\n",
      "\n",
      "      Epoch    GPU_mem   box_loss   cls_loss   dfl_loss  Instances       Size\n"
     ]
    },
    {
     "name": "stderr",
     "output_type": "stream",
     "text": [
      "    213/300     0.691G      1.412      1.014      1.162          8        640: 100%|██████████| 306/306 [00:27<00:00, 10.93it/s]\n",
      "                 Class     Images  Instances      Box(P          R      mAP50  mAP50-95): 100%|██████████| 64/64 [00:03<00:00, 18.30it/s]\n"
     ]
    },
    {
     "name": "stdout",
     "output_type": "stream",
     "text": [
      "                   all        510       1658      0.736      0.593      0.634      0.347\n",
      "\n",
      "      Epoch    GPU_mem   box_loss   cls_loss   dfl_loss  Instances       Size\n"
     ]
    },
    {
     "name": "stderr",
     "output_type": "stream",
     "text": [
      "    214/300     0.691G      1.388      1.006      1.169          7        640: 100%|██████████| 306/306 [00:28<00:00, 10.65it/s]\n",
      "                 Class     Images  Instances      Box(P          R      mAP50  mAP50-95): 100%|██████████| 64/64 [00:03<00:00, 18.84it/s]\n"
     ]
    },
    {
     "name": "stdout",
     "output_type": "stream",
     "text": [
      "                   all        510       1658      0.718      0.593      0.634      0.343\n",
      "\n",
      "      Epoch    GPU_mem   box_loss   cls_loss   dfl_loss  Instances       Size\n"
     ]
    },
    {
     "name": "stderr",
     "output_type": "stream",
     "text": [
      "    215/300     0.691G      1.405      1.008      1.152         22        640: 100%|██████████| 306/306 [00:25<00:00, 11.93it/s]\n",
      "                 Class     Images  Instances      Box(P          R      mAP50  mAP50-95): 100%|██████████| 64/64 [00:03<00:00, 19.02it/s]\n"
     ]
    },
    {
     "name": "stdout",
     "output_type": "stream",
     "text": [
      "                   all        510       1658      0.705      0.589      0.629      0.345\n",
      "\n",
      "      Epoch    GPU_mem   box_loss   cls_loss   dfl_loss  Instances       Size\n"
     ]
    },
    {
     "name": "stderr",
     "output_type": "stream",
     "text": [
      "    216/300     0.691G      1.393      0.994       1.16          2        640: 100%|██████████| 306/306 [00:24<00:00, 12.57it/s]\n",
      "                 Class     Images  Instances      Box(P          R      mAP50  mAP50-95): 100%|██████████| 64/64 [00:03<00:00, 19.34it/s]\n"
     ]
    },
    {
     "name": "stdout",
     "output_type": "stream",
     "text": [
      "                   all        510       1658      0.691      0.586      0.628      0.344\n",
      "\n",
      "      Epoch    GPU_mem   box_loss   cls_loss   dfl_loss  Instances       Size\n"
     ]
    },
    {
     "name": "stderr",
     "output_type": "stream",
     "text": [
      "    217/300     0.691G      1.401     0.9894      1.147          2        640: 100%|██████████| 306/306 [00:25<00:00, 12.01it/s]\n",
      "                 Class     Images  Instances      Box(P          R      mAP50  mAP50-95): 100%|██████████| 64/64 [00:03<00:00, 18.81it/s]\n"
     ]
    },
    {
     "name": "stdout",
     "output_type": "stream",
     "text": [
      "                   all        510       1658      0.733      0.572      0.629      0.345\n",
      "\n",
      "      Epoch    GPU_mem   box_loss   cls_loss   dfl_loss  Instances       Size\n"
     ]
    },
    {
     "name": "stderr",
     "output_type": "stream",
     "text": [
      "    218/300     0.691G      1.371     0.9985      1.149          1        640: 100%|██████████| 306/306 [00:25<00:00, 11.99it/s]\n",
      "                 Class     Images  Instances      Box(P          R      mAP50  mAP50-95): 100%|██████████| 64/64 [00:03<00:00, 20.60it/s]\n"
     ]
    },
    {
     "name": "stdout",
     "output_type": "stream",
     "text": [
      "                   all        510       1658       0.71      0.594      0.633      0.346\n",
      "\n",
      "      Epoch    GPU_mem   box_loss   cls_loss   dfl_loss  Instances       Size\n"
     ]
    },
    {
     "name": "stderr",
     "output_type": "stream",
     "text": [
      "    219/300     0.691G      1.387      1.015      1.152          4        640: 100%|██████████| 306/306 [00:26<00:00, 11.51it/s]\n",
      "                 Class     Images  Instances      Box(P          R      mAP50  mAP50-95): 100%|██████████| 64/64 [00:03<00:00, 20.10it/s]\n"
     ]
    },
    {
     "name": "stdout",
     "output_type": "stream",
     "text": [
      "                   all        510       1658      0.731      0.574      0.627      0.343\n",
      "\n",
      "      Epoch    GPU_mem   box_loss   cls_loss   dfl_loss  Instances       Size\n"
     ]
    },
    {
     "name": "stderr",
     "output_type": "stream",
     "text": [
      "    220/300     0.691G      1.373      1.001      1.158          5        640: 100%|██████████| 306/306 [00:26<00:00, 11.69it/s]\n",
      "                 Class     Images  Instances      Box(P          R      mAP50  mAP50-95): 100%|██████████| 64/64 [00:03<00:00, 19.07it/s]\n"
     ]
    },
    {
     "name": "stdout",
     "output_type": "stream",
     "text": [
      "                   all        510       1658      0.723       0.57      0.623      0.341\n",
      "\n",
      "      Epoch    GPU_mem   box_loss   cls_loss   dfl_loss  Instances       Size\n"
     ]
    },
    {
     "name": "stderr",
     "output_type": "stream",
     "text": [
      "    221/300     0.691G      1.372      0.976      1.132         12        640: 100%|██████████| 306/306 [00:26<00:00, 11.47it/s]\n",
      "                 Class     Images  Instances      Box(P          R      mAP50  mAP50-95): 100%|██████████| 64/64 [00:03<00:00, 19.97it/s]\n"
     ]
    },
    {
     "name": "stdout",
     "output_type": "stream",
     "text": [
      "                   all        510       1658      0.736      0.572       0.63      0.341\n",
      "\n",
      "      Epoch    GPU_mem   box_loss   cls_loss   dfl_loss  Instances       Size\n"
     ]
    },
    {
     "name": "stderr",
     "output_type": "stream",
     "text": [
      "    222/300     0.691G      1.344     0.9569      1.127          1        640: 100%|██████████| 306/306 [00:28<00:00, 10.67it/s]\n",
      "                 Class     Images  Instances      Box(P          R      mAP50  mAP50-95): 100%|██████████| 64/64 [00:03<00:00, 18.68it/s]\n"
     ]
    },
    {
     "name": "stdout",
     "output_type": "stream",
     "text": [
      "                   all        510       1658      0.728      0.574      0.629      0.345\n",
      "\n",
      "      Epoch    GPU_mem   box_loss   cls_loss   dfl_loss  Instances       Size\n"
     ]
    },
    {
     "name": "stderr",
     "output_type": "stream",
     "text": [
      "    223/300     0.691G      1.384     0.9927      1.135          6        640: 100%|██████████| 306/306 [00:24<00:00, 12.41it/s]\n",
      "                 Class     Images  Instances      Box(P          R      mAP50  mAP50-95): 100%|██████████| 64/64 [00:03<00:00, 19.89it/s]\n"
     ]
    },
    {
     "name": "stdout",
     "output_type": "stream",
     "text": [
      "                   all        510       1658      0.694      0.598      0.631      0.344\n",
      "\n",
      "      Epoch    GPU_mem   box_loss   cls_loss   dfl_loss  Instances       Size\n"
     ]
    },
    {
     "name": "stderr",
     "output_type": "stream",
     "text": [
      "    224/300     0.691G      1.382      1.001       1.15          3        640: 100%|██████████| 306/306 [00:24<00:00, 12.27it/s]\n",
      "                 Class     Images  Instances      Box(P          R      mAP50  mAP50-95): 100%|██████████| 64/64 [00:03<00:00, 18.83it/s]\n"
     ]
    },
    {
     "name": "stdout",
     "output_type": "stream",
     "text": [
      "                   all        510       1658        0.7      0.594       0.63      0.341\n",
      "\n",
      "      Epoch    GPU_mem   box_loss   cls_loss   dfl_loss  Instances       Size\n"
     ]
    },
    {
     "name": "stderr",
     "output_type": "stream",
     "text": [
      "    225/300     0.691G      1.375      1.002      1.151          4        640: 100%|██████████| 306/306 [00:26<00:00, 11.70it/s]\n",
      "                 Class     Images  Instances      Box(P          R      mAP50  mAP50-95): 100%|██████████| 64/64 [00:03<00:00, 18.82it/s]\n"
     ]
    },
    {
     "name": "stdout",
     "output_type": "stream",
     "text": [
      "                   all        510       1658      0.721      0.593      0.629      0.344\n",
      "\n",
      "      Epoch    GPU_mem   box_loss   cls_loss   dfl_loss  Instances       Size\n"
     ]
    },
    {
     "name": "stderr",
     "output_type": "stream",
     "text": [
      "    226/300     0.691G      1.375     0.9905      1.147         14        640: 100%|██████████| 306/306 [00:24<00:00, 12.37it/s]\n",
      "                 Class     Images  Instances      Box(P          R      mAP50  mAP50-95): 100%|██████████| 64/64 [00:03<00:00, 19.17it/s]\n"
     ]
    },
    {
     "name": "stdout",
     "output_type": "stream",
     "text": [
      "                   all        510       1658      0.747      0.571       0.63      0.345\n",
      "\n",
      "      Epoch    GPU_mem   box_loss   cls_loss   dfl_loss  Instances       Size\n"
     ]
    },
    {
     "name": "stderr",
     "output_type": "stream",
     "text": [
      "    227/300     0.691G      1.394     0.9867      1.143          3        640: 100%|██████████| 306/306 [00:25<00:00, 12.23it/s]\n",
      "                 Class     Images  Instances      Box(P          R      mAP50  mAP50-95): 100%|██████████| 64/64 [00:03<00:00, 19.90it/s]\n"
     ]
    },
    {
     "name": "stdout",
     "output_type": "stream",
     "text": [
      "                   all        510       1658      0.726      0.592      0.634      0.346\n",
      "\n",
      "      Epoch    GPU_mem   box_loss   cls_loss   dfl_loss  Instances       Size\n"
     ]
    },
    {
     "name": "stderr",
     "output_type": "stream",
     "text": [
      "    228/300     0.691G      1.389     0.9874      1.148          4        640: 100%|██████████| 306/306 [00:26<00:00, 11.76it/s]\n",
      "                 Class     Images  Instances      Box(P          R      mAP50  mAP50-95): 100%|██████████| 64/64 [00:03<00:00, 21.08it/s]\n"
     ]
    },
    {
     "name": "stdout",
     "output_type": "stream",
     "text": [
      "                   all        510       1658      0.771      0.579       0.64      0.348\n",
      "\n",
      "      Epoch    GPU_mem   box_loss   cls_loss   dfl_loss  Instances       Size\n"
     ]
    },
    {
     "name": "stderr",
     "output_type": "stream",
     "text": [
      "    229/300     0.691G      1.367      0.973      1.143         10        640: 100%|██████████| 306/306 [00:29<00:00, 10.47it/s]\n",
      "                 Class     Images  Instances      Box(P          R      mAP50  mAP50-95): 100%|██████████| 64/64 [00:02<00:00, 22.23it/s]\n",
      "  0%|          | 0/306 [00:00<?, ?it/s]"
     ]
    },
    {
     "name": "stdout",
     "output_type": "stream",
     "text": [
      "                   all        510       1658      0.752      0.589      0.638      0.348\n",
      "\n",
      "      Epoch    GPU_mem   box_loss   cls_loss   dfl_loss  Instances       Size\n"
     ]
    },
    {
     "name": "stderr",
     "output_type": "stream",
     "text": [
      "    230/300     0.691G      1.365     0.9797      1.137          5        640: 100%|██████████| 306/306 [00:25<00:00, 12.03it/s]\n",
      "                 Class     Images  Instances      Box(P          R      mAP50  mAP50-95): 100%|██████████| 64/64 [00:02<00:00, 21.84it/s]\n",
      "  0%|          | 0/306 [00:00<?, ?it/s]"
     ]
    },
    {
     "name": "stdout",
     "output_type": "stream",
     "text": [
      "                   all        510       1658      0.743      0.586      0.635      0.347\n",
      "\n",
      "      Epoch    GPU_mem   box_loss   cls_loss   dfl_loss  Instances       Size\n"
     ]
    },
    {
     "name": "stderr",
     "output_type": "stream",
     "text": [
      "    231/300     0.691G       1.38     0.9703      1.134          4        640: 100%|██████████| 306/306 [00:25<00:00, 12.11it/s]\n",
      "                 Class     Images  Instances      Box(P          R      mAP50  mAP50-95): 100%|██████████| 64/64 [00:03<00:00, 19.03it/s]\n"
     ]
    },
    {
     "name": "stdout",
     "output_type": "stream",
     "text": [
      "                   all        510       1658      0.741      0.595      0.636      0.347\n",
      "\n",
      "      Epoch    GPU_mem   box_loss   cls_loss   dfl_loss  Instances       Size\n"
     ]
    },
    {
     "name": "stderr",
     "output_type": "stream",
     "text": [
      "    232/300     0.691G      1.358     0.9739      1.144          2        640: 100%|██████████| 306/306 [00:25<00:00, 11.80it/s]\n",
      "                 Class     Images  Instances      Box(P          R      mAP50  mAP50-95): 100%|██████████| 64/64 [00:03<00:00, 18.71it/s]\n"
     ]
    },
    {
     "name": "stdout",
     "output_type": "stream",
     "text": [
      "                   all        510       1658      0.768      0.571      0.631      0.346\n",
      "\n",
      "      Epoch    GPU_mem   box_loss   cls_loss   dfl_loss  Instances       Size\n"
     ]
    },
    {
     "name": "stderr",
     "output_type": "stream",
     "text": [
      "    233/300     0.691G      1.372     0.9681      1.136          9        640: 100%|██████████| 306/306 [00:26<00:00, 11.67it/s]\n",
      "                 Class     Images  Instances      Box(P          R      mAP50  mAP50-95): 100%|██████████| 64/64 [00:03<00:00, 19.78it/s]\n"
     ]
    },
    {
     "name": "stdout",
     "output_type": "stream",
     "text": [
      "                   all        510       1658      0.775       0.57       0.63      0.346\n",
      "\n",
      "      Epoch    GPU_mem   box_loss   cls_loss   dfl_loss  Instances       Size\n"
     ]
    },
    {
     "name": "stderr",
     "output_type": "stream",
     "text": [
      "    234/300     0.691G      1.357     0.9879      1.134          3        640: 100%|██████████| 306/306 [00:26<00:00, 11.67it/s]\n",
      "                 Class     Images  Instances      Box(P          R      mAP50  mAP50-95): 100%|██████████| 64/64 [00:03<00:00, 19.28it/s]\n"
     ]
    },
    {
     "name": "stdout",
     "output_type": "stream",
     "text": [
      "                   all        510       1658      0.776      0.568      0.634      0.349\n",
      "\n",
      "      Epoch    GPU_mem   box_loss   cls_loss   dfl_loss  Instances       Size\n"
     ]
    },
    {
     "name": "stderr",
     "output_type": "stream",
     "text": [
      "    235/300     0.691G      1.367     0.9731      1.129          2        640: 100%|██████████| 306/306 [00:25<00:00, 11.90it/s]\n",
      "                 Class     Images  Instances      Box(P          R      mAP50  mAP50-95): 100%|██████████| 64/64 [00:03<00:00, 18.67it/s]\n"
     ]
    },
    {
     "name": "stdout",
     "output_type": "stream",
     "text": [
      "                   all        510       1658      0.767      0.568      0.635      0.348\n",
      "\n",
      "      Epoch    GPU_mem   box_loss   cls_loss   dfl_loss  Instances       Size\n"
     ]
    },
    {
     "name": "stderr",
     "output_type": "stream",
     "text": [
      "    236/300     0.691G       1.36     0.9651      1.121          1        640: 100%|██████████| 306/306 [00:25<00:00, 11.85it/s]\n",
      "                 Class     Images  Instances      Box(P          R      mAP50  mAP50-95): 100%|██████████| 64/64 [00:03<00:00, 19.09it/s]\n"
     ]
    },
    {
     "name": "stdout",
     "output_type": "stream",
     "text": [
      "                   all        510       1658      0.763      0.575      0.632      0.347\n",
      "\n",
      "      Epoch    GPU_mem   box_loss   cls_loss   dfl_loss  Instances       Size\n"
     ]
    },
    {
     "name": "stderr",
     "output_type": "stream",
     "text": [
      "    237/300     0.691G      1.368     0.9701       1.13          3        640: 100%|██████████| 306/306 [00:24<00:00, 12.65it/s]\n",
      "                 Class     Images  Instances      Box(P          R      mAP50  mAP50-95): 100%|██████████| 64/64 [00:03<00:00, 18.61it/s]\n"
     ]
    },
    {
     "name": "stdout",
     "output_type": "stream",
     "text": [
      "                   all        510       1658      0.747      0.574      0.633      0.347\n",
      "\n",
      "      Epoch    GPU_mem   box_loss   cls_loss   dfl_loss  Instances       Size\n"
     ]
    },
    {
     "name": "stderr",
     "output_type": "stream",
     "text": [
      "    238/300     0.691G      1.387      0.989       1.13          5        640: 100%|██████████| 306/306 [00:26<00:00, 11.74it/s]\n",
      "                 Class     Images  Instances      Box(P          R      mAP50  mAP50-95): 100%|██████████| 64/64 [00:03<00:00, 19.01it/s]\n"
     ]
    },
    {
     "name": "stdout",
     "output_type": "stream",
     "text": [
      "                   all        510       1658      0.782      0.565      0.632      0.348\n",
      "\n",
      "      Epoch    GPU_mem   box_loss   cls_loss   dfl_loss  Instances       Size\n"
     ]
    },
    {
     "name": "stderr",
     "output_type": "stream",
     "text": [
      "    239/300     0.691G      1.359     0.9716      1.116          2        640: 100%|██████████| 306/306 [00:25<00:00, 11.95it/s]\n",
      "                 Class     Images  Instances      Box(P          R      mAP50  mAP50-95): 100%|██████████| 64/64 [00:02<00:00, 22.60it/s]\n",
      "  0%|          | 0/306 [00:00<?, ?it/s]"
     ]
    },
    {
     "name": "stdout",
     "output_type": "stream",
     "text": [
      "                   all        510       1658      0.794      0.556      0.629      0.347\n",
      "\n",
      "      Epoch    GPU_mem   box_loss   cls_loss   dfl_loss  Instances       Size\n"
     ]
    },
    {
     "name": "stderr",
     "output_type": "stream",
     "text": [
      "    240/300     0.691G      1.322     0.9428       1.13          9        640: 100%|██████████| 306/306 [00:26<00:00, 11.72it/s]\n",
      "                 Class     Images  Instances      Box(P          R      mAP50  mAP50-95): 100%|██████████| 64/64 [00:03<00:00, 18.78it/s]\n"
     ]
    },
    {
     "name": "stdout",
     "output_type": "stream",
     "text": [
      "                   all        510       1658      0.792      0.567      0.634      0.349\n",
      "\n",
      "      Epoch    GPU_mem   box_loss   cls_loss   dfl_loss  Instances       Size\n"
     ]
    },
    {
     "name": "stderr",
     "output_type": "stream",
     "text": [
      "    241/300     0.691G       1.36     0.9506      1.131          5        640: 100%|██████████| 306/306 [00:24<00:00, 12.63it/s]\n",
      "                 Class     Images  Instances      Box(P          R      mAP50  mAP50-95): 100%|██████████| 64/64 [00:02<00:00, 23.38it/s]\n",
      "  0%|          | 0/306 [00:00<?, ?it/s]"
     ]
    },
    {
     "name": "stdout",
     "output_type": "stream",
     "text": [
      "                   all        510       1658      0.791      0.568      0.635      0.349\n",
      "\n",
      "      Epoch    GPU_mem   box_loss   cls_loss   dfl_loss  Instances       Size\n"
     ]
    },
    {
     "name": "stderr",
     "output_type": "stream",
     "text": [
      "    242/300     0.691G       1.37     0.9766      1.141          4        640: 100%|██████████| 306/306 [00:24<00:00, 12.34it/s]\n",
      "                 Class     Images  Instances      Box(P          R      mAP50  mAP50-95): 100%|██████████| 64/64 [00:03<00:00, 19.44it/s]\n"
     ]
    },
    {
     "name": "stdout",
     "output_type": "stream",
     "text": [
      "                   all        510       1658      0.805      0.564      0.641      0.348\n",
      "\n",
      "      Epoch    GPU_mem   box_loss   cls_loss   dfl_loss  Instances       Size\n"
     ]
    },
    {
     "name": "stderr",
     "output_type": "stream",
     "text": [
      "    243/300     0.691G      1.373     0.9822      1.144         11        640: 100%|██████████| 306/306 [00:25<00:00, 12.03it/s]\n",
      "                 Class     Images  Instances      Box(P          R      mAP50  mAP50-95): 100%|██████████| 64/64 [00:03<00:00, 21.07it/s]\n"
     ]
    },
    {
     "name": "stdout",
     "output_type": "stream",
     "text": [
      "                   all        510       1658      0.778      0.577       0.64       0.35\n",
      "\n",
      "      Epoch    GPU_mem   box_loss   cls_loss   dfl_loss  Instances       Size\n"
     ]
    },
    {
     "name": "stderr",
     "output_type": "stream",
     "text": [
      "    244/300     0.691G      1.358     0.9702       1.14          2        640: 100%|██████████| 306/306 [00:25<00:00, 11.84it/s]\n",
      "                 Class     Images  Instances      Box(P          R      mAP50  mAP50-95): 100%|██████████| 64/64 [00:03<00:00, 18.97it/s]\n"
     ]
    },
    {
     "name": "stdout",
     "output_type": "stream",
     "text": [
      "                   all        510       1658      0.749      0.591      0.641      0.349\n",
      "\n",
      "      Epoch    GPU_mem   box_loss   cls_loss   dfl_loss  Instances       Size\n"
     ]
    },
    {
     "name": "stderr",
     "output_type": "stream",
     "text": [
      "    245/300     0.691G       1.34     0.9575      1.141          4        640: 100%|██████████| 306/306 [00:25<00:00, 11.93it/s]\n",
      "                 Class     Images  Instances      Box(P          R      mAP50  mAP50-95): 100%|██████████| 64/64 [00:03<00:00, 18.93it/s]\n"
     ]
    },
    {
     "name": "stdout",
     "output_type": "stream",
     "text": [
      "                   all        510       1658      0.753      0.582      0.639      0.348\n",
      "\n",
      "      Epoch    GPU_mem   box_loss   cls_loss   dfl_loss  Instances       Size\n"
     ]
    },
    {
     "name": "stderr",
     "output_type": "stream",
     "text": [
      "    246/300     0.691G      1.349     0.9684      1.138          8        640: 100%|██████████| 306/306 [00:25<00:00, 12.08it/s]\n",
      "                 Class     Images  Instances      Box(P          R      mAP50  mAP50-95): 100%|██████████| 64/64 [00:03<00:00, 19.31it/s]\n"
     ]
    },
    {
     "name": "stdout",
     "output_type": "stream",
     "text": [
      "                   all        510       1658      0.788      0.569       0.64      0.347\n",
      "\n",
      "      Epoch    GPU_mem   box_loss   cls_loss   dfl_loss  Instances       Size\n"
     ]
    },
    {
     "name": "stderr",
     "output_type": "stream",
     "text": [
      "    247/300     0.691G      1.339     0.9384      1.117          1        640: 100%|██████████| 306/306 [00:26<00:00, 11.54it/s]\n",
      "                 Class     Images  Instances      Box(P          R      mAP50  mAP50-95): 100%|██████████| 64/64 [00:03<00:00, 19.94it/s]\n"
     ]
    },
    {
     "name": "stdout",
     "output_type": "stream",
     "text": [
      "                   all        510       1658      0.788      0.568      0.638      0.347\n",
      "\n",
      "      Epoch    GPU_mem   box_loss   cls_loss   dfl_loss  Instances       Size\n"
     ]
    },
    {
     "name": "stderr",
     "output_type": "stream",
     "text": [
      "    248/300     0.691G      1.333     0.9417      1.123          5        640: 100%|██████████| 306/306 [00:25<00:00, 11.96it/s]\n",
      "                 Class     Images  Instances      Box(P          R      mAP50  mAP50-95): 100%|██████████| 64/64 [00:03<00:00, 19.20it/s]\n"
     ]
    },
    {
     "name": "stdout",
     "output_type": "stream",
     "text": [
      "                   all        510       1658      0.789      0.566       0.64      0.348\n",
      "\n",
      "      Epoch    GPU_mem   box_loss   cls_loss   dfl_loss  Instances       Size\n"
     ]
    },
    {
     "name": "stderr",
     "output_type": "stream",
     "text": [
      "    249/300     0.691G      1.347      0.937      1.122          2        640: 100%|██████████| 306/306 [00:25<00:00, 11.86it/s]\n",
      "                 Class     Images  Instances      Box(P          R      mAP50  mAP50-95): 100%|██████████| 64/64 [00:03<00:00, 18.70it/s]\n"
     ]
    },
    {
     "name": "stdout",
     "output_type": "stream",
     "text": [
      "                   all        510       1658       0.78      0.572      0.637      0.346\n",
      "\n",
      "      Epoch    GPU_mem   box_loss   cls_loss   dfl_loss  Instances       Size\n"
     ]
    },
    {
     "name": "stderr",
     "output_type": "stream",
     "text": [
      "    250/300     0.691G      1.351     0.9557      1.134          5        640: 100%|██████████| 306/306 [00:25<00:00, 11.83it/s]\n",
      "                 Class     Images  Instances      Box(P          R      mAP50  mAP50-95): 100%|██████████| 64/64 [00:03<00:00, 19.73it/s]\n"
     ]
    },
    {
     "name": "stdout",
     "output_type": "stream",
     "text": [
      "                   all        510       1658       0.74      0.586      0.637      0.343\n",
      "\n",
      "      Epoch    GPU_mem   box_loss   cls_loss   dfl_loss  Instances       Size\n"
     ]
    },
    {
     "name": "stderr",
     "output_type": "stream",
     "text": [
      "    251/300     0.691G      1.309     0.9063      1.114          3        640: 100%|██████████| 306/306 [00:25<00:00, 12.01it/s]\n",
      "                 Class     Images  Instances      Box(P          R      mAP50  mAP50-95): 100%|██████████| 64/64 [00:03<00:00, 20.22it/s]\n",
      "  0%|          | 0/306 [00:00<?, ?it/s]"
     ]
    },
    {
     "name": "stdout",
     "output_type": "stream",
     "text": [
      "                   all        510       1658      0.775      0.567      0.632      0.342\n",
      "\n",
      "      Epoch    GPU_mem   box_loss   cls_loss   dfl_loss  Instances       Size\n"
     ]
    },
    {
     "name": "stderr",
     "output_type": "stream",
     "text": [
      "    252/300     0.691G      1.321     0.9282      1.123          8        640: 100%|██████████| 306/306 [00:24<00:00, 12.56it/s]\n",
      "                 Class     Images  Instances      Box(P          R      mAP50  mAP50-95): 100%|██████████| 64/64 [00:03<00:00, 19.24it/s]\n"
     ]
    },
    {
     "name": "stdout",
     "output_type": "stream",
     "text": [
      "                   all        510       1658      0.746      0.583      0.632      0.341\n",
      "\n",
      "      Epoch    GPU_mem   box_loss   cls_loss   dfl_loss  Instances       Size\n"
     ]
    },
    {
     "name": "stderr",
     "output_type": "stream",
     "text": [
      "    253/300     0.691G      1.307     0.9053      1.111          4        640: 100%|██████████| 306/306 [00:24<00:00, 12.30it/s]\n",
      "                 Class     Images  Instances      Box(P          R      mAP50  mAP50-95): 100%|██████████| 64/64 [00:03<00:00, 18.90it/s]\n"
     ]
    },
    {
     "name": "stdout",
     "output_type": "stream",
     "text": [
      "                   all        510       1658      0.734      0.592      0.633      0.342\n",
      "\n",
      "      Epoch    GPU_mem   box_loss   cls_loss   dfl_loss  Instances       Size\n"
     ]
    },
    {
     "name": "stderr",
     "output_type": "stream",
     "text": [
      "    254/300     0.691G      1.323     0.9321      1.116          6        640: 100%|██████████| 306/306 [00:24<00:00, 12.43it/s]\n",
      "                 Class     Images  Instances      Box(P          R      mAP50  mAP50-95): 100%|██████████| 64/64 [00:03<00:00, 19.45it/s]\n"
     ]
    },
    {
     "name": "stdout",
     "output_type": "stream",
     "text": [
      "                   all        510       1658      0.752      0.582      0.634      0.344\n",
      "\n",
      "      Epoch    GPU_mem   box_loss   cls_loss   dfl_loss  Instances       Size\n"
     ]
    },
    {
     "name": "stderr",
     "output_type": "stream",
     "text": [
      "    255/300     0.691G      1.335     0.9408      1.117          4        640: 100%|██████████| 306/306 [00:25<00:00, 12.09it/s]\n",
      "                 Class     Images  Instances      Box(P          R      mAP50  mAP50-95): 100%|██████████| 64/64 [00:03<00:00, 19.02it/s]\n"
     ]
    },
    {
     "name": "stdout",
     "output_type": "stream",
     "text": [
      "                   all        510       1658      0.759      0.578      0.633      0.341\n",
      "\n",
      "      Epoch    GPU_mem   box_loss   cls_loss   dfl_loss  Instances       Size\n"
     ]
    },
    {
     "name": "stderr",
     "output_type": "stream",
     "text": [
      "    256/300     0.691G      1.311     0.9241      1.105          1        640: 100%|██████████| 306/306 [00:25<00:00, 12.12it/s]\n",
      "                 Class     Images  Instances      Box(P          R      mAP50  mAP50-95): 100%|██████████| 64/64 [00:03<00:00, 19.12it/s]\n"
     ]
    },
    {
     "name": "stdout",
     "output_type": "stream",
     "text": [
      "                   all        510       1658      0.755      0.578      0.632      0.339\n",
      "\n",
      "      Epoch    GPU_mem   box_loss   cls_loss   dfl_loss  Instances       Size\n"
     ]
    },
    {
     "name": "stderr",
     "output_type": "stream",
     "text": [
      "    257/300     0.691G      1.334     0.9352      1.106          2        640: 100%|██████████| 306/306 [00:24<00:00, 12.46it/s]\n",
      "                 Class     Images  Instances      Box(P          R      mAP50  mAP50-95): 100%|██████████| 64/64 [00:03<00:00, 18.80it/s]\n"
     ]
    },
    {
     "name": "stdout",
     "output_type": "stream",
     "text": [
      "                   all        510       1658      0.768      0.579      0.635       0.34\n",
      "\n",
      "      Epoch    GPU_mem   box_loss   cls_loss   dfl_loss  Instances       Size\n"
     ]
    },
    {
     "name": "stderr",
     "output_type": "stream",
     "text": [
      "    258/300     0.691G      1.335     0.9563      1.118          0        640: 100%|██████████| 306/306 [00:25<00:00, 12.18it/s]\n",
      "                 Class     Images  Instances      Box(P          R      mAP50  mAP50-95): 100%|██████████| 64/64 [00:02<00:00, 21.44it/s]\n"
     ]
    },
    {
     "name": "stdout",
     "output_type": "stream",
     "text": [
      "                   all        510       1658      0.765      0.579      0.634       0.34\n",
      "\n",
      "      Epoch    GPU_mem   box_loss   cls_loss   dfl_loss  Instances       Size\n"
     ]
    },
    {
     "name": "stderr",
     "output_type": "stream",
     "text": [
      "    259/300     0.691G      1.321     0.9295      1.111          3        640: 100%|██████████| 306/306 [00:24<00:00, 12.44it/s]\n",
      "                 Class     Images  Instances      Box(P          R      mAP50  mAP50-95): 100%|██████████| 64/64 [00:03<00:00, 18.94it/s]\n"
     ]
    },
    {
     "name": "stdout",
     "output_type": "stream",
     "text": [
      "                   all        510       1658      0.748      0.584      0.631      0.338\n",
      "\n",
      "      Epoch    GPU_mem   box_loss   cls_loss   dfl_loss  Instances       Size\n"
     ]
    },
    {
     "name": "stderr",
     "output_type": "stream",
     "text": [
      "    260/300     0.691G      1.305     0.9325      1.119          1        640: 100%|██████████| 306/306 [00:25<00:00, 12.20it/s]\n",
      "                 Class     Images  Instances      Box(P          R      mAP50  mAP50-95): 100%|██████████| 64/64 [00:03<00:00, 20.94it/s]\n"
     ]
    },
    {
     "name": "stdout",
     "output_type": "stream",
     "text": [
      "                   all        510       1658      0.747      0.589      0.635       0.34\n",
      "\n",
      "      Epoch    GPU_mem   box_loss   cls_loss   dfl_loss  Instances       Size\n"
     ]
    },
    {
     "name": "stderr",
     "output_type": "stream",
     "text": [
      "    261/300     0.691G      1.322     0.9276      1.113          9        640: 100%|██████████| 306/306 [00:25<00:00, 12.23it/s]\n",
      "                 Class     Images  Instances      Box(P          R      mAP50  mAP50-95): 100%|██████████| 64/64 [00:03<00:00, 19.85it/s]\n"
     ]
    },
    {
     "name": "stdout",
     "output_type": "stream",
     "text": [
      "                   all        510       1658      0.755      0.585      0.631       0.34\n",
      "\n",
      "      Epoch    GPU_mem   box_loss   cls_loss   dfl_loss  Instances       Size\n"
     ]
    },
    {
     "name": "stderr",
     "output_type": "stream",
     "text": [
      "    262/300     0.691G      1.299     0.9289      1.105          4        640: 100%|██████████| 306/306 [00:24<00:00, 12.52it/s]\n",
      "                 Class     Images  Instances      Box(P          R      mAP50  mAP50-95): 100%|██████████| 64/64 [00:02<00:00, 22.13it/s]\n"
     ]
    },
    {
     "name": "stdout",
     "output_type": "stream",
     "text": [
      "                   all        510       1658      0.762      0.581      0.631       0.34\n",
      "\n",
      "      Epoch    GPU_mem   box_loss   cls_loss   dfl_loss  Instances       Size\n"
     ]
    },
    {
     "name": "stderr",
     "output_type": "stream",
     "text": [
      "    263/300     0.691G       1.33      0.935      1.109          1        640: 100%|██████████| 306/306 [00:25<00:00, 12.06it/s]\n",
      "                 Class     Images  Instances      Box(P          R      mAP50  mAP50-95): 100%|██████████| 64/64 [00:03<00:00, 21.03it/s]\n"
     ]
    },
    {
     "name": "stdout",
     "output_type": "stream",
     "text": [
      "                   all        510       1658      0.753      0.581       0.63      0.341\n",
      "\n",
      "      Epoch    GPU_mem   box_loss   cls_loss   dfl_loss  Instances       Size\n"
     ]
    },
    {
     "name": "stderr",
     "output_type": "stream",
     "text": [
      "    264/300     0.691G      1.317     0.8958      1.111          3        640: 100%|██████████| 306/306 [00:25<00:00, 12.15it/s]\n",
      "                 Class     Images  Instances      Box(P          R      mAP50  mAP50-95): 100%|██████████| 64/64 [00:03<00:00, 19.73it/s]\n"
     ]
    },
    {
     "name": "stdout",
     "output_type": "stream",
     "text": [
      "                   all        510       1658      0.769      0.567      0.631      0.341\n",
      "\n",
      "      Epoch    GPU_mem   box_loss   cls_loss   dfl_loss  Instances       Size\n"
     ]
    },
    {
     "name": "stderr",
     "output_type": "stream",
     "text": [
      "    265/300     0.691G       1.31     0.9204      1.103          1        640: 100%|██████████| 306/306 [00:24<00:00, 12.32it/s]\n",
      "                 Class     Images  Instances      Box(P          R      mAP50  mAP50-95): 100%|██████████| 64/64 [00:03<00:00, 19.59it/s]\n"
     ]
    },
    {
     "name": "stdout",
     "output_type": "stream",
     "text": [
      "                   all        510       1658      0.771      0.576      0.632      0.341\n",
      "\n",
      "      Epoch    GPU_mem   box_loss   cls_loss   dfl_loss  Instances       Size\n"
     ]
    },
    {
     "name": "stderr",
     "output_type": "stream",
     "text": [
      "    266/300     0.691G      1.312     0.9118      1.096          0        640: 100%|██████████| 306/306 [00:25<00:00, 12.06it/s]\n",
      "                 Class     Images  Instances      Box(P          R      mAP50  mAP50-95): 100%|██████████| 64/64 [00:03<00:00, 19.24it/s]\n"
     ]
    },
    {
     "name": "stdout",
     "output_type": "stream",
     "text": [
      "                   all        510       1658      0.765       0.58      0.636      0.342\n",
      "\n",
      "      Epoch    GPU_mem   box_loss   cls_loss   dfl_loss  Instances       Size\n"
     ]
    },
    {
     "name": "stderr",
     "output_type": "stream",
     "text": [
      "    267/300     0.691G      1.307     0.9039      1.118         12        640: 100%|██████████| 306/306 [00:25<00:00, 12.16it/s]\n",
      "                 Class     Images  Instances      Box(P          R      mAP50  mAP50-95): 100%|██████████| 64/64 [00:03<00:00, 20.41it/s]\n"
     ]
    },
    {
     "name": "stdout",
     "output_type": "stream",
     "text": [
      "                   all        510       1658      0.764       0.58      0.636      0.342\n",
      "\n",
      "      Epoch    GPU_mem   box_loss   cls_loss   dfl_loss  Instances       Size\n"
     ]
    },
    {
     "name": "stderr",
     "output_type": "stream",
     "text": [
      "    268/300     0.691G      1.299     0.9262      1.108          0        640: 100%|██████████| 306/306 [00:25<00:00, 12.22it/s]\n",
      "                 Class     Images  Instances      Box(P          R      mAP50  mAP50-95): 100%|██████████| 64/64 [00:03<00:00, 19.21it/s]\n"
     ]
    },
    {
     "name": "stdout",
     "output_type": "stream",
     "text": [
      "                   all        510       1658      0.772      0.575      0.634      0.341\n",
      "\n",
      "      Epoch    GPU_mem   box_loss   cls_loss   dfl_loss  Instances       Size\n"
     ]
    },
    {
     "name": "stderr",
     "output_type": "stream",
     "text": [
      "    269/300     0.691G      1.272      0.885      1.087         10        640: 100%|██████████| 306/306 [00:25<00:00, 11.91it/s]\n",
      "                 Class     Images  Instances      Box(P          R      mAP50  mAP50-95): 100%|██████████| 64/64 [00:03<00:00, 20.40it/s]\n"
     ]
    },
    {
     "name": "stdout",
     "output_type": "stream",
     "text": [
      "                   all        510       1658      0.765      0.582      0.636      0.342\n",
      "\n",
      "      Epoch    GPU_mem   box_loss   cls_loss   dfl_loss  Instances       Size\n"
     ]
    },
    {
     "name": "stderr",
     "output_type": "stream",
     "text": [
      "    270/300     0.691G      1.288     0.9053      1.107          2        640: 100%|██████████| 306/306 [00:25<00:00, 11.99it/s]\n",
      "                 Class     Images  Instances      Box(P          R      mAP50  mAP50-95): 100%|██████████| 64/64 [00:02<00:00, 21.63it/s]\n"
     ]
    },
    {
     "name": "stdout",
     "output_type": "stream",
     "text": [
      "                   all        510       1658      0.767      0.582      0.636      0.341\n",
      "\n",
      "      Epoch    GPU_mem   box_loss   cls_loss   dfl_loss  Instances       Size\n"
     ]
    },
    {
     "name": "stderr",
     "output_type": "stream",
     "text": [
      "    271/300     0.691G      1.306     0.9269      1.109          9        640: 100%|██████████| 306/306 [00:25<00:00, 12.03it/s]\n",
      "                 Class     Images  Instances      Box(P          R      mAP50  mAP50-95): 100%|██████████| 64/64 [00:02<00:00, 22.32it/s]\n"
     ]
    },
    {
     "name": "stdout",
     "output_type": "stream",
     "text": [
      "                   all        510       1658      0.777      0.581      0.635      0.342\n",
      "\n",
      "      Epoch    GPU_mem   box_loss   cls_loss   dfl_loss  Instances       Size\n"
     ]
    },
    {
     "name": "stderr",
     "output_type": "stream",
     "text": [
      "    272/300     0.691G      1.295      0.899      1.113          1        640: 100%|██████████| 306/306 [00:24<00:00, 12.41it/s]\n",
      "                 Class     Images  Instances      Box(P          R      mAP50  mAP50-95): 100%|██████████| 64/64 [00:03<00:00, 19.26it/s]\n"
     ]
    },
    {
     "name": "stdout",
     "output_type": "stream",
     "text": [
      "                   all        510       1658      0.778      0.581      0.636      0.342\n",
      "\n",
      "      Epoch    GPU_mem   box_loss   cls_loss   dfl_loss  Instances       Size\n"
     ]
    },
    {
     "name": "stderr",
     "output_type": "stream",
     "text": [
      "    273/300     0.691G      1.307      0.904      1.107          9        640: 100%|██████████| 306/306 [00:24<00:00, 12.47it/s]\n",
      "                 Class     Images  Instances      Box(P          R      mAP50  mAP50-95): 100%|██████████| 64/64 [00:03<00:00, 19.31it/s]\n"
     ]
    },
    {
     "name": "stdout",
     "output_type": "stream",
     "text": [
      "                   all        510       1658      0.778      0.583      0.635       0.34\n",
      "\n",
      "      Epoch    GPU_mem   box_loss   cls_loss   dfl_loss  Instances       Size\n"
     ]
    },
    {
     "name": "stderr",
     "output_type": "stream",
     "text": [
      "    274/300     0.691G      1.274     0.8856      1.095          5        640: 100%|██████████| 306/306 [00:25<00:00, 11.99it/s]\n",
      "                 Class     Images  Instances      Box(P          R      mAP50  mAP50-95): 100%|██████████| 64/64 [00:03<00:00, 18.61it/s]\n"
     ]
    },
    {
     "name": "stdout",
     "output_type": "stream",
     "text": [
      "                   all        510       1658      0.775      0.582      0.634      0.342\n",
      "\n",
      "      Epoch    GPU_mem   box_loss   cls_loss   dfl_loss  Instances       Size\n"
     ]
    },
    {
     "name": "stderr",
     "output_type": "stream",
     "text": [
      "    275/300     0.691G      1.294     0.8879      1.107          1        640: 100%|██████████| 306/306 [00:25<00:00, 12.04it/s]\n",
      "                 Class     Images  Instances      Box(P          R      mAP50  mAP50-95): 100%|██████████| 64/64 [00:03<00:00, 19.36it/s]\n"
     ]
    },
    {
     "name": "stdout",
     "output_type": "stream",
     "text": [
      "                   all        510       1658       0.76      0.581      0.633      0.341\n",
      "\n",
      "      Epoch    GPU_mem   box_loss   cls_loss   dfl_loss  Instances       Size\n"
     ]
    },
    {
     "name": "stderr",
     "output_type": "stream",
     "text": [
      "    276/300     0.691G      1.299     0.9051      1.112          3        640: 100%|██████████| 306/306 [00:25<00:00, 11.85it/s]\n",
      "                 Class     Images  Instances      Box(P          R      mAP50  mAP50-95): 100%|██████████| 64/64 [00:03<00:00, 21.11it/s]\n"
     ]
    },
    {
     "name": "stdout",
     "output_type": "stream",
     "text": [
      "                   all        510       1658      0.748      0.578      0.629      0.341\n",
      "\n",
      "      Epoch    GPU_mem   box_loss   cls_loss   dfl_loss  Instances       Size\n"
     ]
    },
    {
     "name": "stderr",
     "output_type": "stream",
     "text": [
      "    277/300     0.691G      1.316      0.918       1.12          1        640: 100%|██████████| 306/306 [00:25<00:00, 12.14it/s]\n",
      "                 Class     Images  Instances      Box(P          R      mAP50  mAP50-95): 100%|██████████| 64/64 [00:03<00:00, 19.16it/s]\n"
     ]
    },
    {
     "name": "stdout",
     "output_type": "stream",
     "text": [
      "                   all        510       1658      0.752      0.578      0.628      0.341\n",
      "\n",
      "      Epoch    GPU_mem   box_loss   cls_loss   dfl_loss  Instances       Size\n"
     ]
    },
    {
     "name": "stderr",
     "output_type": "stream",
     "text": [
      "    278/300     0.691G      1.245     0.8866      1.096          2        640: 100%|██████████| 306/306 [00:25<00:00, 11.78it/s]\n",
      "                 Class     Images  Instances      Box(P          R      mAP50  mAP50-95): 100%|██████████| 64/64 [00:03<00:00, 18.81it/s]\n"
     ]
    },
    {
     "name": "stdout",
     "output_type": "stream",
     "text": [
      "                   all        510       1658      0.756      0.577      0.631      0.342\n",
      "\n",
      "      Epoch    GPU_mem   box_loss   cls_loss   dfl_loss  Instances       Size\n"
     ]
    },
    {
     "name": "stderr",
     "output_type": "stream",
     "text": [
      "    279/300     0.691G      1.272     0.8823        1.1          2        640: 100%|██████████| 306/306 [00:24<00:00, 12.31it/s]\n",
      "                 Class     Images  Instances      Box(P          R      mAP50  mAP50-95): 100%|██████████| 64/64 [00:03<00:00, 19.35it/s]\n"
     ]
    },
    {
     "name": "stdout",
     "output_type": "stream",
     "text": [
      "                   all        510       1658       0.77      0.573       0.63      0.343\n",
      "\n",
      "      Epoch    GPU_mem   box_loss   cls_loss   dfl_loss  Instances       Size\n"
     ]
    },
    {
     "name": "stderr",
     "output_type": "stream",
     "text": [
      "    280/300     0.691G      1.265     0.8714      1.097          4        640: 100%|██████████| 306/306 [00:25<00:00, 12.19it/s]\n",
      "                 Class     Images  Instances      Box(P          R      mAP50  mAP50-95): 100%|██████████| 64/64 [00:03<00:00, 18.70it/s]\n"
     ]
    },
    {
     "name": "stdout",
     "output_type": "stream",
     "text": [
      "                   all        510       1658       0.76      0.573      0.631      0.343\n",
      "\n",
      "      Epoch    GPU_mem   box_loss   cls_loss   dfl_loss  Instances       Size\n"
     ]
    },
    {
     "name": "stderr",
     "output_type": "stream",
     "text": [
      "    281/300     0.691G      1.255     0.8752      1.078          3        640: 100%|██████████| 306/306 [00:24<00:00, 12.27it/s]\n",
      "                 Class     Images  Instances      Box(P          R      mAP50  mAP50-95): 100%|██████████| 64/64 [00:03<00:00, 19.62it/s]\n"
     ]
    },
    {
     "name": "stdout",
     "output_type": "stream",
     "text": [
      "                   all        510       1658      0.755      0.574      0.629      0.341\n",
      "\n",
      "      Epoch    GPU_mem   box_loss   cls_loss   dfl_loss  Instances       Size\n"
     ]
    },
    {
     "name": "stderr",
     "output_type": "stream",
     "text": [
      "    282/300     0.691G        1.3     0.8961      1.104          3        640: 100%|██████████| 306/306 [00:24<00:00, 12.44it/s]\n",
      "                 Class     Images  Instances      Box(P          R      mAP50  mAP50-95): 100%|██████████| 64/64 [00:03<00:00, 19.43it/s]\n"
     ]
    },
    {
     "name": "stdout",
     "output_type": "stream",
     "text": [
      "                   all        510       1658      0.756      0.574      0.629      0.342\n",
      "\n",
      "      Epoch    GPU_mem   box_loss   cls_loss   dfl_loss  Instances       Size\n"
     ]
    },
    {
     "name": "stderr",
     "output_type": "stream",
     "text": [
      "    283/300     0.691G      1.273      0.889      1.096          6        640: 100%|██████████| 306/306 [00:25<00:00, 11.98it/s]\n",
      "                 Class     Images  Instances      Box(P          R      mAP50  mAP50-95): 100%|██████████| 64/64 [00:03<00:00, 19.77it/s]\n"
     ]
    },
    {
     "name": "stdout",
     "output_type": "stream",
     "text": [
      "                   all        510       1658      0.749      0.576      0.628      0.341\n",
      "\n",
      "      Epoch    GPU_mem   box_loss   cls_loss   dfl_loss  Instances       Size\n"
     ]
    },
    {
     "name": "stderr",
     "output_type": "stream",
     "text": [
      "    284/300     0.691G      1.289     0.8829      1.095          8        640: 100%|██████████| 306/306 [00:25<00:00, 12.23it/s]\n",
      "                 Class     Images  Instances      Box(P          R      mAP50  mAP50-95): 100%|██████████| 64/64 [00:03<00:00, 19.55it/s]\n"
     ]
    },
    {
     "name": "stdout",
     "output_type": "stream",
     "text": [
      "                   all        510       1658      0.753      0.578      0.627      0.342\n",
      "\n",
      "      Epoch    GPU_mem   box_loss   cls_loss   dfl_loss  Instances       Size\n"
     ]
    },
    {
     "name": "stderr",
     "output_type": "stream",
     "text": [
      "    285/300     0.691G      1.264     0.8643      1.077          1        640: 100%|██████████| 306/306 [00:25<00:00, 11.93it/s]\n",
      "                 Class     Images  Instances      Box(P          R      mAP50  mAP50-95): 100%|██████████| 64/64 [00:03<00:00, 19.70it/s]\n"
     ]
    },
    {
     "name": "stdout",
     "output_type": "stream",
     "text": [
      "                   all        510       1658      0.753      0.574      0.629      0.342\n",
      "\n",
      "      Epoch    GPU_mem   box_loss   cls_loss   dfl_loss  Instances       Size\n"
     ]
    },
    {
     "name": "stderr",
     "output_type": "stream",
     "text": [
      "    286/300     0.691G      1.268     0.8678       1.09          2        640: 100%|██████████| 306/306 [00:25<00:00, 12.20it/s]\n",
      "                 Class     Images  Instances      Box(P          R      mAP50  mAP50-95): 100%|██████████| 64/64 [00:03<00:00, 18.84it/s]\n"
     ]
    },
    {
     "name": "stdout",
     "output_type": "stream",
     "text": [
      "                   all        510       1658      0.757      0.578      0.631      0.343\n",
      "\n",
      "      Epoch    GPU_mem   box_loss   cls_loss   dfl_loss  Instances       Size\n"
     ]
    },
    {
     "name": "stderr",
     "output_type": "stream",
     "text": [
      "    287/300     0.691G      1.273     0.8726      1.096          2        640: 100%|██████████| 306/306 [00:26<00:00, 11.74it/s]\n",
      "                 Class     Images  Instances      Box(P          R      mAP50  mAP50-95): 100%|██████████| 64/64 [00:03<00:00, 19.81it/s]\n"
     ]
    },
    {
     "name": "stdout",
     "output_type": "stream",
     "text": [
      "                   all        510       1658      0.739       0.59      0.633      0.343\n",
      "\n",
      "      Epoch    GPU_mem   box_loss   cls_loss   dfl_loss  Instances       Size\n"
     ]
    },
    {
     "name": "stderr",
     "output_type": "stream",
     "text": [
      "    288/300     0.691G      1.293     0.8946      1.097          2        640: 100%|██████████| 306/306 [00:26<00:00, 11.50it/s]\n",
      "                 Class     Images  Instances      Box(P          R      mAP50  mAP50-95): 100%|██████████| 64/64 [00:02<00:00, 21.48it/s]\n"
     ]
    },
    {
     "name": "stdout",
     "output_type": "stream",
     "text": [
      "                   all        510       1658      0.779      0.568      0.632      0.343\n",
      "\n",
      "      Epoch    GPU_mem   box_loss   cls_loss   dfl_loss  Instances       Size\n"
     ]
    },
    {
     "name": "stderr",
     "output_type": "stream",
     "text": [
      "    289/300     0.691G      1.282     0.8682      1.089         30        640: 100%|██████████| 306/306 [00:25<00:00, 12.08it/s]\n",
      "                 Class     Images  Instances      Box(P          R      mAP50  mAP50-95): 100%|██████████| 64/64 [00:03<00:00, 18.94it/s]\n"
     ]
    },
    {
     "name": "stdout",
     "output_type": "stream",
     "text": [
      "                   all        510       1658       0.73      0.594      0.635      0.344\n",
      "\n",
      "      Epoch    GPU_mem   box_loss   cls_loss   dfl_loss  Instances       Size\n"
     ]
    },
    {
     "name": "stderr",
     "output_type": "stream",
     "text": [
      "    290/300     0.691G      1.288     0.8906      1.091          1        640: 100%|██████████| 306/306 [00:25<00:00, 12.07it/s]\n",
      "                 Class     Images  Instances      Box(P          R      mAP50  mAP50-95): 100%|██████████| 64/64 [00:03<00:00, 19.45it/s]\n"
     ]
    },
    {
     "name": "stdout",
     "output_type": "stream",
     "text": [
      "                   all        510       1658       0.73      0.593      0.633      0.343\n",
      "Closing dataloader mosaic\n",
      "\n",
      "      Epoch    GPU_mem   box_loss   cls_loss   dfl_loss  Instances       Size\n"
     ]
    },
    {
     "name": "stderr",
     "output_type": "stream",
     "text": [
      "    291/300     0.691G      1.199     0.7807      1.078          1        640: 100%|██████████| 306/306 [00:24<00:00, 12.58it/s]\n",
      "                 Class     Images  Instances      Box(P          R      mAP50  mAP50-95): 100%|██████████| 64/64 [00:03<00:00, 20.03it/s]\n"
     ]
    },
    {
     "name": "stdout",
     "output_type": "stream",
     "text": [
      "                   all        510       1658      0.743      0.593      0.633      0.342\n",
      "\n",
      "      Epoch    GPU_mem   box_loss   cls_loss   dfl_loss  Instances       Size\n"
     ]
    },
    {
     "name": "stderr",
     "output_type": "stream",
     "text": [
      "    292/300     0.691G      1.176     0.7636       1.07          1        640: 100%|██████████| 306/306 [00:24<00:00, 12.40it/s]\n",
      "                 Class     Images  Instances      Box(P          R      mAP50  mAP50-95): 100%|██████████| 64/64 [00:03<00:00, 19.46it/s]\n"
     ]
    },
    {
     "name": "stdout",
     "output_type": "stream",
     "text": [
      "                   all        510       1658      0.746      0.587      0.628       0.34\n",
      "\n",
      "      Epoch    GPU_mem   box_loss   cls_loss   dfl_loss  Instances       Size\n"
     ]
    },
    {
     "name": "stderr",
     "output_type": "stream",
     "text": [
      "    293/300     0.691G      1.186     0.7868       1.08          2        640: 100%|██████████| 306/306 [00:24<00:00, 12.34it/s]\n",
      "                 Class     Images  Instances      Box(P          R      mAP50  mAP50-95): 100%|██████████| 64/64 [00:03<00:00, 19.32it/s]\n"
     ]
    },
    {
     "name": "stdout",
     "output_type": "stream",
     "text": [
      "                   all        510       1658      0.779      0.572      0.628      0.339\n",
      "\n",
      "      Epoch    GPU_mem   box_loss   cls_loss   dfl_loss  Instances       Size\n"
     ]
    },
    {
     "name": "stderr",
     "output_type": "stream",
     "text": [
      "    294/300     0.691G      1.162      0.756      1.061          1        640: 100%|██████████| 306/306 [00:24<00:00, 12.50it/s]\n",
      "                 Class     Images  Instances      Box(P          R      mAP50  mAP50-95): 100%|██████████| 64/64 [00:03<00:00, 20.01it/s]\n"
     ]
    },
    {
     "name": "stdout",
     "output_type": "stream",
     "text": [
      "                   all        510       1658      0.779      0.567      0.624      0.339\n",
      "\n",
      "      Epoch    GPU_mem   box_loss   cls_loss   dfl_loss  Instances       Size\n"
     ]
    },
    {
     "name": "stderr",
     "output_type": "stream",
     "text": [
      "    295/300     0.691G      1.163      0.762      1.065          1        640: 100%|██████████| 306/306 [00:24<00:00, 12.70it/s]\n",
      "                 Class     Images  Instances      Box(P          R      mAP50  mAP50-95): 100%|██████████| 64/64 [00:03<00:00, 19.58it/s]\n"
     ]
    },
    {
     "name": "stdout",
     "output_type": "stream",
     "text": [
      "                   all        510       1658      0.778      0.565      0.625      0.339\n",
      "\n",
      "      Epoch    GPU_mem   box_loss   cls_loss   dfl_loss  Instances       Size\n"
     ]
    },
    {
     "name": "stderr",
     "output_type": "stream",
     "text": [
      "    296/300     0.691G      1.157      0.758      1.073          8        640: 100%|██████████| 306/306 [00:23<00:00, 12.93it/s]\n",
      "                 Class     Images  Instances      Box(P          R      mAP50  mAP50-95): 100%|██████████| 64/64 [00:03<00:00, 21.31it/s]\n"
     ]
    },
    {
     "name": "stdout",
     "output_type": "stream",
     "text": [
      "                   all        510       1658      0.781      0.561      0.626      0.341\n",
      "\n",
      "      Epoch    GPU_mem   box_loss   cls_loss   dfl_loss  Instances       Size\n"
     ]
    },
    {
     "name": "stderr",
     "output_type": "stream",
     "text": [
      "    297/300     0.691G      1.166     0.7467      1.076          4        640: 100%|██████████| 306/306 [00:24<00:00, 12.37it/s]\n",
      "                 Class     Images  Instances      Box(P          R      mAP50  mAP50-95): 100%|██████████| 64/64 [00:03<00:00, 19.05it/s]\n"
     ]
    },
    {
     "name": "stdout",
     "output_type": "stream",
     "text": [
      "                   all        510       1658      0.786      0.564      0.626       0.34\n",
      "\n",
      "      Epoch    GPU_mem   box_loss   cls_loss   dfl_loss  Instances       Size\n"
     ]
    },
    {
     "name": "stderr",
     "output_type": "stream",
     "text": [
      "    298/300     0.691G      1.163     0.7493       1.07          4        640: 100%|██████████| 306/306 [00:24<00:00, 12.50it/s]\n",
      "                 Class     Images  Instances      Box(P          R      mAP50  mAP50-95): 100%|██████████| 64/64 [00:03<00:00, 19.89it/s]\n"
     ]
    },
    {
     "name": "stdout",
     "output_type": "stream",
     "text": [
      "                   all        510       1658      0.784      0.559      0.624      0.339\n",
      "\n",
      "      Epoch    GPU_mem   box_loss   cls_loss   dfl_loss  Instances       Size\n"
     ]
    },
    {
     "name": "stderr",
     "output_type": "stream",
     "text": [
      "    299/300     0.691G      1.164     0.7541      1.067         12        640: 100%|██████████| 306/306 [00:24<00:00, 12.46it/s]\n",
      "                 Class     Images  Instances      Box(P          R      mAP50  mAP50-95): 100%|██████████| 64/64 [00:03<00:00, 20.48it/s]\n"
     ]
    },
    {
     "name": "stdout",
     "output_type": "stream",
     "text": [
      "                   all        510       1658      0.782      0.557      0.623      0.339\n",
      "\n",
      "      Epoch    GPU_mem   box_loss   cls_loss   dfl_loss  Instances       Size\n"
     ]
    },
    {
     "name": "stderr",
     "output_type": "stream",
     "text": [
      "    300/300     0.691G      1.151     0.7402      1.057          1        640: 100%|██████████| 306/306 [00:24<00:00, 12.34it/s]\n",
      "                 Class     Images  Instances      Box(P          R      mAP50  mAP50-95): 100%|██████████| 64/64 [00:03<00:00, 19.07it/s]\n"
     ]
    },
    {
     "name": "stdout",
     "output_type": "stream",
     "text": [
      "                   all        510       1658      0.734      0.575      0.625      0.339\n",
      "\n",
      "207 epochs completed in 1.687 hours.\n",
      "Optimizer stripped from /mnt/sdb/home/si25_osts0525/UAV_Inspection_System/target_results/yolov8n_scratch300/inspection_yolov8n_scratch300/weights/last.pt, 6.3MB\n",
      "Optimizer stripped from /mnt/sdb/home/si25_osts0525/UAV_Inspection_System/target_results/yolov8n_scratch300/inspection_yolov8n_scratch300/weights/best.pt, 6.3MB\n",
      "\n",
      "Validating /mnt/sdb/home/si25_osts0525/UAV_Inspection_System/target_results/yolov8n_scratch300/inspection_yolov8n_scratch300/weights/best.pt...\n",
      "Ultralytics 8.3.167 🚀 Python-3.11.13 torch-2.6.0+cu124 CUDA:1 (Quadro RTX 6000, 24024MiB)\n",
      "                                                        CUDA:2 (Quadro RTX 6000, 24024MiB)\n",
      "YOLOv8n summary (fused): 72 layers, 3,007,013 parameters, 0 gradients, 8.1 GFLOPs\n"
     ]
    },
    {
     "name": "stderr",
     "output_type": "stream",
     "text": [
      "                 Class     Images  Instances      Box(P          R      mAP50  mAP50-95): 100%|██████████| 64/64 [00:03<00:00, 19.94it/s]\n"
     ]
    },
    {
     "name": "stdout",
     "output_type": "stream",
     "text": [
      "                   all        510       1658      0.779      0.576       0.64      0.349\n",
      "              Birdnest         96        102      0.854      0.873      0.859      0.469\n",
      "      Broken_Insulator         78        126      0.756      0.437      0.564      0.326\n",
      "      Defective_Damper         24         60      0.751      0.302      0.384       0.13\n",
      "   Flashover_Insulator         69        180      0.691       0.55      0.589      0.299\n",
      "         Normal_Damper        156        590      0.807      0.537      0.605       0.32\n",
      "     Normal_Insulators        177        351      0.754      0.621      0.685       0.38\n",
      "Self-Exploded_Insulator        216        249      0.842      0.715      0.793      0.521\n",
      "Speed: 0.4ms preprocess, 1.3ms inference, 0.0ms loss, 1.0ms postprocess per image\n",
      "Results saved to \u001b[1m/mnt/sdb/home/si25_osts0525/UAV_Inspection_System/target_results/yolov8n_scratch300/inspection_yolov8n_scratch300\u001b[0m\n",
      "Evaluate on TEST set...\n",
      "Searching for 2 idle GPUs with free memory >= 20.0% and free utilization >= 0.0%...\n",
      "Selected idle CUDA devices [0, 1]\n",
      "Ultralytics 8.3.167 🚀 Python-3.11.13 torch-2.6.0+cu124 CUDA:0 (Quadro RTX 6000, 24024MiB)\n",
      "                                                        CUDA:1 (Quadro RTX 6000, 24024MiB)\n",
      "YOLOv8n summary (fused): 72 layers, 3,007,013 parameters, 0 gradients, 8.1 GFLOPs\n",
      "\u001b[34m\u001b[1mval: \u001b[0mFast image access ✅ (ping: 0.0±0.0 ms, read: 1193.1±712.8 MB/s, size: 52.6 KB)\n"
     ]
    },
    {
     "name": "stderr",
     "output_type": "stream",
     "text": [
      "\u001b[34m\u001b[1mval: \u001b[0mScanning /mnt/sdb/home/si25_osts0525/UAV_Inspection_System/dataset/target/test/labels.cache... 537 images, 0 backgrounds, 0 corrupt: 100%|██████████| 537/537 [00:00<?, ?i\u001b[0m\n",
      "                 Class     Images  Instances      Box(P          R      mAP50  mAP50-95): 100%|██████████| 34/34 [00:07<00:00,  4.80it/s]\n"
     ]
    },
    {
     "name": "stdout",
     "output_type": "stream",
     "text": [
      "                   all        537       1842      0.814      0.588      0.711      0.416\n",
      "              Birdnest         96         99      0.783      0.727      0.733       0.39\n",
      "      Broken_Insulator         78        114      0.785      0.447      0.633      0.403\n",
      "      Defective_Damper         33         66      0.795       0.47      0.654      0.329\n",
      "   Flashover_Insulator         75        198      0.831       0.52       0.68      0.355\n",
      "         Normal_Damper        168        597      0.816      0.558      0.695      0.398\n",
      "     Normal_Insulators        189        486        0.8      0.698      0.756      0.491\n",
      "Self-Exploded_Insulator        219        282      0.887      0.699      0.823      0.544\n",
      "Speed: 0.2ms preprocess, 1.9ms inference, 0.0ms loss, 1.3ms postprocess per image\n",
      "Saving /mnt/sdb/home/si25_osts0525/UAV_Inspection_System/test_results/Target/inspection_yolov8n2/predictions.json...\n",
      "Results saved to \u001b[1m/mnt/sdb/home/si25_osts0525/UAV_Inspection_System/test_results/Target/inspection_yolov8n2\u001b[0m\n"
     ]
    }
   ],
   "source": [
    "#-----------------------------------------For resume training purposes---------------------------------\n",
    "source_result_dir = Path(source_result_dir)   # ← convert if they were str\n",
    "target_result_dir = Path(target_result_dir)\n",
    "\n",
    "checkpoint = 2\n",
    "\n",
    "\n",
    "#retrieve the index of the resume model\n",
    "resume_index = test_models.index(resume_model)\n",
    "\n",
    "\n",
    "#retrieve the most recent version number\n",
    "#check if is resuming to Pretrain stage or Target/finetune stage and set directory\n",
    "most_recent_ver = 0\n",
    "if checkpoint == 1:\n",
    "    resume_dir = find_recent_ver(source_result_dir)\n",
    "else:\n",
    "    resume_dir = find_recent_ver(target_result_dir)\n",
    "\n",
    "result_maps = {}\n",
    "result_precision = {}\n",
    "result_recall = {}\n",
    "result_f1 = {}\n",
    "result_preprocess_speed = {}\n",
    "result_inference_speed = {}\n",
    "result_postprocess_speed = {}\n",
    "\n",
    "#resume training from most recent trained model\n",
    "for model in test_models[resume_index:]:\n",
    "    name, metrics = training_pipeline(CVmodel = model, \n",
    "                                      src_yaml = source_data_yaml, \n",
    "                                      tar_yaml = target_data_yaml,\n",
    "                                      resume =True,\n",
    "                                      resume_directory = resume_dir,\n",
    "                                      src_eps = 250,\n",
    "                                      tar_eps = 300)\n",
    "    result_maps[name] = metrics.box.map50\n",
    "    result_precision[name] = metrics.box.p\n",
    "    result_recall[name] = metrics.box.r\n",
    "    result_f1[name] = metrics.box.f1\n",
    "    result_preprocess_speed[name] = metrics.speed[\"preprocess\"]\n",
    "    result_inference_speed[name] = metrics.speed[\"inference\"]\n",
    "    result_postprocess_speed[name] = metrics.speed[\"postprocess\"]\n",
    "        \n",
    "        "
   ]
  },
  {
   "cell_type": "code",
   "execution_count": null,
   "id": "63a6d313-2c28-44e7-ac62-cf610dcdc83d",
   "metadata": {},
   "outputs": [],
   "source": []
  }
 ],
 "metadata": {
  "kernelspec": {
   "display_name": "Python 3 (ipykernel)",
   "language": "python",
   "name": "python3"
  },
  "language_info": {
   "codemirror_mode": {
    "name": "ipython",
    "version": 3
   },
   "file_extension": ".py",
   "mimetype": "text/x-python",
   "name": "python",
   "nbconvert_exporter": "python",
   "pygments_lexer": "ipython3",
   "version": "3.11.13"
  }
 },
 "nbformat": 4,
 "nbformat_minor": 5
}
